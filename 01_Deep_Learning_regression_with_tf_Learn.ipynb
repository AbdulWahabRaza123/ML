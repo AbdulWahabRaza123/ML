{
  "nbformat": 4,
  "nbformat_minor": 0,
  "metadata": {
    "colab": {
      "provenance": [],
      "collapsed_sections": [],
      "include_colab_link": true
    },
    "kernelspec": {
      "name": "python3",
      "display_name": "Python 3"
    },
    "language_info": {
      "name": "python"
    }
  },
  "cells": [
    {
      "cell_type": "markdown",
      "metadata": {
        "id": "view-in-github",
        "colab_type": "text"
      },
      "source": [
        "<a href=\"https://colab.research.google.com/github/AbdulWahabRaza123/ML/blob/main/01_Deep_Learning_regression_with_tf_Learn.ipynb\" target=\"_parent\"><img src=\"https://colab.research.google.com/assets/colab-badge.svg\" alt=\"Open In Colab\"/></a>"
      ]
    },
    {
      "cell_type": "markdown",
      "source": [
        "##Introduction to Neural Network with tf\n",
        "We are going to predict the number using neural network"
      ],
      "metadata": {
        "id": "0RQ__NEeRo01"
      }
    },
    {
      "cell_type": "code",
      "execution_count": null,
      "metadata": {
        "colab": {
          "base_uri": "https://localhost:8080/"
        },
        "id": "Y9sSHxHDQj0q",
        "outputId": "4054f3f5-d778-4be8-ec6c-e4f856538e1c"
      },
      "outputs": [
        {
          "output_type": "stream",
          "name": "stdout",
          "text": [
            "2.8.2\n"
          ]
        }
      ],
      "source": [
        "#importing tensorflow\n",
        "import tensorflow as tf\n",
        "print(tf.__version__)"
      ]
    },
    {
      "cell_type": "markdown",
      "source": [
        "##Creating Data to view and fit"
      ],
      "metadata": {
        "id": "qTnYSRfISZ2P"
      }
    },
    {
      "cell_type": "code",
      "source": [
        "import numpy as np\n",
        "import matplotlib.pyplot as plt\n",
        "#Creating Features\n",
        "X=np.array([-7.0,-4.0,-1.0,2.0,5.0,8.0,11.0,14.0])\n",
        "#Creating labels/outputs\n",
        "y=np.array([3.0,6.0,9.0,12.0,15.0,18.0,21.0,24.0])\n",
        "#visualize it\n",
        "plt.scatter(X,y)"
      ],
      "metadata": {
        "colab": {
          "base_uri": "https://localhost:8080/",
          "height": 286
        },
        "id": "ax_gyTS6Rn8b",
        "outputId": "1e1e668a-e4fe-47fd-bf6c-d26b39d90c20"
      },
      "execution_count": null,
      "outputs": [
        {
          "output_type": "execute_result",
          "data": {
            "text/plain": [
              "<matplotlib.collections.PathCollection at 0x7f0dd0d6c610>"
            ]
          },
          "metadata": {},
          "execution_count": 4
        },
        {
          "output_type": "display_data",
          "data": {
            "text/plain": [
              "<Figure size 432x288 with 1 Axes>"
            ],
            "image/png": "[encoded data removed]"
          },
          "metadata": {
            "needs_background": "light"
          }
        }
      ]
    },
    {
      "cell_type": "code",
      "source": [
        "#So this is the pattern which neural network should have to learn\n",
        "y==X+10"
      ],
      "metadata": {
        "colab": {
          "base_uri": "https://localhost:8080/"
        },
        "id": "1qjdTDqkUsAB",
        "outputId": "f8189c67-0173-4617-acc5-ae9e6f94e005"
      },
      "execution_count": null,
      "outputs": [
        {
          "output_type": "execute_result",
          "data": {
            "text/plain": [
              "array([ True,  True,  True,  True,  True,  True,  True,  True])"
            ]
          },
          "metadata": {},
          "execution_count": 5
        }
      ]
    },
    {
      "cell_type": "markdown",
      "source": [
        "##Input and Output shapes"
      ],
      "metadata": {
        "id": "C2zanOeDVhtH"
      }
    },
    {
      "cell_type": "code",
      "source": [
        "#Creating demo tensor for out house price prediction problem\n",
        "house_info=tf.constant([\"bedroom\",\"bathroom\",\"garage\"])\n",
        "house_price=tf.constant([939700])\n",
        "house_info,house_price"
      ],
      "metadata": {
        "colab": {
          "base_uri": "https://localhost:8080/"
        },
        "id": "MoabHje6VQJN",
        "outputId": "1c34a5c8-05d2-42bc-96c2-20e2bf149546"
      },
      "execution_count": null,
      "outputs": [
        {
          "output_type": "execute_result",
          "data": {
            "text/plain": [
              "(<tf.Tensor: shape=(3,), dtype=string, numpy=array([b'bedroom', b'bathroom', b'garage'], dtype=object)>,\n",
              " <tf.Tensor: shape=(1,), dtype=int32, numpy=array([939700], dtype=int32)>)"
            ]
          },
          "metadata": {},
          "execution_count": 6
        }
      ]
    },
    {
      "cell_type": "code",
      "source": [
        "input_shape=X[0].shape\n",
        "output_shape=y[0].shape\n",
        "input_shape,output_shape"
      ],
      "metadata": {
        "colab": {
          "base_uri": "https://localhost:8080/"
        },
        "id": "yXWnXT2jWCL7",
        "outputId": "08ce7611-3479-4a67-c3c5-ae1b175bf40a"
      },
      "execution_count": null,
      "outputs": [
        {
          "output_type": "execute_result",
          "data": {
            "text/plain": [
              "((), ())"
            ]
          },
          "metadata": {},
          "execution_count": 7
        }
      ]
    },
    {
      "cell_type": "code",
      "source": [
        "X[0].ndim"
      ],
      "metadata": {
        "id": "QSpBgpWPWUP3",
        "colab": {
          "base_uri": "https://localhost:8080/"
        },
        "outputId": "601a7bee-c20d-46cf-8560-66c213ebeb97"
      },
      "execution_count": null,
      "outputs": [
        {
          "output_type": "execute_result",
          "data": {
            "text/plain": [
              "0"
            ]
          },
          "metadata": {},
          "execution_count": 8
        }
      ]
    },
    {
      "cell_type": "code",
      "source": [
        "#Turn our numpy array into tensors\n",
        "X=tf.cast(tf.constant(X),dtype=tf.float32)\n",
        "y=tf.cast(tf.constant(y),dtype=tf.float32)\n",
        "X,y"
      ],
      "metadata": {
        "colab": {
          "base_uri": "https://localhost:8080/"
        },
        "id": "ftx9FKKCZidF",
        "outputId": "145643c9-0c56-48d7-f2ef-2affd150bcef"
      },
      "execution_count": null,
      "outputs": [
        {
          "output_type": "execute_result",
          "data": {
            "text/plain": [
              "(<tf.Tensor: shape=(8,), dtype=float32, numpy=array([-7., -4., -1.,  2.,  5.,  8., 11., 14.], dtype=float32)>,\n",
              " <tf.Tensor: shape=(8,), dtype=float32, numpy=array([ 3.,  6.,  9., 12., 15., 18., 21., 24.], dtype=float32)>)"
            ]
          },
          "metadata": {},
          "execution_count": 9
        }
      ]
    },
    {
      "cell_type": "code",
      "source": [
        "X[0].ndim"
      ],
      "metadata": {
        "colab": {
          "base_uri": "https://localhost:8080/"
        },
        "id": "k3o5nsYmZ0SR",
        "outputId": "7017f6d1-1d5b-4fdd-ad83-5b6f7509da2c"
      },
      "execution_count": null,
      "outputs": [
        {
          "output_type": "execute_result",
          "data": {
            "text/plain": [
              "0"
            ]
          },
          "metadata": {},
          "execution_count": 10
        }
      ]
    },
    {
      "cell_type": "code",
      "source": [
        "input_shape=X[0].shape\n",
        "output_shape=y[0].shape\n",
        "input_shape,output_shape"
      ],
      "metadata": {
        "colab": {
          "base_uri": "https://localhost:8080/"
        },
        "id": "dTm4FBMgZ1_F",
        "outputId": "c83013a3-d2ae-4900-b402-2d4a476b1eb1"
      },
      "execution_count": null,
      "outputs": [
        {
          "output_type": "execute_result",
          "data": {
            "text/plain": [
              "(TensorShape([]), TensorShape([]))"
            ]
          },
          "metadata": {},
          "execution_count": 11
        }
      ]
    },
    {
      "cell_type": "code",
      "source": [
        "plt.scatter(X,y)"
      ],
      "metadata": {
        "colab": {
          "base_uri": "https://localhost:8080/",
          "height": 286
        },
        "id": "O8jsU__samt7",
        "outputId": "0688a2f1-78bc-47f3-8b19-880acc054cb7"
      },
      "execution_count": null,
      "outputs": [
        {
          "output_type": "execute_result",
          "data": {
            "text/plain": [
              "<matplotlib.collections.PathCollection at 0x7f0dcfd80810>"
            ]
          },
          "metadata": {},
          "execution_count": 12
        },
        {
          "output_type": "display_data",
          "data": {
            "text/plain": [
              "<Figure size 432x288 with 1 Axes>"
            ],
            "image/png": "[encoded data removed]"
          },
          "metadata": {
            "needs_background": "light"
          }
        }
      ]
    },
    {
      "cell_type": "markdown",
      "source": [
        "##Steps in Modeling with tensorflow\n",
        "1. **Creating a Model**, define input layer, output layer and hidden layer\n",
        "2. **Compiling a Model**- define a loss function (this is a function which tells our model how wrong it is) and optimizer ( which tell how to improve patterns in learning) and evaluation matrice (to tell the performance of model)\n",
        "3. **Fitting th model** (it will find the pattern between X and Y (features and labels)"
      ],
      "metadata": {
        "id": "mz82DB_Haw2J"
      }
    },
    {
      "cell_type": "code",
      "source": [
        "# #optionally first layer can recieve input shape argument\n",
        "# #we can als use this method for creating sequential method\n",
        "# model=tf.keras.Sequential()\n",
        "# model.add(tf.keras.layers.Dense(8,input_shape=(16,)))\n",
        "# #Afterward we d automatic shape inference\n",
        "# model.add(tf.keras.layers.Dense(4))"
      ],
      "metadata": {
        "id": "mjzzwBwuop6U"
      },
      "execution_count": null,
      "outputs": []
    },
    {
      "cell_type": "code",
      "source": [
        "X.dtype,y.dtype,X.ndim,y.ndim"
      ],
      "metadata": {
        "colab": {
          "base_uri": "https://localhost:8080/"
        },
        "id": "oAuOhqm-rm0S",
        "outputId": "785c4d3a-47d7-4258-d958-4e39710c8bd5"
      },
      "execution_count": null,
      "outputs": [
        {
          "output_type": "execute_result",
          "data": {
            "text/plain": [
              "(tf.float32, tf.float32, 1, 1)"
            ]
          },
          "metadata": {},
          "execution_count": 14
        }
      ]
    },
    {
      "cell_type": "code",
      "source": [
        "# X=tf.reshape(X,(2,4))\n",
        "# y=tf.reshape(y,(2,4))\n",
        "# X.shape,y.shape\n",
        "# pylint --generate-rcfile\n",
        "import warnings\n",
        "warnings.filterwarnings('ignore')"
      ],
      "metadata": {
        "id": "RV9F6bS4y0Nv"
      },
      "execution_count": null,
      "outputs": []
    },
    {
      "cell_type": "code",
      "source": [
        "#set random seed\n",
        "tf.random.set_seed(42)\n",
        "#creating model using sequential API\n",
        "model=tf.keras.Sequential([\n",
        "    tf.keras.layers.Dense(1,input_shape=(1,)) #this is the output layer\n",
        "])\n",
        "#Compile the model\n",
        "model.compile(\n",
        "    loss=tf.keras.losses.mae,#mean absolute error\n",
        "    # loss=\"mae\"\n",
        "              optimizer=tf.keras.optimizers.SGD(),#stochastic gradient decent\n",
        "              metrics=[\"mae\"]\n",
        "              )\n",
        "#fitting the model\n",
        "model.fit(X,y,epochs=5)"
      ],
      "metadata": {
        "colab": {
          "base_uri": "https://localhost:8080/"
        },
        "id": "F8SjFx3RavUX",
        "outputId": "53aa5150-e0b1-4ca5-c15b-434bc359901e"
      },
      "execution_count": null,
      "outputs": [
        {
          "output_type": "stream",
          "name": "stdout",
          "text": [
            "Epoch 1/5\n",
            "1/1 [==============================] - 1s 799ms/step - loss: 11.5048 - mae: 11.5048\n",
            "Epoch 2/5\n",
            "1/1 [==============================] - 0s 9ms/step - loss: 11.3723 - mae: 11.3723\n",
            "Epoch 3/5\n",
            "1/1 [==============================] - 0s 11ms/step - loss: 11.2398 - mae: 11.2398\n",
            "Epoch 4/5\n",
            "1/1 [==============================] - 0s 11ms/step - loss: 11.1073 - mae: 11.1073\n",
            "Epoch 5/5\n",
            "1/1 [==============================] - 0s 11ms/step - loss: 10.9748 - mae: 10.9748\n"
          ]
        },
        {
          "output_type": "execute_result",
          "data": {
            "text/plain": [
              "<keras.callbacks.History at 0x7f0dcb9fc150>"
            ]
          },
          "metadata": {},
          "execution_count": 16
        }
      ]
    },
    {
      "cell_type": "code",
      "source": [
        "X,y"
      ],
      "metadata": {
        "colab": {
          "base_uri": "https://localhost:8080/"
        },
        "id": "TqcCLQIf_Iha",
        "outputId": "1b3fda0f-921a-40ba-f05a-90f66d87265e"
      },
      "execution_count": null,
      "outputs": [
        {
          "output_type": "execute_result",
          "data": {
            "text/plain": [
              "(<tf.Tensor: shape=(8,), dtype=float32, numpy=array([-7., -4., -1.,  2.,  5.,  8., 11., 14.], dtype=float32)>,\n",
              " <tf.Tensor: shape=(8,), dtype=float32, numpy=array([ 3.,  6.,  9., 12., 15., 18., 21., 24.], dtype=float32)>)"
            ]
          },
          "metadata": {},
          "execution_count": 17
        }
      ]
    },
    {
      "cell_type": "code",
      "source": [
        "#predicting values\n",
        "y_predict=model.predict([17.0])\n",
        "y_predict"
      ],
      "metadata": {
        "colab": {
          "base_uri": "https://localhost:8080/"
        },
        "id": "ZJkWQbde9WtR",
        "outputId": "b39e5e05-b77d-44f7-93a6-e3ad6bc0b257"
      },
      "execution_count": null,
      "outputs": [
        {
          "output_type": "execute_result",
          "data": {
            "text/plain": [
              "array([[12.716021]], dtype=float32)"
            ]
          },
          "metadata": {},
          "execution_count": 18
        }
      ]
    },
    {
      "cell_type": "code",
      "source": [
        "#this should be predicted output\n",
        "y_predict+15"
      ],
      "metadata": {
        "colab": {
          "base_uri": "https://localhost:8080/"
        },
        "id": "h6LLPkxmBf04",
        "outputId": "05dfecc2-481f-4296-c154-400be7c86149"
      },
      "execution_count": null,
      "outputs": [
        {
          "output_type": "execute_result",
          "data": {
            "text/plain": [
              "array([[27.71602]], dtype=float32)"
            ]
          },
          "metadata": {},
          "execution_count": 19
        }
      ]
    },
    {
      "cell_type": "markdown",
      "source": [
        "##Improving Model\n",
        "We can improve the model using these steps\n",
        "1. **Create the model**: Here we will add more layers in model, increase number of hidden layers, changing activation function in hidden layer\n",
        "2. **Compiling the Model**: Here we can change the optimization function or learnign rate\n",
        "3. **Fitting the Model**: Here we can add more trainning data in  the model and increase the increase the size of epochs in while fitting the data"
      ],
      "metadata": {
        "id": "xOGRsFR1BHAV"
      }
    },
    {
      "cell_type": "code",
      "source": [
        "#let's rebuild the model\n",
        "#create the model\n",
        "model=tf.keras.Sequential([\n",
        "    tf.keras.layers.Dense(1,input_shape=(1,))\n",
        "])\n",
        "#compile the model\n",
        "model.compile(loss=tf.keras.losses.mae,\n",
        "              optimizer=tf.keras.optimizers.SGD(),\n",
        "              metrics=[\"mae\"]\n",
        "              )\n",
        "#fitting the model\n",
        "model.fit(X,y,epochs=100)\n"
      ],
      "metadata": {
        "colab": {
          "base_uri": "https://localhost:8080/"
        },
        "id": "GKb30FEC-s_f",
        "outputId": "25dabfe8-10e5-464c-b3ef-c07229d3c2f6"
      },
      "execution_count": null,
      "outputs": [
        {
          "output_type": "stream",
          "name": "stdout",
          "text": [
            "Epoch 1/100\n",
            "1/1 [==============================] - 0s 289ms/step - loss: 11.2219 - mae: 11.2219\n",
            "Epoch 2/100\n",
            "1/1 [==============================] - 0s 10ms/step - loss: 11.0894 - mae: 11.0894\n",
            "Epoch 3/100\n",
            "1/1 [==============================] - 0s 7ms/step - loss: 10.9569 - mae: 10.9569\n",
            "Epoch 4/100\n",
            "1/1 [==============================] - 0s 8ms/step - loss: 10.8244 - mae: 10.8244\n",
            "Epoch 5/100\n",
            "1/1 [==============================] - 0s 9ms/step - loss: 10.6919 - mae: 10.6919\n",
            "Epoch 6/100\n",
            "1/1 [==============================] - 0s 10ms/step - loss: 10.5594 - mae: 10.5594\n",
            "Epoch 7/100\n",
            "1/1 [==============================] - 0s 9ms/step - loss: 10.4269 - mae: 10.4269\n",
            "Epoch 8/100\n",
            "1/1 [==============================] - 0s 8ms/step - loss: 10.2944 - mae: 10.2944\n",
            "Epoch 9/100\n",
            "1/1 [==============================] - 0s 7ms/step - loss: 10.1619 - mae: 10.1619\n",
            "Epoch 10/100\n",
            "1/1 [==============================] - 0s 12ms/step - loss: 10.0294 - mae: 10.0294\n",
            "Epoch 11/100\n",
            "1/1 [==============================] - 0s 7ms/step - loss: 9.8969 - mae: 9.8969\n",
            "Epoch 12/100\n",
            "1/1 [==============================] - 0s 8ms/step - loss: 9.7644 - mae: 9.7644\n",
            "Epoch 13/100\n",
            "1/1 [==============================] - 0s 9ms/step - loss: 9.6319 - mae: 9.6319\n",
            "Epoch 14/100\n",
            "1/1 [==============================] - 0s 9ms/step - loss: 9.4994 - mae: 9.4994\n",
            "Epoch 15/100\n",
            "1/1 [==============================] - 0s 6ms/step - loss: 9.3669 - mae: 9.3669\n",
            "Epoch 16/100\n",
            "1/1 [==============================] - 0s 6ms/step - loss: 9.2344 - mae: 9.2344\n",
            "Epoch 17/100\n",
            "1/1 [==============================] - 0s 7ms/step - loss: 9.1019 - mae: 9.1019\n",
            "Epoch 18/100\n",
            "1/1 [==============================] - 0s 6ms/step - loss: 8.9694 - mae: 8.9694\n",
            "Epoch 19/100\n",
            "1/1 [==============================] - 0s 6ms/step - loss: 8.8369 - mae: 8.8369\n",
            "Epoch 20/100\n",
            "1/1 [==============================] - 0s 6ms/step - loss: 8.7044 - mae: 8.7044\n",
            "Epoch 21/100\n",
            "1/1 [==============================] - 0s 6ms/step - loss: 8.5719 - mae: 8.5719\n",
            "Epoch 22/100\n",
            "1/1 [==============================] - 0s 6ms/step - loss: 8.4394 - mae: 8.4394\n",
            "Epoch 23/100\n",
            "1/1 [==============================] - 0s 8ms/step - loss: 8.3069 - mae: 8.3069\n",
            "Epoch 24/100\n",
            "1/1 [==============================] - 0s 6ms/step - loss: 8.1744 - mae: 8.1744\n",
            "Epoch 25/100\n",
            "1/1 [==============================] - 0s 6ms/step - loss: 8.0419 - mae: 8.0419\n",
            "Epoch 26/100\n",
            "1/1 [==============================] - 0s 6ms/step - loss: 7.9094 - mae: 7.9094\n",
            "Epoch 27/100\n",
            "1/1 [==============================] - 0s 6ms/step - loss: 7.7769 - mae: 7.7769\n",
            "Epoch 28/100\n",
            "1/1 [==============================] - 0s 6ms/step - loss: 7.6444 - mae: 7.6444\n",
            "Epoch 29/100\n",
            "1/1 [==============================] - 0s 6ms/step - loss: 7.5119 - mae: 7.5119\n",
            "Epoch 30/100\n",
            "1/1 [==============================] - 0s 6ms/step - loss: 7.3794 - mae: 7.3794\n",
            "Epoch 31/100\n",
            "1/1 [==============================] - 0s 5ms/step - loss: 7.2750 - mae: 7.2750\n",
            "Epoch 32/100\n",
            "1/1 [==============================] - 0s 5ms/step - loss: 7.2694 - mae: 7.2694\n",
            "Epoch 33/100\n",
            "1/1 [==============================] - 0s 5ms/step - loss: 7.2638 - mae: 7.2638\n",
            "Epoch 34/100\n",
            "1/1 [==============================] - 0s 6ms/step - loss: 7.2581 - mae: 7.2581\n",
            "Epoch 35/100\n",
            "1/1 [==============================] - 0s 6ms/step - loss: 7.2525 - mae: 7.2525\n",
            "Epoch 36/100\n",
            "1/1 [==============================] - 0s 8ms/step - loss: 7.2469 - mae: 7.2469\n",
            "Epoch 37/100\n",
            "1/1 [==============================] - 0s 8ms/step - loss: 7.2412 - mae: 7.2412\n",
            "Epoch 38/100\n",
            "1/1 [==============================] - 0s 8ms/step - loss: 7.2356 - mae: 7.2356\n",
            "Epoch 39/100\n",
            "1/1 [==============================] - 0s 6ms/step - loss: 7.2300 - mae: 7.2300\n",
            "Epoch 40/100\n",
            "1/1 [==============================] - 0s 6ms/step - loss: 7.2244 - mae: 7.2244\n",
            "Epoch 41/100\n",
            "1/1 [==============================] - 0s 13ms/step - loss: 7.2188 - mae: 7.2188\n",
            "Epoch 42/100\n",
            "1/1 [==============================] - 0s 6ms/step - loss: 7.2131 - mae: 7.2131\n",
            "Epoch 43/100\n",
            "1/1 [==============================] - 0s 6ms/step - loss: 7.2075 - mae: 7.2075\n",
            "Epoch 44/100\n",
            "1/1 [==============================] - 0s 6ms/step - loss: 7.2019 - mae: 7.2019\n",
            "Epoch 45/100\n",
            "1/1 [==============================] - 0s 6ms/step - loss: 7.1962 - mae: 7.1962\n",
            "Epoch 46/100\n",
            "1/1 [==============================] - 0s 6ms/step - loss: 7.1906 - mae: 7.1906\n",
            "Epoch 47/100\n",
            "1/1 [==============================] - 0s 5ms/step - loss: 7.1850 - mae: 7.1850\n",
            "Epoch 48/100\n",
            "1/1 [==============================] - 0s 18ms/step - loss: 7.1794 - mae: 7.1794\n",
            "Epoch 49/100\n",
            "1/1 [==============================] - 0s 6ms/step - loss: 7.1737 - mae: 7.1737\n",
            "Epoch 50/100\n",
            "1/1 [==============================] - 0s 8ms/step - loss: 7.1681 - mae: 7.1681\n",
            "Epoch 51/100\n",
            "1/1 [==============================] - 0s 10ms/step - loss: 7.1625 - mae: 7.1625\n",
            "Epoch 52/100\n",
            "1/1 [==============================] - 0s 6ms/step - loss: 7.1569 - mae: 7.1569\n",
            "Epoch 53/100\n",
            "1/1 [==============================] - 0s 6ms/step - loss: 7.1512 - mae: 7.1512\n",
            "Epoch 54/100\n",
            "1/1 [==============================] - 0s 9ms/step - loss: 7.1456 - mae: 7.1456\n",
            "Epoch 55/100\n",
            "1/1 [==============================] - 0s 6ms/step - loss: 7.1400 - mae: 7.1400\n",
            "Epoch 56/100\n",
            "1/1 [==============================] - 0s 6ms/step - loss: 7.1344 - mae: 7.1344\n",
            "Epoch 57/100\n",
            "1/1 [==============================] - 0s 5ms/step - loss: 7.1287 - mae: 7.1287\n",
            "Epoch 58/100\n",
            "1/1 [==============================] - 0s 6ms/step - loss: 7.1231 - mae: 7.1231\n",
            "Epoch 59/100\n",
            "1/1 [==============================] - 0s 6ms/step - loss: 7.1175 - mae: 7.1175\n",
            "Epoch 60/100\n",
            "1/1 [==============================] - 0s 6ms/step - loss: 7.1119 - mae: 7.1119\n",
            "Epoch 61/100\n",
            "1/1 [==============================] - 0s 6ms/step - loss: 7.1062 - mae: 7.1062\n",
            "Epoch 62/100\n",
            "1/1 [==============================] - 0s 7ms/step - loss: 7.1006 - mae: 7.1006\n",
            "Epoch 63/100\n",
            "1/1 [==============================] - 0s 8ms/step - loss: 7.0950 - mae: 7.0950\n",
            "Epoch 64/100\n",
            "1/1 [==============================] - 0s 7ms/step - loss: 7.0894 - mae: 7.0894\n",
            "Epoch 65/100\n",
            "1/1 [==============================] - 0s 6ms/step - loss: 7.0838 - mae: 7.0838\n",
            "Epoch 66/100\n",
            "1/1 [==============================] - 0s 6ms/step - loss: 7.0781 - mae: 7.0781\n",
            "Epoch 67/100\n",
            "1/1 [==============================] - 0s 6ms/step - loss: 7.0725 - mae: 7.0725\n",
            "Epoch 68/100\n",
            "1/1 [==============================] - 0s 13ms/step - loss: 7.0669 - mae: 7.0669\n",
            "Epoch 69/100\n",
            "1/1 [==============================] - 0s 10ms/step - loss: 7.0613 - mae: 7.0613\n",
            "Epoch 70/100\n",
            "1/1 [==============================] - 0s 6ms/step - loss: 7.0556 - mae: 7.0556\n",
            "Epoch 71/100\n",
            "1/1 [==============================] - 0s 6ms/step - loss: 7.0500 - mae: 7.0500\n",
            "Epoch 72/100\n",
            "1/1 [==============================] - 0s 6ms/step - loss: 7.0444 - mae: 7.0444\n",
            "Epoch 73/100\n",
            "1/1 [==============================] - 0s 6ms/step - loss: 7.0388 - mae: 7.0388\n",
            "Epoch 74/100\n",
            "1/1 [==============================] - 0s 6ms/step - loss: 7.0331 - mae: 7.0331\n",
            "Epoch 75/100\n",
            "1/1 [==============================] - 0s 6ms/step - loss: 7.0275 - mae: 7.0275\n",
            "Epoch 76/100\n",
            "1/1 [==============================] - 0s 6ms/step - loss: 7.0219 - mae: 7.0219\n",
            "Epoch 77/100\n",
            "1/1 [==============================] - 0s 6ms/step - loss: 7.0163 - mae: 7.0163\n",
            "Epoch 78/100\n",
            "1/1 [==============================] - 0s 5ms/step - loss: 7.0106 - mae: 7.0106\n",
            "Epoch 79/100\n",
            "1/1 [==============================] - 0s 6ms/step - loss: 7.0050 - mae: 7.0050\n",
            "Epoch 80/100\n",
            "1/1 [==============================] - 0s 6ms/step - loss: 6.9994 - mae: 6.9994\n",
            "Epoch 81/100\n",
            "1/1 [==============================] - 0s 5ms/step - loss: 6.9938 - mae: 6.9938\n",
            "Epoch 82/100\n",
            "1/1 [==============================] - 0s 6ms/step - loss: 6.9881 - mae: 6.9881\n",
            "Epoch 83/100\n",
            "1/1 [==============================] - 0s 6ms/step - loss: 6.9825 - mae: 6.9825\n",
            "Epoch 84/100\n",
            "1/1 [==============================] - 0s 5ms/step - loss: 6.9769 - mae: 6.9769\n",
            "Epoch 85/100\n",
            "1/1 [==============================] - 0s 5ms/step - loss: 6.9713 - mae: 6.9713\n",
            "Epoch 86/100\n",
            "1/1 [==============================] - 0s 6ms/step - loss: 6.9656 - mae: 6.9656\n",
            "Epoch 87/100\n",
            "1/1 [==============================] - 0s 6ms/step - loss: 6.9600 - mae: 6.9600\n",
            "Epoch 88/100\n",
            "1/1 [==============================] - 0s 6ms/step - loss: 6.9544 - mae: 6.9544\n",
            "Epoch 89/100\n",
            "1/1 [==============================] - 0s 6ms/step - loss: 6.9488 - mae: 6.9488\n",
            "Epoch 90/100\n",
            "1/1 [==============================] - 0s 6ms/step - loss: 6.9431 - mae: 6.9431\n",
            "Epoch 91/100\n",
            "1/1 [==============================] - 0s 7ms/step - loss: 6.9375 - mae: 6.9375\n",
            "Epoch 92/100\n",
            "1/1 [==============================] - 0s 6ms/step - loss: 6.9319 - mae: 6.9319\n",
            "Epoch 93/100\n",
            "1/1 [==============================] - 0s 6ms/step - loss: 6.9263 - mae: 6.9263\n",
            "Epoch 94/100\n",
            "1/1 [==============================] - 0s 6ms/step - loss: 6.9206 - mae: 6.9206\n",
            "Epoch 95/100\n",
            "1/1 [==============================] - 0s 6ms/step - loss: 6.9150 - mae: 6.9150\n",
            "Epoch 96/100\n",
            "1/1 [==============================] - 0s 5ms/step - loss: 6.9094 - mae: 6.9094\n",
            "Epoch 97/100\n",
            "1/1 [==============================] - 0s 6ms/step - loss: 6.9038 - mae: 6.9038\n",
            "Epoch 98/100\n",
            "1/1 [==============================] - 0s 5ms/step - loss: 6.8981 - mae: 6.8981\n",
            "Epoch 99/100\n",
            "1/1 [==============================] - 0s 6ms/step - loss: 6.8925 - mae: 6.8925\n",
            "Epoch 100/100\n",
            "1/1 [==============================] - 0s 5ms/step - loss: 6.8869 - mae: 6.8869\n"
          ]
        },
        {
          "output_type": "execute_result",
          "data": {
            "text/plain": [
              "<keras.callbacks.History at 0x7f0dcb9a1210>"
            ]
          },
          "metadata": {},
          "execution_count": 20
        }
      ]
    },
    {
      "cell_type": "code",
      "source": [
        "model.predict([17.0])"
      ],
      "metadata": {
        "colab": {
          "base_uri": "https://localhost:8080/"
        },
        "id": "l2Yl-uSBErrd",
        "outputId": "4567e00c-9002-4570-ed4b-ada38fe1ee68"
      },
      "execution_count": null,
      "outputs": [
        {
          "output_type": "execute_result",
          "data": {
            "text/plain": [
              "array([[29.739855]], dtype=float32)"
            ]
          },
          "metadata": {},
          "execution_count": 21
        }
      ]
    },
    {
      "cell_type": "code",
      "source": [
        "#Again Improving Model to increase the accuracy of prediction\n",
        "#Create the model\n",
        "model=tf.keras.Sequential([\n",
        "    tf.keras.layers.Dense(50,activation=None,input_shape=(1,)),\n",
        "    tf.keras.layers.Dense(1,input_shape=(1,))\n",
        "])\n",
        "#Compile the Model\n",
        "model.compile(loss=tf.keras.losses.mae,\n",
        "              optimizer=tf.keras.optimizers.Adam(lr=0.01),\n",
        "              metrics=\"mae\"\n",
        "              )\n",
        "#fit the model\n",
        "model.fit(X,y,epochs=100)"
      ],
      "metadata": {
        "colab": {
          "base_uri": "https://localhost:8080/"
        },
        "id": "afu9VvfGE9Mf",
        "outputId": "c3d72079-4b84-4d07-ad40-724cdeea9ff8"
      },
      "execution_count": null,
      "outputs": [
        {
          "output_type": "stream",
          "name": "stdout",
          "text": [
            "Epoch 1/100\n",
            "1/1 [==============================] - 1s 503ms/step - loss: 11.7682 - mae: 11.7682\n",
            "Epoch 2/100\n",
            "1/1 [==============================] - 0s 14ms/step - loss: 11.0963 - mae: 11.0963\n",
            "Epoch 3/100\n",
            "1/1 [==============================] - 0s 8ms/step - loss: 10.4150 - mae: 10.4150\n",
            "Epoch 4/100\n",
            "1/1 [==============================] - 0s 11ms/step - loss: 9.7212 - mae: 9.7212\n",
            "Epoch 5/100\n",
            "1/1 [==============================] - 0s 10ms/step - loss: 9.0104 - mae: 9.0104\n",
            "Epoch 6/100\n",
            "1/1 [==============================] - 0s 8ms/step - loss: 8.2778 - mae: 8.2778\n",
            "Epoch 7/100\n",
            "1/1 [==============================] - 0s 8ms/step - loss: 7.5198 - mae: 7.5198\n",
            "Epoch 8/100\n",
            "1/1 [==============================] - 0s 10ms/step - loss: 6.9648 - mae: 6.9648\n",
            "Epoch 9/100\n",
            "1/1 [==============================] - 0s 9ms/step - loss: 7.0672 - mae: 7.0672\n",
            "Epoch 10/100\n",
            "1/1 [==============================] - 0s 8ms/step - loss: 7.3315 - mae: 7.3315\n",
            "Epoch 11/100\n",
            "1/1 [==============================] - 0s 10ms/step - loss: 7.4673 - mae: 7.4673\n",
            "Epoch 12/100\n",
            "1/1 [==============================] - 0s 10ms/step - loss: 7.5285 - mae: 7.5285\n",
            "Epoch 13/100\n",
            "1/1 [==============================] - 0s 7ms/step - loss: 7.4011 - mae: 7.4011\n",
            "Epoch 14/100\n",
            "1/1 [==============================] - 0s 8ms/step - loss: 7.1923 - mae: 7.1923\n",
            "Epoch 15/100\n",
            "1/1 [==============================] - 0s 8ms/step - loss: 6.9575 - mae: 6.9575\n",
            "Epoch 16/100\n",
            "1/1 [==============================] - 0s 7ms/step - loss: 6.6953 - mae: 6.6953\n",
            "Epoch 17/100\n",
            "1/1 [==============================] - 0s 13ms/step - loss: 6.4127 - mae: 6.4127\n",
            "Epoch 18/100\n",
            "1/1 [==============================] - 0s 10ms/step - loss: 6.3048 - mae: 6.3048\n",
            "Epoch 19/100\n",
            "1/1 [==============================] - 0s 7ms/step - loss: 6.2575 - mae: 6.2575\n",
            "Epoch 20/100\n",
            "1/1 [==============================] - 0s 7ms/step - loss: 6.3982 - mae: 6.3982\n",
            "Epoch 21/100\n",
            "1/1 [==============================] - 0s 7ms/step - loss: 6.4551 - mae: 6.4551\n",
            "Epoch 22/100\n",
            "1/1 [==============================] - 0s 10ms/step - loss: 6.4000 - mae: 6.4000\n",
            "Epoch 23/100\n",
            "1/1 [==============================] - 0s 8ms/step - loss: 6.2482 - mae: 6.2482\n",
            "Epoch 24/100\n",
            "1/1 [==============================] - 0s 15ms/step - loss: 6.0105 - mae: 6.0105\n",
            "Epoch 25/100\n",
            "1/1 [==============================] - 0s 8ms/step - loss: 5.7876 - mae: 5.7876\n",
            "Epoch 26/100\n",
            "1/1 [==============================] - 0s 8ms/step - loss: 5.6809 - mae: 5.6809\n",
            "Epoch 27/100\n",
            "1/1 [==============================] - 0s 9ms/step - loss: 5.5715 - mae: 5.5715\n",
            "Epoch 28/100\n",
            "1/1 [==============================] - 0s 6ms/step - loss: 5.6122 - mae: 5.6122\n",
            "Epoch 29/100\n",
            "1/1 [==============================] - 0s 6ms/step - loss: 5.6074 - mae: 5.6074\n",
            "Epoch 30/100\n",
            "1/1 [==============================] - 0s 6ms/step - loss: 5.5541 - mae: 5.5541\n",
            "Epoch 31/100\n",
            "1/1 [==============================] - 0s 6ms/step - loss: 5.4568 - mae: 5.4568\n",
            "Epoch 32/100\n",
            "1/1 [==============================] - 0s 6ms/step - loss: 5.3199 - mae: 5.3199\n",
            "Epoch 33/100\n",
            "1/1 [==============================] - 0s 6ms/step - loss: 5.1477 - mae: 5.1477\n",
            "Epoch 34/100\n",
            "1/1 [==============================] - 0s 6ms/step - loss: 4.9442 - mae: 4.9442\n",
            "Epoch 35/100\n",
            "1/1 [==============================] - 0s 6ms/step - loss: 4.8239 - mae: 4.8239\n",
            "Epoch 36/100\n",
            "1/1 [==============================] - 0s 6ms/step - loss: 4.7389 - mae: 4.7389\n",
            "Epoch 37/100\n",
            "1/1 [==============================] - 0s 5ms/step - loss: 4.6657 - mae: 4.6657\n",
            "Epoch 38/100\n",
            "1/1 [==============================] - 0s 5ms/step - loss: 4.5846 - mae: 4.5846\n",
            "Epoch 39/100\n",
            "1/1 [==============================] - 0s 6ms/step - loss: 4.4027 - mae: 4.4027\n",
            "Epoch 40/100\n",
            "1/1 [==============================] - 0s 6ms/step - loss: 4.2653 - mae: 4.2653\n",
            "Epoch 41/100\n",
            "1/1 [==============================] - 0s 6ms/step - loss: 4.1212 - mae: 4.1212\n",
            "Epoch 42/100\n",
            "1/1 [==============================] - 0s 6ms/step - loss: 3.9702 - mae: 3.9702\n",
            "Epoch 43/100\n",
            "1/1 [==============================] - 0s 6ms/step - loss: 3.8272 - mae: 3.8272\n",
            "Epoch 44/100\n",
            "1/1 [==============================] - 0s 6ms/step - loss: 3.7041 - mae: 3.7041\n",
            "Epoch 45/100\n",
            "1/1 [==============================] - 0s 6ms/step - loss: 3.5320 - mae: 3.5320\n",
            "Epoch 46/100\n",
            "1/1 [==============================] - 0s 6ms/step - loss: 3.3664 - mae: 3.3664\n",
            "Epoch 47/100\n",
            "1/1 [==============================] - 0s 6ms/step - loss: 3.2116 - mae: 3.2116\n",
            "Epoch 48/100\n",
            "1/1 [==============================] - 0s 6ms/step - loss: 3.0463 - mae: 3.0463\n",
            "Epoch 49/100\n",
            "1/1 [==============================] - 0s 6ms/step - loss: 2.8705 - mae: 2.8705\n",
            "Epoch 50/100\n",
            "1/1 [==============================] - 0s 8ms/step - loss: 2.6840 - mae: 2.6840\n",
            "Epoch 51/100\n",
            "1/1 [==============================] - 0s 10ms/step - loss: 2.4868 - mae: 2.4868\n",
            "Epoch 52/100\n",
            "1/1 [==============================] - 0s 6ms/step - loss: 2.2787 - mae: 2.2787\n",
            "Epoch 53/100\n",
            "1/1 [==============================] - 0s 6ms/step - loss: 2.0596 - mae: 2.0596\n",
            "Epoch 54/100\n",
            "1/1 [==============================] - 0s 5ms/step - loss: 1.8293 - mae: 1.8293\n",
            "Epoch 55/100\n",
            "1/1 [==============================] - 0s 6ms/step - loss: 1.5876 - mae: 1.5876\n",
            "Epoch 56/100\n",
            "1/1 [==============================] - 0s 5ms/step - loss: 1.3530 - mae: 1.3530\n",
            "Epoch 57/100\n",
            "1/1 [==============================] - 0s 5ms/step - loss: 1.0849 - mae: 1.0849\n",
            "Epoch 58/100\n",
            "1/1 [==============================] - 0s 6ms/step - loss: 0.8224 - mae: 0.8224\n",
            "Epoch 59/100\n",
            "1/1 [==============================] - 0s 8ms/step - loss: 0.5467 - mae: 0.5467\n",
            "Epoch 60/100\n",
            "1/1 [==============================] - 0s 6ms/step - loss: 0.2758 - mae: 0.2758\n",
            "Epoch 61/100\n",
            "1/1 [==============================] - 0s 6ms/step - loss: 0.1354 - mae: 0.1354\n",
            "Epoch 62/100\n",
            "1/1 [==============================] - 0s 6ms/step - loss: 0.4494 - mae: 0.4494\n",
            "Epoch 63/100\n",
            "1/1 [==============================] - 0s 6ms/step - loss: 0.6498 - mae: 0.6498\n",
            "Epoch 64/100\n",
            "1/1 [==============================] - 0s 6ms/step - loss: 0.6216 - mae: 0.6216\n",
            "Epoch 65/100\n",
            "1/1 [==============================] - 0s 7ms/step - loss: 0.8036 - mae: 0.8036\n",
            "Epoch 66/100\n",
            "1/1 [==============================] - 0s 6ms/step - loss: 0.7995 - mae: 0.7995\n",
            "Epoch 67/100\n",
            "1/1 [==============================] - 0s 7ms/step - loss: 0.7409 - mae: 0.7409\n",
            "Epoch 68/100\n",
            "1/1 [==============================] - 0s 6ms/step - loss: 0.7806 - mae: 0.7806\n",
            "Epoch 69/100\n",
            "1/1 [==============================] - 0s 6ms/step - loss: 0.6305 - mae: 0.6305\n",
            "Epoch 70/100\n",
            "1/1 [==============================] - 0s 6ms/step - loss: 0.5556 - mae: 0.5556\n",
            "Epoch 71/100\n",
            "1/1 [==============================] - 0s 5ms/step - loss: 0.4306 - mae: 0.4306\n",
            "Epoch 72/100\n",
            "1/1 [==============================] - 0s 6ms/step - loss: 0.2786 - mae: 0.2786\n",
            "Epoch 73/100\n",
            "1/1 [==============================] - 0s 6ms/step - loss: 0.1378 - mae: 0.1378\n",
            "Epoch 74/100\n",
            "1/1 [==============================] - 0s 7ms/step - loss: 0.1193 - mae: 0.1193\n",
            "Epoch 75/100\n",
            "1/1 [==============================] - 0s 7ms/step - loss: 0.2777 - mae: 0.2777\n",
            "Epoch 76/100\n",
            "1/1 [==============================] - 0s 6ms/step - loss: 0.3245 - mae: 0.3245\n",
            "Epoch 77/100\n",
            "1/1 [==============================] - 0s 6ms/step - loss: 0.4157 - mae: 0.4157\n",
            "Epoch 78/100\n",
            "1/1 [==============================] - 0s 6ms/step - loss: 0.4319 - mae: 0.4319\n",
            "Epoch 79/100\n",
            "1/1 [==============================] - 0s 5ms/step - loss: 0.3391 - mae: 0.3391\n",
            "Epoch 80/100\n",
            "1/1 [==============================] - 0s 7ms/step - loss: 0.2968 - mae: 0.2968\n",
            "Epoch 81/100\n",
            "1/1 [==============================] - 0s 11ms/step - loss: 0.2355 - mae: 0.2355\n",
            "Epoch 82/100\n",
            "1/1 [==============================] - 0s 6ms/step - loss: 0.1633 - mae: 0.1633\n",
            "Epoch 83/100\n",
            "1/1 [==============================] - 0s 6ms/step - loss: 0.1339 - mae: 0.1339\n",
            "Epoch 84/100\n",
            "1/1 [==============================] - 0s 6ms/step - loss: 0.1262 - mae: 0.1262\n",
            "Epoch 85/100\n",
            "1/1 [==============================] - 0s 9ms/step - loss: 0.1702 - mae: 0.1702\n",
            "Epoch 86/100\n",
            "1/1 [==============================] - 0s 6ms/step - loss: 0.2124 - mae: 0.2124\n",
            "Epoch 87/100\n",
            "1/1 [==============================] - 0s 6ms/step - loss: 0.2288 - mae: 0.2288\n",
            "Epoch 88/100\n",
            "1/1 [==============================] - 0s 6ms/step - loss: 0.1901 - mae: 0.1901\n",
            "Epoch 89/100\n",
            "1/1 [==============================] - 0s 6ms/step - loss: 0.1354 - mae: 0.1354\n",
            "Epoch 90/100\n",
            "1/1 [==============================] - 0s 6ms/step - loss: 0.1218 - mae: 0.1218\n",
            "Epoch 91/100\n",
            "1/1 [==============================] - 0s 6ms/step - loss: 0.0382 - mae: 0.0382\n",
            "Epoch 92/100\n",
            "1/1 [==============================] - 0s 5ms/step - loss: 0.2197 - mae: 0.2197\n",
            "Epoch 93/100\n",
            "1/1 [==============================] - 0s 5ms/step - loss: 0.2189 - mae: 0.2189\n",
            "Epoch 94/100\n",
            "1/1 [==============================] - 0s 6ms/step - loss: 0.1427 - mae: 0.1427\n",
            "Epoch 95/100\n",
            "1/1 [==============================] - 0s 6ms/step - loss: 0.1168 - mae: 0.1168\n",
            "Epoch 96/100\n",
            "1/1 [==============================] - 0s 5ms/step - loss: 0.2069 - mae: 0.2069\n",
            "Epoch 97/100\n",
            "1/1 [==============================] - 0s 6ms/step - loss: 0.1524 - mae: 0.1524\n",
            "Epoch 98/100\n",
            "1/1 [==============================] - 0s 6ms/step - loss: 0.2133 - mae: 0.2133\n",
            "Epoch 99/100\n",
            "1/1 [==============================] - 0s 6ms/step - loss: 0.2329 - mae: 0.2329\n",
            "Epoch 100/100\n",
            "1/1 [==============================] - 0s 6ms/step - loss: 0.0780 - mae: 0.0780\n"
          ]
        },
        {
          "output_type": "execute_result",
          "data": {
            "text/plain": [
              "<keras.callbacks.History at 0x7f0dcb8a4850>"
            ]
          },
          "metadata": {},
          "execution_count": 22
        }
      ]
    },
    {
      "cell_type": "code",
      "source": [
        "X,y"
      ],
      "metadata": {
        "colab": {
          "base_uri": "https://localhost:8080/"
        },
        "id": "fylUrtyAG8ZC",
        "outputId": "c949d201-9815-425c-a576-52be3c15f8b2"
      },
      "execution_count": null,
      "outputs": [
        {
          "output_type": "execute_result",
          "data": {
            "text/plain": [
              "(<tf.Tensor: shape=(8,), dtype=float32, numpy=array([-7., -4., -1.,  2.,  5.,  8., 11., 14.], dtype=float32)>,\n",
              " <tf.Tensor: shape=(8,), dtype=float32, numpy=array([ 3.,  6.,  9., 12., 15., 18., 21., 24.], dtype=float32)>)"
            ]
          },
          "metadata": {},
          "execution_count": 23
        }
      ]
    },
    {
      "cell_type": "code",
      "source": [
        "#Predict the number\n",
        "model.predict([17.0])"
      ],
      "metadata": {
        "colab": {
          "base_uri": "https://localhost:8080/"
        },
        "id": "uyUhLEYxGk6K",
        "outputId": "76eed875-d4dc-49f1-c5a2-8a813bbe0f17"
      },
      "execution_count": null,
      "outputs": [
        {
          "output_type": "execute_result",
          "data": {
            "text/plain": [
              "array([[26.58353]], dtype=float32)"
            ]
          },
          "metadata": {},
          "execution_count": 24
        }
      ]
    },
    {
      "cell_type": "markdown",
      "source": [
        "##Evaluating the Model\n",
        "There is too typical workflow you have to go through which is in repeating steps<br/>\n",
        "`build the model----fit the model----evalute the model---pull the model.....`\n",
        "\n",
        "In evaluating model we have to visualize it<br/>\n",
        "`vizualize----vizualize.....vizualize`\n",
        "\n",
        "**We will visualize these things**<br/>\n",
        "1. Data (How our data is look like)\n",
        "2. Model (How our model look like)\n",
        "3. Training (How trainning is performing on data)\n",
        "4. Predictions (How predictions we are getting)"
      ],
      "metadata": {
        "id": "Nz9PrKBcIFbt"
      }
    },
    {
      "cell_type": "code",
      "source": [
        "#Now let's try the model with bigger data set\n",
        "X=tf.range(-100,100,4) #showing every number between -100 to 100 with the gap of 4 numbers\n",
        "X"
      ],
      "metadata": {
        "colab": {
          "base_uri": "https://localhost:8080/"
        },
        "id": "jZU02OuxGugJ",
        "outputId": "2c0511c9-c9d3-4845-caca-9fdd9d7f93fd"
      },
      "execution_count": null,
      "outputs": [
        {
          "output_type": "execute_result",
          "data": {
            "text/plain": [
              "<tf.Tensor: shape=(50,), dtype=int32, numpy=\n",
              "array([-100,  -96,  -92,  -88,  -84,  -80,  -76,  -72,  -68,  -64,  -60,\n",
              "        -56,  -52,  -48,  -44,  -40,  -36,  -32,  -28,  -24,  -20,  -16,\n",
              "        -12,   -8,   -4,    0,    4,    8,   12,   16,   20,   24,   28,\n",
              "         32,   36,   40,   44,   48,   52,   56,   60,   64,   68,   72,\n",
              "         76,   80,   84,   88,   92,   96], dtype=int32)>"
            ]
          },
          "metadata": {},
          "execution_count": 25
        }
      ]
    },
    {
      "cell_type": "code",
      "source": [
        "y=X+10\n",
        "y"
      ],
      "metadata": {
        "colab": {
          "base_uri": "https://localhost:8080/"
        },
        "id": "eA-8S-qbWH51",
        "outputId": "e5f1421d-dd79-4889-91f7-f98a875cfe9e"
      },
      "execution_count": null,
      "outputs": [
        {
          "output_type": "execute_result",
          "data": {
            "text/plain": [
              "<tf.Tensor: shape=(50,), dtype=int32, numpy=\n",
              "array([-90, -86, -82, -78, -74, -70, -66, -62, -58, -54, -50, -46, -42,\n",
              "       -38, -34, -30, -26, -22, -18, -14, -10,  -6,  -2,   2,   6,  10,\n",
              "        14,  18,  22,  26,  30,  34,  38,  42,  46,  50,  54,  58,  62,\n",
              "        66,  70,  74,  78,  82,  86,  90,  94,  98, 102, 106], dtype=int32)>"
            ]
          },
          "metadata": {},
          "execution_count": 26
        }
      ]
    },
    {
      "cell_type": "code",
      "source": [
        "#Now we will plot the data using matplotlib.pyplot\n",
        "plt.scatter(X,y) #scatter is more good graph than plot"
      ],
      "metadata": {
        "colab": {
          "base_uri": "https://localhost:8080/",
          "height": 282
        },
        "id": "3gRgpovUW0yK",
        "outputId": "a0deb6b9-1bdb-40fc-9002-48a1d2a7fe81"
      },
      "execution_count": null,
      "outputs": [
        {
          "output_type": "execute_result",
          "data": {
            "text/plain": [
              "<matplotlib.collections.PathCollection at 0x7f0dcaa46950>"
            ]
          },
          "metadata": {},
          "execution_count": 27
        },
        {
          "output_type": "display_data",
          "data": {
            "text/plain": [
              "<Figure size 432x288 with 1 Axes>"
            ],
            "image/png": "[encoded data removed]"
          },
          "metadata": {
            "needs_background": "light"
          }
        }
      ]
    },
    {
      "cell_type": "markdown",
      "source": [
        "##Normally we split the Data set into three sets\n",
        "* **Trainning set:** This is the set we use to train the data and this is about 70 to 80% data of your data set\n",
        "* **Validation set:** this we use to validate is our model giving us right output or not with this set (to check is model get tune with this data or not). This is about 10 to 15% of your data (Practice Exam)\n",
        "* **Test Set:** this we use to test the model. This is about 10 to 15% of our data (Final Exam)\n"
      ],
      "metadata": {
        "id": "0DnhzCugXfG-"
      }
    },
    {
      "cell_type": "code",
      "source": [
        "#Firstly, Checking length How much data we have\n",
        "len(X)"
      ],
      "metadata": {
        "colab": {
          "base_uri": "https://localhost:8080/"
        },
        "id": "gjiAAhXwXDCi",
        "outputId": "dfc3a3f7-0d96-42cf-9784-8cde7975ce9c"
      },
      "execution_count": null,
      "outputs": [
        {
          "output_type": "execute_result",
          "data": {
            "text/plain": [
              "50"
            ]
          },
          "metadata": {},
          "execution_count": 28
        }
      ]
    },
    {
      "cell_type": "code",
      "source": [
        "#Now split the data\n",
        "X_train=X[:40] #this is 80% of the total data\n",
        "y_train=y[:40]\n",
        "X_test=X[40:]#this is the remainning 20% of the total data\n",
        "y_test=y[40:]\n",
        "len(X_train),len(y_train),len(X_test),len(y_test)"
      ],
      "metadata": {
        "colab": {
          "base_uri": "https://localhost:8080/"
        },
        "id": "f0wlzSyMZN-w",
        "outputId": "c08a4db6-54ad-413b-e9c4-145d7be6e4e6"
      },
      "execution_count": null,
      "outputs": [
        {
          "output_type": "execute_result",
          "data": {
            "text/plain": [
              "(40, 40, 10, 10)"
            ]
          },
          "metadata": {},
          "execution_count": 29
        }
      ]
    },
    {
      "cell_type": "markdown",
      "source": [
        "###Again Visualize data because Data is split now\n"
      ],
      "metadata": {
        "id": "7mYrCP88b_yc"
      }
    },
    {
      "cell_type": "code",
      "source": [
        "plt.figure(figsize=(10,7))\n",
        "#plot trainning data in blue\n",
        "plt.scatter(X_train,y_train,c=\"b\",label=\"Trainning Data\")\n",
        "#plot test data in green\n",
        "plt.scatter(X_test,y_test,c=\"g\",label=\"Test Data\")\n",
        "plt.legend(); #to show labels in graph"
      ],
      "metadata": {
        "colab": {
          "base_uri": "https://localhost:8080/",
          "height": 428
        },
        "id": "mm-vlBm7Zqmn",
        "outputId": "9aa45547-f0c4-4cc8-cddf-8eea9771efed"
      },
      "execution_count": null,
      "outputs": [
        {
          "output_type": "display_data",
          "data": {
            "text/plain": [
              "<Figure size 720x504 with 1 Axes>"
            ],
            "image/png": "[encoded data removed]"
          },
          "metadata": {
            "needs_background": "light"
          }
        }
      ]
    },
    {
      "cell_type": "code",
      "source": [
        "X_train.shape"
      ],
      "metadata": {
        "colab": {
          "base_uri": "https://localhost:8080/"
        },
        "id": "gsU1lBzPegeE",
        "outputId": "fcdc4c0f-208b-4637-c249-9a344034667c"
      },
      "execution_count": null,
      "outputs": [
        {
          "output_type": "execute_result",
          "data": {
            "text/plain": [
              "TensorShape([40])"
            ]
          },
          "metadata": {},
          "execution_count": 31
        }
      ]
    },
    {
      "cell_type": "code",
      "source": [
        "#Now Creating Neural Network Again\n",
        "tf.random.set_seed(42)\n",
        "#Creating Model\n",
        "model=tf.keras.Sequential([\n",
        "    tf.keras.layers.Dense(10,input_shape=(1,),name=\"input_layer\"),\n",
        "    tf.keras.layers.Dense(1,name=\"output_layer\")\n",
        "],name=\"model_1\")\n",
        "#Compiling Model\n",
        "model.compile(loss=tf.keras.losses.mae,optimizer=tf.keras.optimizers.Adam(0.01),metrics=\"mae\")\n",
        "#fit model\n",
        "model.fit(X_train,y_train,epochs=100,verbose=0) #if value of verbose will be one then we can see the progress below for fitting model??"
      ],
      "metadata": {
        "colab": {
          "base_uri": "https://localhost:8080/"
        },
        "id": "XO1OfXOAczr4",
        "outputId": "0647afc6-0edf-41cd-fc19-b5b3bc7e6cb4"
      },
      "execution_count": null,
      "outputs": [
        {
          "output_type": "execute_result",
          "data": {
            "text/plain": [
              "<keras.callbacks.History at 0x7f0dca89c650>"
            ]
          },
          "metadata": {},
          "execution_count": 48
        }
      ]
    },
    {
      "cell_type": "code",
      "source": [
        "X_test,y_test"
      ],
      "metadata": {
        "colab": {
          "base_uri": "https://localhost:8080/"
        },
        "id": "7S0Mc7drfq67",
        "outputId": "86e12428-0d5b-436a-f49b-079338604c17"
      },
      "execution_count": null,
      "outputs": [
        {
          "output_type": "execute_result",
          "data": {
            "text/plain": [
              "(<tf.Tensor: shape=(10,), dtype=int32, numpy=array([60, 64, 68, 72, 76, 80, 84, 88, 92, 96], dtype=int32)>,\n",
              " <tf.Tensor: shape=(10,), dtype=int32, numpy=array([ 70,  74,  78,  82,  86,  90,  94,  98, 102, 106], dtype=int32)>)"
            ]
          },
          "metadata": {},
          "execution_count": 33
        }
      ]
    },
    {
      "cell_type": "code",
      "source": [
        "model.predict([60])"
      ],
      "metadata": {
        "colab": {
          "base_uri": "https://localhost:8080/"
        },
        "id": "YUBHusfqgFxz",
        "outputId": "d8eb0ed0-eb72-4df1-bbdc-c8513eaf2c0b"
      },
      "execution_count": null,
      "outputs": [
        {
          "output_type": "execute_result",
          "data": {
            "text/plain": [
              "array([[72.42797]], dtype=float32)"
            ]
          },
          "metadata": {},
          "execution_count": 34
        }
      ]
    },
    {
      "cell_type": "code",
      "source": [
        "model.summary()"
      ],
      "metadata": {
        "colab": {
          "base_uri": "https://localhost:8080/"
        },
        "id": "n8AG2S-egOKF",
        "outputId": "ac0fc7b1-72c6-45d4-bf63-8670da367966"
      },
      "execution_count": null,
      "outputs": [
        {
          "output_type": "stream",
          "name": "stdout",
          "text": [
            "Model: \"model_1\"\n",
            "_________________________________________________________________\n",
            " Layer (type)                Output Shape              Param #   \n",
            "=================================================================\n",
            " input_layer (Dense)         (None, 10)                20        \n",
            "                                                                 \n",
            " output_layer (Dense)        (None, 1)                 11        \n",
            "                                                                 \n",
            "=================================================================\n",
            "Total params: 31\n",
            "Trainable params: 31\n",
            "Non-trainable params: 0\n",
            "_________________________________________________________________\n"
          ]
        }
      ]
    },
    {
      "cell_type": "markdown",
      "source": [
        "* Total Params: total number parameters in the model\n",
        "* Trainable Parameters: These are those parameters which can change during trainning (weights are biase are trainable parameters)\n",
        "* Non-trainable Parameters: thses are parameters which do not update while trainning (learning rate is non trainable parameters)"
      ],
      "metadata": {
        "id": "Nv4Jb5LZh9Eu"
      }
    },
    {
      "cell_type": "markdown",
      "source": [
        "###Visualize Model"
      ],
      "metadata": {
        "id": "j17W-H5XwmJb"
      }
    },
    {
      "cell_type": "code",
      "source": [
        "#plotting model\n",
        "from tensorflow.keras.utils import plot_model\n",
        "plot_model(model=model,show_shapes=True)"
      ],
      "metadata": {
        "colab": {
          "base_uri": "https://localhost:8080/",
          "height": 312
        },
        "id": "peVrr9GDgd7A",
        "outputId": "c4a7734e-1316-4117-c3fb-9f18962e342a"
      },
      "execution_count": null,
      "outputs": [
        {
          "output_type": "execute_result",
          "data": {
            "image/png": "[encoded data removed]",
            "text/plain": [
              "<IPython.core.display.Image object>"
            ]
          },
          "metadata": {},
          "execution_count": 44
        }
      ]
    },
    {
      "cell_type": "markdown",
      "source": [
        "###Visualize Prediction\n",
        "Now we visualize prediction, with the labels of y_pred and y_act(y_test)"
      ],
      "metadata": {
        "id": "GrmHT8mbwu7K"
      }
    },
    {
      "cell_type": "code",
      "source": [
        "y_pred=model.predict(X_test)\n",
        "y_pred"
      ],
      "metadata": {
        "colab": {
          "base_uri": "https://localhost:8080/"
        },
        "id": "1_JhHCl-tA41",
        "outputId": "d6e8d9ad-038e-46d8-8667-dbc40fe739fa"
      },
      "execution_count": null,
      "outputs": [
        {
          "output_type": "stream",
          "name": "stderr",
          "text": [
            "WARNING:tensorflow:5 out of the last 5 calls to <function Model.make_predict_function.<locals>.predict_function at 0x7f0dcb6d5710> triggered tf.function retracing. Tracing is expensive and the excessive number of tracings could be due to (1) creating @tf.function repeatedly in a loop, (2) passing tensors with different shapes, (3) passing Python objects instead of tensors. For (1), please define your @tf.function outside of the loop. For (2), @tf.function has experimental_relax_shapes=True option that relaxes argument shapes that can avoid unnecessary retracing. For (3), please refer to https://www.tensorflow.org/guide/function#controlling_retracing and https://www.tensorflow.org/api_docs/python/tf/function for  more details.\n"
          ]
        },
        {
          "output_type": "execute_result",
          "data": {
            "text/plain": [
              "array([[ 72.42797 ],\n",
              "       [ 76.58641 ],\n",
              "       [ 80.74485 ],\n",
              "       [ 84.90329 ],\n",
              "       [ 89.06173 ],\n",
              "       [ 93.22018 ],\n",
              "       [ 97.378624],\n",
              "       [101.537056],\n",
              "       [105.695496],\n",
              "       [109.853935]], dtype=float32)"
            ]
          },
          "metadata": {},
          "execution_count": 37
        }
      ]
    },
    {
      "cell_type": "code",
      "source": [
        "y_test"
      ],
      "metadata": {
        "colab": {
          "base_uri": "https://localhost:8080/"
        },
        "id": "1LDE-gppxeNH",
        "outputId": "8a90020b-8f46-4153-bb08-c2280c87cfe0"
      },
      "execution_count": null,
      "outputs": [
        {
          "output_type": "execute_result",
          "data": {
            "text/plain": [
              "<tf.Tensor: shape=(10,), dtype=int32, numpy=array([ 70,  74,  78,  82,  86,  90,  94,  98, 102, 106], dtype=int32)>"
            ]
          },
          "metadata": {},
          "execution_count": 38
        }
      ]
    },
    {
      "cell_type": "markdown",
      "source": [
        "📓 **Note:** It is too good to make reusable functionality into function"
      ],
      "metadata": {
        "id": "0EQL_oMvx2nd"
      }
    },
    {
      "cell_type": "code",
      "source": [
        "#creating dunction\n",
        "def plot_prediction(train_data=X_train,train_labels=y_train,test_data=X_test,test_labels=y_test,prediction=y_pred):\n",
        "  \"\"\"ploting training,test data and comparing with predictions\"\"\"\n",
        "  plt.figure(figsize=(10,7))\n",
        "  #plotting train data in blue\n",
        "  plt.scatter(train_data,train_labels,c='b',label=\"training_data\")\n",
        "  #plotting test data in green\n",
        "  plt.scatter(test_data,test_labels,c='g',label=\"test_data\")\n",
        "  #plotting predictions\n",
        "  plt.scatter(test_data,prediction,c=\"r\",label=\"predictions\")\n",
        "  plt.legend();"
      ],
      "metadata": {
        "id": "WJjfcst5xjNm"
      },
      "execution_count": null,
      "outputs": []
    },
    {
      "cell_type": "code",
      "source": [
        "plot_prediction()"
      ],
      "metadata": {
        "colab": {
          "base_uri": "https://localhost:8080/",
          "height": 428
        },
        "id": "zahW0pLKz_n5",
        "outputId": "ca2dcae5-7583-4218-b87f-10d4c93ea047"
      },
      "execution_count": null,
      "outputs": [
        {
          "output_type": "display_data",
          "data": {
            "text/plain": [
              "<Figure size 720x504 with 1 Axes>"
            ],
            "image/png": "[encoded data removed]"
          },
          "metadata": {
            "needs_background": "light"
          }
        }
      ]
    },
    {
      "cell_type": "markdown",
      "source": [
        "##Evaluating Model\n",
        "Evaluation matrix ar different according to the problem. Now we are working on regression problem so we can evaluate out model using\n",
        "* **MAE** Mean Absolute error on average how wrong our model is predicting error\n",
        "* **MSE** Mean Square Error means square the average error"
      ],
      "metadata": {
        "id": "i67ykN1iPll0"
      }
    },
    {
      "cell_type": "code",
      "source": [
        "#Evaluating Matrix in test set\n",
        "model.evaluate(X_test,y_test)"
      ],
      "metadata": {
        "colab": {
          "base_uri": "https://localhost:8080/"
        },
        "id": "AvAhHxD70FFC",
        "outputId": "228c5889-132c-49e6-d38d-008a99f39e82"
      },
      "execution_count": null,
      "outputs": [
        {
          "output_type": "stream",
          "name": "stdout",
          "text": [
            "1/1 [==============================] - 0s 98ms/step - loss: 3.1410 - mae: 3.1410\n"
          ]
        },
        {
          "output_type": "execute_result",
          "data": {
            "text/plain": [
              "[3.1409544944763184, 3.1409544944763184]"
            ]
          },
          "metadata": {},
          "execution_count": 49
        }
      ]
    },
    {
      "cell_type": "code",
      "source": [
        "#Calculating Mean Absolute Error\n",
        "mae=tf.metrics.mean_absolute_error(y_true=y_test,y_pred=tf.constant(y_pred))\n",
        "mae"
      ],
      "metadata": {
        "colab": {
          "base_uri": "https://localhost:8080/"
        },
        "id": "k7hiv4qOSZDA",
        "outputId": "5f961237-1716-45aa-b266-f6730b875b7a"
      },
      "execution_count": null,
      "outputs": [
        {
          "output_type": "execute_result",
          "data": {
            "text/plain": [
              "<tf.Tensor: shape=(10,), dtype=float32, numpy=\n",
              "array([16.057623, 13.248154, 11.30206 , 10.219342, 10.      , 10.644035,\n",
              "       12.151449, 14.522234, 17.756397, 21.853935], dtype=float32)>"
            ]
          },
          "metadata": {},
          "execution_count": 55
        }
      ]
    },
    {
      "cell_type": "code",
      "source": [
        "tf.constant(y_pred)"
      ],
      "metadata": {
        "colab": {
          "base_uri": "https://localhost:8080/"
        },
        "id": "aRsg6lMjRqMg",
        "outputId": "e9d1d7e2-9998-4334-f2dd-4d24dc1ac9d5"
      },
      "execution_count": null,
      "outputs": [
        {
          "output_type": "execute_result",
          "data": {
            "text/plain": [
              "<tf.Tensor: shape=(10, 1), dtype=float32, numpy=\n",
              "array([[ 72.42797 ],\n",
              "       [ 76.58641 ],\n",
              "       [ 80.74485 ],\n",
              "       [ 84.90329 ],\n",
              "       [ 89.06173 ],\n",
              "       [ 93.22018 ],\n",
              "       [ 97.378624],\n",
              "       [101.537056],\n",
              "       [105.695496],\n",
              "       [109.853935]], dtype=float32)>"
            ]
          },
          "metadata": {},
          "execution_count": 56
        }
      ]
    },
    {
      "cell_type": "code",
      "source": [
        "y_test"
      ],
      "metadata": {
        "colab": {
          "base_uri": "https://localhost:8080/"
        },
        "id": "Yow51DS4Sa6m",
        "outputId": "06411f7d-e940-4686-e72b-ce441e0c5d77"
      },
      "execution_count": null,
      "outputs": [
        {
          "output_type": "execute_result",
          "data": {
            "text/plain": [
              "<tf.Tensor: shape=(10,), dtype=int32, numpy=array([ 70,  74,  78,  82,  86,  90,  94,  98, 102, 106], dtype=int32)>"
            ]
          },
          "metadata": {},
          "execution_count": 57
        }
      ]
    },
    {
      "cell_type": "code",
      "source": [
        "#Now removing extra dimension from y_pred so that both of the tensor has same dimensions\n",
        "tf.squeeze(y_pred)"
      ],
      "metadata": {
        "colab": {
          "base_uri": "https://localhost:8080/"
        },
        "id": "ZKH0AnjQSb9R",
        "outputId": "cdbe0292-6904-400e-f8da-ff09a32f97f2"
      },
      "execution_count": null,
      "outputs": [
        {
          "output_type": "execute_result",
          "data": {
            "text/plain": [
              "<tf.Tensor: shape=(10,), dtype=float32, numpy=\n",
              "array([ 72.42797 ,  76.58641 ,  80.74485 ,  84.90329 ,  89.06173 ,\n",
              "        93.22018 ,  97.378624, 101.537056, 105.695496, 109.853935],\n",
              "      dtype=float32)>"
            ]
          },
          "metadata": {},
          "execution_count": 58
        }
      ]
    },
    {
      "cell_type": "code",
      "source": [
        "mae=tf.metrics.mean_absolute_error(y_true=y_test,\n",
        "                                   y_pred=tf.squeeze(y_pred))\n",
        "mae"
      ],
      "metadata": {
        "colab": {
          "base_uri": "https://localhost:8080/"
        },
        "id": "oflg2e46T9xe",
        "outputId": "2f18dd99-3069-4057-c585-c353cbf2e4ae"
      },
      "execution_count": null,
      "outputs": [
        {
          "output_type": "execute_result",
          "data": {
            "text/plain": [
              "<tf.Tensor: shape=(), dtype=float32, numpy=3.1409538>"
            ]
          },
          "metadata": {},
          "execution_count": 60
        }
      ]
    },
    {
      "cell_type": "code",
      "source": [
        "#Now calculating mean square error\n",
        "mse=tf.metrics.mean_squared_error(y_true=y_test,\n",
        "                                 y_pred=tf.squeeze(y_pred))\n",
        "mse"
      ],
      "metadata": {
        "colab": {
          "base_uri": "https://localhost:8080/"
        },
        "id": "1vTojZFrUewa",
        "outputId": "d22df882-fc2e-49c2-ceec-6e49df36a365"
      },
      "execution_count": null,
      "outputs": [
        {
          "output_type": "execute_result",
          "data": {
            "text/plain": [
              "<tf.Tensor: shape=(), dtype=float32, numpy=10.072696>"
            ]
          },
          "metadata": {},
          "execution_count": 63
        }
      ]
    },
    {
      "cell_type": "code",
      "source": [
        "#Making reusable functions for MSE and MAE\n",
        "def MSE(y_test,y_pred):\n",
        "  return tf.metrics.mean_squared_error(y_test,tf.squeeze(y_pred))\n",
        "def MAE(y_test,y_pred):\n",
        "  return tf.metrics.mean_absolute_error(y_test,tf.squeeze(y_pred))"
      ],
      "metadata": {
        "id": "hW5fvg-HU6ed"
      },
      "execution_count": null,
      "outputs": []
    },
    {
      "cell_type": "markdown",
      "source": [
        "##Running Expreriments to improve model\n",
        "\n",
        "We can improve our model by following steps\n",
        "\n",
        "1. Add more data and give the model more chances to get good patterns\n",
        "2. Add more hidden layers to make model bigger\n",
        "3. Train your model for longer time\n",
        "\n",
        "lets do three models experiments\n",
        "\n",
        "1. 1 layer 100 epochs\n",
        "2. 2 layers 100 epochs\n",
        "3. 2 layers 500 epochs"
      ],
      "metadata": {
        "id": "mc744oHTWQjZ"
      }
    },
    {
      "cell_type": "code",
      "source": [
        "#Creating model 1\n",
        "tf.random.set_seed(42)\n",
        "#create model\n",
        "model_1=tf.keras.Sequential(\n",
        "    tf.keras.layers.Dense(1,input_shape=(1,))\n",
        ")\n",
        "#compile model\n",
        "model_1.compile(loss=tf.keras.losses.mae,\n",
        "                optimizer=tf.keras.optimizers.SGD(),\n",
        "                metrics=\"mae\"\n",
        "                )\n",
        "#fitting mdoel\n",
        "model_1.fit(X_train,y_train,epochs=100)"
      ],
      "metadata": {
        "colab": {
          "base_uri": "https://localhost:8080/"
        },
        "id": "5kxnsVkVdH90",
        "outputId": "654f7bd4-da26-4dc1-fbd2-c24d34f1f80a"
      },
      "execution_count": null,
      "outputs": [
        {
          "output_type": "stream",
          "name": "stdout",
          "text": [
            "Epoch 1/100\n",
            "2/2 [==============================] - 0s 6ms/step - loss: 15.9024 - mae: 15.9024\n",
            "Epoch 2/100\n",
            "2/2 [==============================] - 0s 5ms/step - loss: 11.2837 - mae: 11.2837\n",
            "Epoch 3/100\n",
            "2/2 [==============================] - 0s 8ms/step - loss: 11.1074 - mae: 11.1074\n",
            "Epoch 4/100\n",
            "2/2 [==============================] - 0s 5ms/step - loss: 9.2991 - mae: 9.2991\n",
            "Epoch 5/100\n",
            "2/2 [==============================] - 0s 5ms/step - loss: 10.1677 - mae: 10.1677\n",
            "Epoch 6/100\n",
            "2/2 [==============================] - 0s 6ms/step - loss: 9.4303 - mae: 9.4303\n",
            "Epoch 7/100\n",
            "2/2 [==============================] - 0s 5ms/step - loss: 8.5704 - mae: 8.5704\n",
            "Epoch 8/100\n",
            "2/2 [==============================] - 0s 5ms/step - loss: 9.0442 - mae: 9.0442\n",
            "Epoch 9/100\n",
            "2/2 [==============================] - 0s 5ms/step - loss: 18.7517 - mae: 18.7517\n",
            "Epoch 10/100\n",
            "2/2 [==============================] - 0s 11ms/step - loss: 10.1142 - mae: 10.1142\n",
            "Epoch 11/100\n",
            "2/2 [==============================] - 0s 7ms/step - loss: 8.3980 - mae: 8.3980\n",
            "Epoch 12/100\n",
            "2/2 [==============================] - 0s 6ms/step - loss: 10.6639 - mae: 10.6639\n",
            "Epoch 13/100\n",
            "2/2 [==============================] - 0s 5ms/step - loss: 9.7977 - mae: 9.7977\n",
            "Epoch 14/100\n",
            "2/2 [==============================] - 0s 5ms/step - loss: 16.0103 - mae: 16.0103\n",
            "Epoch 15/100\n",
            "2/2 [==============================] - 0s 4ms/step - loss: 11.4068 - mae: 11.4068\n",
            "Epoch 16/100\n",
            "2/2 [==============================] - 0s 6ms/step - loss: 8.5393 - mae: 8.5393\n",
            "Epoch 17/100\n",
            "2/2 [==============================] - 0s 4ms/step - loss: 13.6348 - mae: 13.6348\n",
            "Epoch 18/100\n",
            "2/2 [==============================] - 0s 5ms/step - loss: 11.4629 - mae: 11.4629\n",
            "Epoch 19/100\n",
            "2/2 [==============================] - 0s 4ms/step - loss: 17.9148 - mae: 17.9148\n",
            "Epoch 20/100\n",
            "2/2 [==============================] - 0s 4ms/step - loss: 15.0494 - mae: 15.0494\n",
            "Epoch 21/100\n",
            "2/2 [==============================] - 0s 4ms/step - loss: 11.0216 - mae: 11.0216\n",
            "Epoch 22/100\n",
            "2/2 [==============================] - 0s 4ms/step - loss: 8.1558 - mae: 8.1558\n",
            "Epoch 23/100\n",
            "2/2 [==============================] - 0s 4ms/step - loss: 9.5138 - mae: 9.5138\n",
            "Epoch 24/100\n",
            "2/2 [==============================] - 0s 4ms/step - loss: 7.6617 - mae: 7.6617\n",
            "Epoch 25/100\n",
            "2/2 [==============================] - 0s 4ms/step - loss: 13.1859 - mae: 13.1859\n",
            "Epoch 26/100\n",
            "2/2 [==============================] - 0s 4ms/step - loss: 16.4211 - mae: 16.4211\n",
            "Epoch 27/100\n",
            "2/2 [==============================] - 0s 5ms/step - loss: 13.1660 - mae: 13.1660\n",
            "Epoch 28/100\n",
            "2/2 [==============================] - 0s 9ms/step - loss: 14.2559 - mae: 14.2559\n",
            "Epoch 29/100\n",
            "2/2 [==============================] - 0s 4ms/step - loss: 10.0670 - mae: 10.0670\n",
            "Epoch 30/100\n",
            "2/2 [==============================] - 0s 5ms/step - loss: 16.3409 - mae: 16.3409\n",
            "Epoch 31/100\n",
            "2/2 [==============================] - 0s 7ms/step - loss: 23.6444 - mae: 23.6444\n",
            "Epoch 32/100\n",
            "2/2 [==============================] - 0s 9ms/step - loss: 7.6215 - mae: 7.6215\n",
            "Epoch 33/100\n",
            "2/2 [==============================] - 0s 6ms/step - loss: 9.3221 - mae: 9.3221\n",
            "Epoch 34/100\n",
            "2/2 [==============================] - 0s 6ms/step - loss: 13.7313 - mae: 13.7313\n",
            "Epoch 35/100\n",
            "2/2 [==============================] - 0s 6ms/step - loss: 11.1276 - mae: 11.1276\n",
            "Epoch 36/100\n",
            "2/2 [==============================] - 0s 8ms/step - loss: 13.3222 - mae: 13.3222\n",
            "Epoch 37/100\n",
            "2/2 [==============================] - 0s 13ms/step - loss: 9.4763 - mae: 9.4763\n",
            "Epoch 38/100\n",
            "2/2 [==============================] - 0s 5ms/step - loss: 10.1381 - mae: 10.1381\n",
            "Epoch 39/100\n",
            "2/2 [==============================] - 0s 4ms/step - loss: 10.1793 - mae: 10.1793\n",
            "Epoch 40/100\n",
            "2/2 [==============================] - 0s 4ms/step - loss: 10.9137 - mae: 10.9137\n",
            "Epoch 41/100\n",
            "2/2 [==============================] - 0s 7ms/step - loss: 7.9063 - mae: 7.9063\n",
            "Epoch 42/100\n",
            "2/2 [==============================] - 0s 6ms/step - loss: 10.0914 - mae: 10.0914\n",
            "Epoch 43/100\n",
            "2/2 [==============================] - 0s 3ms/step - loss: 8.7006 - mae: 8.7006\n",
            "Epoch 44/100\n",
            "2/2 [==============================] - 0s 4ms/step - loss: 12.2047 - mae: 12.2047\n",
            "Epoch 45/100\n",
            "2/2 [==============================] - 0s 4ms/step - loss: 13.7970 - mae: 13.7970\n",
            "Epoch 46/100\n",
            "2/2 [==============================] - 0s 5ms/step - loss: 8.4687 - mae: 8.4687\n",
            "Epoch 47/100\n",
            "2/2 [==============================] - 0s 5ms/step - loss: 9.1330 - mae: 9.1330\n",
            "Epoch 48/100\n",
            "2/2 [==============================] - 0s 4ms/step - loss: 10.6190 - mae: 10.6190\n",
            "Epoch 49/100\n",
            "2/2 [==============================] - 0s 8ms/step - loss: 7.7503 - mae: 7.7503\n",
            "Epoch 50/100\n",
            "2/2 [==============================] - 0s 5ms/step - loss: 9.5407 - mae: 9.5407\n",
            "Epoch 51/100\n",
            "2/2 [==============================] - 0s 5ms/step - loss: 9.1584 - mae: 9.1584\n",
            "Epoch 52/100\n",
            "2/2 [==============================] - 0s 4ms/step - loss: 16.3630 - mae: 16.3630\n",
            "Epoch 53/100\n",
            "2/2 [==============================] - 0s 5ms/step - loss: 14.1299 - mae: 14.1299\n",
            "Epoch 54/100\n",
            "2/2 [==============================] - 0s 11ms/step - loss: 21.1247 - mae: 21.1247\n",
            "Epoch 55/100\n",
            "2/2 [==============================] - 0s 7ms/step - loss: 16.3961 - mae: 16.3961\n",
            "Epoch 56/100\n",
            "2/2 [==============================] - 0s 14ms/step - loss: 9.9806 - mae: 9.9806\n",
            "Epoch 57/100\n",
            "2/2 [==============================] - 0s 5ms/step - loss: 9.9606 - mae: 9.9606\n",
            "Epoch 58/100\n",
            "2/2 [==============================] - 0s 6ms/step - loss: 9.2209 - mae: 9.2209\n",
            "Epoch 59/100\n",
            "2/2 [==============================] - 0s 4ms/step - loss: 8.4239 - mae: 8.4239\n",
            "Epoch 60/100\n",
            "2/2 [==============================] - 0s 5ms/step - loss: 9.4869 - mae: 9.4869\n",
            "Epoch 61/100\n",
            "2/2 [==============================] - 0s 5ms/step - loss: 11.4355 - mae: 11.4355\n",
            "Epoch 62/100\n",
            "2/2 [==============================] - 0s 5ms/step - loss: 11.6887 - mae: 11.6887\n",
            "Epoch 63/100\n",
            "2/2 [==============================] - 0s 5ms/step - loss: 7.0838 - mae: 7.0838\n",
            "Epoch 64/100\n",
            "2/2 [==============================] - 0s 5ms/step - loss: 16.9675 - mae: 16.9675\n",
            "Epoch 65/100\n",
            "2/2 [==============================] - 0s 5ms/step - loss: 12.4599 - mae: 12.4599\n",
            "Epoch 66/100\n",
            "2/2 [==============================] - 0s 4ms/step - loss: 13.0184 - mae: 13.0184\n",
            "Epoch 67/100\n",
            "2/2 [==============================] - 0s 4ms/step - loss: 8.0600 - mae: 8.0600\n",
            "Epoch 68/100\n",
            "2/2 [==============================] - 0s 4ms/step - loss: 10.1888 - mae: 10.1888\n",
            "Epoch 69/100\n",
            "2/2 [==============================] - 0s 4ms/step - loss: 12.3633 - mae: 12.3633\n",
            "Epoch 70/100\n",
            "2/2 [==============================] - 0s 5ms/step - loss: 9.0516 - mae: 9.0516\n",
            "Epoch 71/100\n",
            "2/2 [==============================] - 0s 4ms/step - loss: 10.0378 - mae: 10.0378\n",
            "Epoch 72/100\n",
            "2/2 [==============================] - 0s 7ms/step - loss: 10.0516 - mae: 10.0516\n",
            "Epoch 73/100\n",
            "2/2 [==============================] - 0s 4ms/step - loss: 12.6151 - mae: 12.6151\n",
            "Epoch 74/100\n",
            "2/2 [==============================] - 0s 4ms/step - loss: 10.3819 - mae: 10.3819\n",
            "Epoch 75/100\n",
            "2/2 [==============================] - 0s 7ms/step - loss: 9.7229 - mae: 9.7229\n",
            "Epoch 76/100\n",
            "2/2 [==============================] - 0s 7ms/step - loss: 11.2252 - mae: 11.2252\n",
            "Epoch 77/100\n",
            "2/2 [==============================] - 0s 4ms/step - loss: 8.3642 - mae: 8.3642\n",
            "Epoch 78/100\n",
            "2/2 [==============================] - 0s 4ms/step - loss: 9.1274 - mae: 9.1274\n",
            "Epoch 79/100\n",
            "2/2 [==============================] - 0s 4ms/step - loss: 19.5039 - mae: 19.5039\n",
            "Epoch 80/100\n",
            "2/2 [==============================] - 0s 7ms/step - loss: 14.8945 - mae: 14.8945\n",
            "Epoch 81/100\n",
            "2/2 [==============================] - 0s 4ms/step - loss: 9.0034 - mae: 9.0034\n",
            "Epoch 82/100\n",
            "2/2 [==============================] - 0s 4ms/step - loss: 13.0206 - mae: 13.0206\n",
            "Epoch 83/100\n",
            "2/2 [==============================] - 0s 4ms/step - loss: 7.9299 - mae: 7.9299\n",
            "Epoch 84/100\n",
            "2/2 [==============================] - 0s 7ms/step - loss: 7.6872 - mae: 7.6872\n",
            "Epoch 85/100\n",
            "2/2 [==============================] - 0s 7ms/step - loss: 10.0328 - mae: 10.0328\n",
            "Epoch 86/100\n",
            "2/2 [==============================] - 0s 7ms/step - loss: 9.2433 - mae: 9.2433\n",
            "Epoch 87/100\n",
            "2/2 [==============================] - 0s 7ms/step - loss: 12.0209 - mae: 12.0209\n",
            "Epoch 88/100\n",
            "2/2 [==============================] - 0s 4ms/step - loss: 10.6389 - mae: 10.6389\n",
            "Epoch 89/100\n",
            "2/2 [==============================] - 0s 4ms/step - loss: 7.2667 - mae: 7.2667\n",
            "Epoch 90/100\n",
            "2/2 [==============================] - 0s 7ms/step - loss: 12.7786 - mae: 12.7786\n",
            "Epoch 91/100\n",
            "2/2 [==============================] - 0s 4ms/step - loss: 7.3481 - mae: 7.3481\n",
            "Epoch 92/100\n",
            "2/2 [==============================] - 0s 5ms/step - loss: 7.7175 - mae: 7.7175\n",
            "Epoch 93/100\n",
            "2/2 [==============================] - 0s 5ms/step - loss: 7.1263 - mae: 7.1263\n",
            "Epoch 94/100\n",
            "2/2 [==============================] - 0s 4ms/step - loss: 12.6190 - mae: 12.6190\n",
            "Epoch 95/100\n",
            "2/2 [==============================] - 0s 4ms/step - loss: 10.0912 - mae: 10.0912\n",
            "Epoch 96/100\n",
            "2/2 [==============================] - 0s 4ms/step - loss: 9.3558 - mae: 9.3558\n",
            "Epoch 97/100\n",
            "2/2 [==============================] - 0s 4ms/step - loss: 12.6834 - mae: 12.6834\n",
            "Epoch 98/100\n",
            "2/2 [==============================] - 0s 5ms/step - loss: 8.6762 - mae: 8.6762\n",
            "Epoch 99/100\n",
            "2/2 [==============================] - 0s 5ms/step - loss: 9.4693 - mae: 9.4693\n",
            "Epoch 100/100\n",
            "2/2 [==============================] - 0s 5ms/step - loss: 8.7067 - mae: 8.7067\n"
          ]
        },
        {
          "output_type": "execute_result",
          "data": {
            "text/plain": [
              "<keras.callbacks.History at 0x7f0dc9721c90>"
            ]
          },
          "metadata": {},
          "execution_count": 69
        }
      ]
    },
    {
      "cell_type": "code",
      "source": [
        "#plotting prediction using function which we make before\n",
        "y_pred_1=model_1.predict(X_test)\n",
        "plot_prediction(prediction=y_pred_1)"
      ],
      "metadata": {
        "colab": {
          "base_uri": "https://localhost:8080/",
          "height": 428
        },
        "id": "iYa8KcPoeqMV",
        "outputId": "0656dbfa-9eb3-43c0-eec2-7233f37161f6"
      },
      "execution_count": null,
      "outputs": [
        {
          "output_type": "display_data",
          "data": {
            "text/plain": [
              "<Figure size 720x504 with 1 Axes>"
            ],
            "image/png": "[encoded data removed]"
          },
          "metadata": {
            "needs_background": "light"
          }
        }
      ]
    },
    {
      "cell_type": "code",
      "source": [
        "#Calculating evaluation metrics\n",
        "mae_1=MAE(y_test,y_pred_1)\n",
        "mse_1=MSE(y_test,y_pred_1)\n",
        "mae_1,mse_1"
      ],
      "metadata": {
        "colab": {
          "base_uri": "https://localhost:8080/"
        },
        "id": "NxlBctTLfe9i",
        "outputId": "7b6fbd4c-6e31-4848-b88e-3a0a22c0690f"
      },
      "execution_count": null,
      "outputs": [
        {
          "output_type": "execute_result",
          "data": {
            "text/plain": [
              "(<tf.Tensor: shape=(), dtype=float32, numpy=18.745327>,\n",
              " <tf.Tensor: shape=(), dtype=float32, numpy=353.57336>)"
            ]
          },
          "metadata": {},
          "execution_count": 107
        }
      ]
    },
    {
      "cell_type": "markdown",
      "source": [
        "###Creating model 2\n",
        "model_2 with 2 layers and 100 epochs"
      ],
      "metadata": {
        "id": "AjY4PW63myQ-"
      }
    },
    {
      "cell_type": "code",
      "source": [
        "#setting random seed\n",
        "tf.random.set_seed(42)\n",
        "#create model\n",
        "model_2=tf.keras.Sequential([\n",
        "    tf.keras.layers.Dense(10,input_shape=(1,)),\n",
        "    tf.keras.layers.Dense(1,input_shape=(1,))\n",
        "])\n",
        "#compile model\n",
        "model_2.compile(loss=tf.keras.losses.mae,\n",
        "                optimizer=tf.keras.optimizers.SGD(),\n",
        "                metrics=\"mse\"\n",
        "                )\n",
        "#fitting model\n",
        "model_2.fit(X_train,y_train,epochs=100)"
      ],
      "metadata": {
        "colab": {
          "base_uri": "https://localhost:8080/"
        },
        "id": "OsmsDKgBV8Gg",
        "outputId": "9d200717-df9a-4f45-edc6-1ee46d9bf6cb"
      },
      "execution_count": null,
      "outputs": [
        {
          "output_type": "stream",
          "name": "stdout",
          "text": [
            "Epoch 1/100\n",
            "2/2 [==============================] - 1s 6ms/step - loss: 27.4058 - mse: 1084.1482\n",
            "Epoch 2/100\n",
            "2/2 [==============================] - 0s 9ms/step - loss: 24.6339 - mse: 777.9203\n",
            "Epoch 3/100\n",
            "2/2 [==============================] - 0s 5ms/step - loss: 29.8935 - mse: 1334.8955\n",
            "Epoch 4/100\n",
            "2/2 [==============================] - 0s 5ms/step - loss: 27.4055 - mse: 1106.8035\n",
            "Epoch 5/100\n",
            "2/2 [==============================] - 0s 4ms/step - loss: 14.9463 - mse: 281.1077\n",
            "Epoch 6/100\n",
            "2/2 [==============================] - 0s 5ms/step - loss: 11.8819 - mse: 168.6621\n",
            "Epoch 7/100\n",
            "2/2 [==============================] - 0s 5ms/step - loss: 11.1988 - mse: 151.3509\n",
            "Epoch 8/100\n",
            "2/2 [==============================] - 0s 4ms/step - loss: 11.0910 - mse: 160.3745\n",
            "Epoch 9/100\n",
            "2/2 [==============================] - 0s 5ms/step - loss: 40.4763 - mse: 2586.0090\n",
            "Epoch 10/100\n",
            "2/2 [==============================] - 0s 5ms/step - loss: 27.8688 - mse: 1094.4382\n",
            "Epoch 11/100\n",
            "2/2 [==============================] - 0s 8ms/step - loss: 10.2473 - mse: 147.9359\n",
            "Epoch 12/100\n",
            "2/2 [==============================] - 0s 13ms/step - loss: 25.2803 - mse: 890.3867\n",
            "Epoch 13/100\n",
            "2/2 [==============================] - 0s 13ms/step - loss: 16.9897 - mse: 399.9678\n",
            "Epoch 14/100\n",
            "2/2 [==============================] - 0s 7ms/step - loss: 25.9217 - mse: 1049.5515\n",
            "Epoch 15/100\n",
            "2/2 [==============================] - 0s 4ms/step - loss: 17.9948 - mse: 450.2580\n",
            "Epoch 16/100\n",
            "2/2 [==============================] - 0s 5ms/step - loss: 7.3510 - mse: 80.6206\n",
            "Epoch 17/100\n",
            "2/2 [==============================] - 0s 4ms/step - loss: 10.8636 - mse: 174.7868\n",
            "Epoch 18/100\n",
            "2/2 [==============================] - 0s 7ms/step - loss: 19.5304 - mse: 565.8053\n",
            "Epoch 19/100\n",
            "2/2 [==============================] - 0s 7ms/step - loss: 10.3469 - mse: 167.7749\n",
            "Epoch 20/100\n",
            "2/2 [==============================] - 0s 5ms/step - loss: 17.6985 - mse: 455.7096\n",
            "Epoch 21/100\n",
            "2/2 [==============================] - 0s 9ms/step - loss: 15.8984 - mse: 347.1929\n",
            "Epoch 22/100\n",
            "2/2 [==============================] - 0s 11ms/step - loss: 14.1991 - mse: 285.1767\n",
            "Epoch 23/100\n",
            "2/2 [==============================] - 0s 4ms/step - loss: 8.7720 - mse: 91.7852\n",
            "Epoch 24/100\n",
            "2/2 [==============================] - 0s 5ms/step - loss: 11.0570 - mse: 153.7430\n",
            "Epoch 25/100\n",
            "2/2 [==============================] - 0s 11ms/step - loss: 12.6838 - mse: 233.2949\n",
            "Epoch 26/100\n",
            "2/2 [==============================] - 0s 5ms/step - loss: 26.1877 - mse: 1024.6091\n",
            "Epoch 27/100\n",
            "2/2 [==============================] - 0s 6ms/step - loss: 11.7432 - mse: 194.8454\n",
            "Epoch 28/100\n",
            "2/2 [==============================] - 0s 4ms/step - loss: 22.8730 - mse: 835.6074\n",
            "Epoch 29/100\n",
            "2/2 [==============================] - 0s 12ms/step - loss: 9.2459 - mse: 96.7786\n",
            "Epoch 30/100\n",
            "2/2 [==============================] - 0s 8ms/step - loss: 29.2641 - mse: 1535.1349\n",
            "Epoch 31/100\n",
            "2/2 [==============================] - 0s 4ms/step - loss: 53.0225 - mse: 5030.2988\n",
            "Epoch 32/100\n",
            "2/2 [==============================] - 0s 5ms/step - loss: 11.9951 - mse: 211.7025\n",
            "Epoch 33/100\n",
            "2/2 [==============================] - 0s 5ms/step - loss: 15.6357 - mse: 337.3666\n",
            "Epoch 34/100\n",
            "2/2 [==============================] - 0s 9ms/step - loss: 12.6925 - mse: 214.4823\n",
            "Epoch 35/100\n",
            "2/2 [==============================] - 0s 5ms/step - loss: 9.2398 - mse: 92.9126\n",
            "Epoch 36/100\n",
            "2/2 [==============================] - 0s 9ms/step - loss: 16.6497 - mse: 403.6573\n",
            "Epoch 37/100\n",
            "2/2 [==============================] - 0s 8ms/step - loss: 11.0382 - mse: 192.3919\n",
            "Epoch 38/100\n",
            "2/2 [==============================] - 0s 10ms/step - loss: 18.1634 - mse: 433.6717\n",
            "Epoch 39/100\n",
            "2/2 [==============================] - 0s 9ms/step - loss: 19.1013 - mse: 529.6439\n",
            "Epoch 40/100\n",
            "2/2 [==============================] - 0s 9ms/step - loss: 20.4324 - mse: 610.1324\n",
            "Epoch 41/100\n",
            "2/2 [==============================] - 0s 14ms/step - loss: 14.9102 - mse: 279.6183\n",
            "Epoch 42/100\n",
            "2/2 [==============================] - 0s 5ms/step - loss: 12.2809 - mse: 186.6180\n",
            "Epoch 43/100\n",
            "2/2 [==============================] - 0s 5ms/step - loss: 10.7333 - mse: 167.0952\n",
            "Epoch 44/100\n",
            "2/2 [==============================] - 0s 9ms/step - loss: 23.0260 - mse: 830.4244\n",
            "Epoch 45/100\n",
            "2/2 [==============================] - 0s 6ms/step - loss: 10.3897 - mse: 128.9549\n",
            "Epoch 46/100\n",
            "2/2 [==============================] - 0s 13ms/step - loss: 11.7904 - mse: 181.9212\n",
            "Epoch 47/100\n",
            "2/2 [==============================] - 0s 5ms/step - loss: 9.6438 - mse: 153.8708\n",
            "Epoch 48/100\n",
            "2/2 [==============================] - 0s 8ms/step - loss: 17.2335 - mse: 402.8494\n",
            "Epoch 49/100\n",
            "2/2 [==============================] - 0s 6ms/step - loss: 9.5729 - mse: 99.8337\n",
            "Epoch 50/100\n",
            "2/2 [==============================] - 0s 6ms/step - loss: 13.8185 - mse: 260.3670\n",
            "Epoch 51/100\n",
            "2/2 [==============================] - 0s 5ms/step - loss: 11.5958 - mse: 154.7956\n",
            "Epoch 52/100\n",
            "2/2 [==============================] - 0s 9ms/step - loss: 30.5538 - mse: 1613.0886\n",
            "Epoch 53/100\n",
            "2/2 [==============================] - 0s 4ms/step - loss: 14.3541 - mse: 302.5293\n",
            "Epoch 54/100\n",
            "2/2 [==============================] - 0s 5ms/step - loss: 23.9713 - mse: 859.3983\n",
            "Epoch 55/100\n",
            "2/2 [==============================] - 0s 5ms/step - loss: 23.1938 - mse: 805.5452\n",
            "Epoch 56/100\n",
            "2/2 [==============================] - 0s 5ms/step - loss: 10.8837 - mse: 170.9834\n",
            "Epoch 57/100\n",
            "2/2 [==============================] - 0s 4ms/step - loss: 12.7445 - mse: 198.7015\n",
            "Epoch 58/100\n",
            "2/2 [==============================] - 0s 9ms/step - loss: 9.5995 - mse: 102.5890\n",
            "Epoch 59/100\n",
            "2/2 [==============================] - 0s 5ms/step - loss: 12.5172 - mse: 216.3367\n",
            "Epoch 60/100\n",
            "2/2 [==============================] - 0s 4ms/step - loss: 12.3200 - mse: 208.6371\n",
            "Epoch 61/100\n",
            "2/2 [==============================] - 0s 15ms/step - loss: 17.4604 - mse: 428.6393\n",
            "Epoch 62/100\n",
            "2/2 [==============================] - 0s 5ms/step - loss: 10.6052 - mse: 136.9777\n",
            "Epoch 63/100\n",
            "2/2 [==============================] - 0s 5ms/step - loss: 10.4893 - mse: 152.4555\n",
            "Epoch 64/100\n",
            "2/2 [==============================] - 0s 5ms/step - loss: 24.8450 - mse: 911.7511\n",
            "Epoch 65/100\n",
            "2/2 [==============================] - 0s 5ms/step - loss: 10.6761 - mse: 142.7374\n",
            "Epoch 66/100\n",
            "2/2 [==============================] - 0s 4ms/step - loss: 21.7809 - mse: 704.4492\n",
            "Epoch 67/100\n",
            "2/2 [==============================] - 0s 10ms/step - loss: 10.7136 - mse: 136.0194\n",
            "Epoch 68/100\n",
            "2/2 [==============================] - 0s 8ms/step - loss: 10.6397 - mse: 149.2300\n",
            "Epoch 69/100\n",
            "2/2 [==============================] - 0s 4ms/step - loss: 22.6914 - mse: 742.1761\n",
            "Epoch 70/100\n",
            "2/2 [==============================] - 0s 8ms/step - loss: 9.3316 - mse: 166.1628\n",
            "Epoch 71/100\n",
            "2/2 [==============================] - 0s 9ms/step - loss: 15.4355 - mse: 323.0843\n",
            "Epoch 72/100\n",
            "2/2 [==============================] - 0s 12ms/step - loss: 6.7437 - mse: 67.0210\n",
            "Epoch 73/100\n",
            "2/2 [==============================] - 0s 9ms/step - loss: 11.6891 - mse: 183.7296\n",
            "Epoch 74/100\n",
            "2/2 [==============================] - 0s 7ms/step - loss: 24.0400 - mse: 908.8992\n",
            "Epoch 75/100\n",
            "2/2 [==============================] - 0s 13ms/step - loss: 9.5896 - mse: 149.3948\n",
            "Epoch 76/100\n",
            "2/2 [==============================] - 0s 5ms/step - loss: 12.4371 - mse: 188.3310\n",
            "Epoch 77/100\n",
            "2/2 [==============================] - 0s 5ms/step - loss: 16.6489 - mse: 429.2708\n",
            "Epoch 78/100\n",
            "2/2 [==============================] - 0s 4ms/step - loss: 9.0614 - mse: 95.4870\n",
            "Epoch 79/100\n",
            "2/2 [==============================] - 0s 5ms/step - loss: 23.9675 - mse: 864.0864\n",
            "Epoch 80/100\n",
            "2/2 [==============================] - 0s 16ms/step - loss: 26.7463 - mse: 1104.4032\n",
            "Epoch 81/100\n",
            "2/2 [==============================] - 0s 5ms/step - loss: 11.6714 - mse: 170.7055\n",
            "Epoch 82/100\n",
            "2/2 [==============================] - 0s 7ms/step - loss: 12.0228 - mse: 211.9191\n",
            "Epoch 83/100\n",
            "2/2 [==============================] - 0s 6ms/step - loss: 17.4218 - mse: 395.5589\n",
            "Epoch 84/100\n",
            "2/2 [==============================] - 0s 4ms/step - loss: 7.2629 - mse: 73.0935\n",
            "Epoch 85/100\n",
            "2/2 [==============================] - 0s 5ms/step - loss: 14.9650 - mse: 312.8361\n",
            "Epoch 86/100\n",
            "2/2 [==============================] - 0s 7ms/step - loss: 15.2862 - mse: 315.3605\n",
            "Epoch 87/100\n",
            "2/2 [==============================] - 0s 6ms/step - loss: 19.1086 - mse: 521.2534\n",
            "Epoch 88/100\n",
            "2/2 [==============================] - 0s 17ms/step - loss: 29.8229 - mse: 1287.1907\n",
            "Epoch 89/100\n",
            "2/2 [==============================] - 0s 5ms/step - loss: 10.1742 - mse: 124.1342\n",
            "Epoch 90/100\n",
            "2/2 [==============================] - 0s 6ms/step - loss: 21.5240 - mse: 663.8611\n",
            "Epoch 91/100\n",
            "2/2 [==============================] - 0s 4ms/step - loss: 10.5716 - mse: 161.7467\n",
            "Epoch 92/100\n",
            "2/2 [==============================] - 0s 9ms/step - loss: 18.3977 - mse: 464.1326\n",
            "Epoch 93/100\n",
            "2/2 [==============================] - 0s 6ms/step - loss: 7.4138 - mse: 81.9820\n",
            "Epoch 94/100\n",
            "2/2 [==============================] - 0s 13ms/step - loss: 17.7380 - mse: 445.7379\n",
            "Epoch 95/100\n",
            "2/2 [==============================] - 0s 5ms/step - loss: 11.1144 - mse: 164.0820\n",
            "Epoch 96/100\n",
            "2/2 [==============================] - 0s 9ms/step - loss: 19.4346 - mse: 510.5842\n",
            "Epoch 97/100\n",
            "2/2 [==============================] - 0s 9ms/step - loss: 12.1593 - mse: 209.9755\n",
            "Epoch 98/100\n",
            "2/2 [==============================] - 0s 5ms/step - loss: 11.5653 - mse: 169.4052\n",
            "Epoch 99/100\n",
            "2/2 [==============================] - 0s 6ms/step - loss: 13.8827 - mse: 265.4630\n",
            "Epoch 100/100\n",
            "2/2 [==============================] - 0s 5ms/step - loss: 20.2277 - mse: 608.8218\n"
          ]
        },
        {
          "output_type": "execute_result",
          "data": {
            "text/plain": [
              "<keras.callbacks.History at 0x7f0dc91e86d0>"
            ]
          },
          "metadata": {},
          "execution_count": 89
        }
      ]
    },
    {
      "cell_type": "code",
      "source": [
        "#Now making plot preiction in model_2\n",
        "y_pred_2=model_2.predict(X_test)\n",
        "plot_prediction(prediction=y_pred_2)"
      ],
      "metadata": {
        "colab": {
          "base_uri": "https://localhost:8080/",
          "height": 428
        },
        "id": "qwHmEoFjXF7D",
        "outputId": "92f5a2f4-89db-4a64-c2a1-0e62d187985f"
      },
      "execution_count": null,
      "outputs": [
        {
          "output_type": "display_data",
          "data": {
            "text/plain": [
              "<Figure size 720x504 with 1 Axes>"
            ],
            "image/png": "[encoded data removed]"
          },
          "metadata": {
            "needs_background": "light"
          }
        }
      ]
    },
    {
      "cell_type": "code",
      "source": [
        "#Now evaluating model using evaluation metrics\n",
        "mae_2=MAE(y_test,y_pred_2)\n",
        "mse_2=MSE(y_test,y_pred_2)\n",
        "mae_2,mse_2"
      ],
      "metadata": {
        "colab": {
          "base_uri": "https://localhost:8080/"
        },
        "id": "l1Vs_IjOrKs6",
        "outputId": "6a097d59-4c4e-4bac-8589-a51978c1e04f"
      },
      "execution_count": null,
      "outputs": [
        {
          "output_type": "execute_result",
          "data": {
            "text/plain": [
              "(<tf.Tensor: shape=(), dtype=float32, numpy=3.1969407>,\n",
              " <tf.Tensor: shape=(), dtype=float32, numpy=13.070143>)"
            ]
          },
          "metadata": {},
          "execution_count": 97
        }
      ]
    },
    {
      "cell_type": "markdown",
      "source": [
        "**Now Building Model 3**\n",
        "\n",
        "using 2 Dense layers and 500 epochs"
      ],
      "metadata": {
        "id": "4a_5dbI0smTe"
      }
    },
    {
      "cell_type": "code",
      "source": [
        "#setting seed\n",
        "tf.random.set_seed(42)\n",
        "#creating model\n",
        "model_3=tf.keras.Sequential([\n",
        "    tf.keras.layers.Dense(10,input_shape=(1,)),\n",
        "    tf.keras.layers.Dense(1,input_shape=(1,))\n",
        "])\n",
        "#compiling model\n",
        "model_3.compile(loss=tf.keras.losses.mae,\n",
        "                optimizer=tf.keras.optimizers.SGD(),\n",
        "                metrics=\"mse\"\n",
        "                )\n",
        "#fitting model\n",
        "model_3.fit(X_train,y_train,epochs=500)"
      ],
      "metadata": {
        "colab": {
          "base_uri": "https://localhost:8080/"
        },
        "id": "vdgEgDkLsDwV",
        "outputId": "281c07ea-f4ff-4b8c-8276-32addfee4a89"
      },
      "execution_count": null,
      "outputs": [
        {
          "output_type": "stream",
          "name": "stdout",
          "text": [
            "Epoch 1/500\n",
            "2/2 [==============================] - 0s 11ms/step - loss: 27.4058 - mse: 1084.1482\n",
            "Epoch 2/500\n",
            "2/2 [==============================] - 0s 9ms/step - loss: 24.6339 - mse: 777.9203\n",
            "Epoch 3/500\n",
            "2/2 [==============================] - 0s 8ms/step - loss: 29.8935 - mse: 1334.8955\n",
            "Epoch 4/500\n",
            "2/2 [==============================] - 0s 5ms/step - loss: 27.4055 - mse: 1106.8035\n",
            "Epoch 5/500\n",
            "2/2 [==============================] - 0s 7ms/step - loss: 14.9463 - mse: 281.1077\n",
            "Epoch 6/500\n",
            "2/2 [==============================] - 0s 6ms/step - loss: 11.8819 - mse: 168.6621\n",
            "Epoch 7/500\n",
            "2/2 [==============================] - 0s 5ms/step - loss: 11.1988 - mse: 151.3509\n",
            "Epoch 8/500\n",
            "2/2 [==============================] - 0s 5ms/step - loss: 11.0910 - mse: 160.3745\n",
            "Epoch 9/500\n",
            "2/2 [==============================] - 0s 6ms/step - loss: 40.4763 - mse: 2586.0090\n",
            "Epoch 10/500\n",
            "2/2 [==============================] - 0s 4ms/step - loss: 27.8688 - mse: 1094.4382\n",
            "Epoch 11/500\n",
            "2/2 [==============================] - 0s 7ms/step - loss: 10.2473 - mse: 147.9359\n",
            "Epoch 12/500\n",
            "2/2 [==============================] - 0s 5ms/step - loss: 25.2803 - mse: 890.3867\n",
            "Epoch 13/500\n",
            "2/2 [==============================] - 0s 6ms/step - loss: 16.9897 - mse: 399.9678\n",
            "Epoch 14/500\n",
            "2/2 [==============================] - 0s 6ms/step - loss: 25.9217 - mse: 1049.5515\n",
            "Epoch 15/500\n",
            "2/2 [==============================] - 0s 5ms/step - loss: 17.9948 - mse: 450.2580\n",
            "Epoch 16/500\n",
            "2/2 [==============================] - 0s 5ms/step - loss: 7.3510 - mse: 80.6206\n",
            "Epoch 17/500\n",
            "2/2 [==============================] - 0s 7ms/step - loss: 10.8636 - mse: 174.7868\n",
            "Epoch 18/500\n",
            "2/2 [==============================] - 0s 5ms/step - loss: 19.5304 - mse: 565.8053\n",
            "Epoch 19/500\n",
            "2/2 [==============================] - 0s 7ms/step - loss: 10.3469 - mse: 167.7749\n",
            "Epoch 20/500\n",
            "2/2 [==============================] - 0s 6ms/step - loss: 17.6985 - mse: 455.7096\n",
            "Epoch 21/500\n",
            "2/2 [==============================] - 0s 6ms/step - loss: 15.8984 - mse: 347.1929\n",
            "Epoch 22/500\n",
            "2/2 [==============================] - 0s 5ms/step - loss: 14.1991 - mse: 285.1767\n",
            "Epoch 23/500\n",
            "2/2 [==============================] - 0s 8ms/step - loss: 8.7720 - mse: 91.7852\n",
            "Epoch 24/500\n",
            "2/2 [==============================] - 0s 4ms/step - loss: 11.0570 - mse: 153.7430\n",
            "Epoch 25/500\n",
            "2/2 [==============================] - 0s 5ms/step - loss: 12.6838 - mse: 233.2949\n",
            "Epoch 26/500\n",
            "2/2 [==============================] - 0s 12ms/step - loss: 26.1877 - mse: 1024.6091\n",
            "Epoch 27/500\n",
            "2/2 [==============================] - 0s 7ms/step - loss: 11.7432 - mse: 194.8454\n",
            "Epoch 28/500\n",
            "2/2 [==============================] - 0s 13ms/step - loss: 22.8730 - mse: 835.6074\n",
            "Epoch 29/500\n",
            "2/2 [==============================] - 0s 8ms/step - loss: 9.2459 - mse: 96.7786\n",
            "Epoch 30/500\n",
            "2/2 [==============================] - 0s 7ms/step - loss: 29.2641 - mse: 1535.1349\n",
            "Epoch 31/500\n",
            "2/2 [==============================] - 0s 8ms/step - loss: 53.0225 - mse: 5030.2988\n",
            "Epoch 32/500\n",
            "2/2 [==============================] - 0s 20ms/step - loss: 11.9951 - mse: 211.7025\n",
            "Epoch 33/500\n",
            "2/2 [==============================] - 0s 16ms/step - loss: 15.6357 - mse: 337.3666\n",
            "Epoch 34/500\n",
            "2/2 [==============================] - 0s 17ms/step - loss: 12.6925 - mse: 214.4823\n",
            "Epoch 35/500\n",
            "2/2 [==============================] - 0s 4ms/step - loss: 9.2398 - mse: 92.9126\n",
            "Epoch 36/500\n",
            "2/2 [==============================] - 0s 9ms/step - loss: 16.6497 - mse: 403.6573\n",
            "Epoch 37/500\n",
            "2/2 [==============================] - 0s 10ms/step - loss: 11.0382 - mse: 192.3919\n",
            "Epoch 38/500\n",
            "2/2 [==============================] - 0s 9ms/step - loss: 18.1634 - mse: 433.6717\n",
            "Epoch 39/500\n",
            "2/2 [==============================] - 0s 13ms/step - loss: 19.1013 - mse: 529.6439\n",
            "Epoch 40/500\n",
            "2/2 [==============================] - 0s 18ms/step - loss: 20.4324 - mse: 610.1324\n",
            "Epoch 41/500\n",
            "2/2 [==============================] - 0s 12ms/step - loss: 14.9102 - mse: 279.6183\n",
            "Epoch 42/500\n",
            "2/2 [==============================] - 0s 14ms/step - loss: 12.2809 - mse: 186.6180\n",
            "Epoch 43/500\n",
            "2/2 [==============================] - 0s 4ms/step - loss: 10.7333 - mse: 167.0952\n",
            "Epoch 44/500\n",
            "2/2 [==============================] - 0s 17ms/step - loss: 23.0260 - mse: 830.4244\n",
            "Epoch 45/500\n",
            "2/2 [==============================] - 0s 6ms/step - loss: 10.3897 - mse: 128.9549\n",
            "Epoch 46/500\n",
            "2/2 [==============================] - 0s 6ms/step - loss: 11.7904 - mse: 181.9212\n",
            "Epoch 47/500\n",
            "2/2 [==============================] - 0s 14ms/step - loss: 9.6438 - mse: 153.8708\n",
            "Epoch 48/500\n",
            "2/2 [==============================] - 0s 33ms/step - loss: 17.2335 - mse: 402.8494\n",
            "Epoch 49/500\n",
            "2/2 [==============================] - 0s 15ms/step - loss: 9.5729 - mse: 99.8337\n",
            "Epoch 50/500\n",
            "2/2 [==============================] - 0s 21ms/step - loss: 13.8185 - mse: 260.3670\n",
            "Epoch 51/500\n",
            "2/2 [==============================] - 0s 18ms/step - loss: 11.5958 - mse: 154.7956\n",
            "Epoch 52/500\n",
            "2/2 [==============================] - 0s 15ms/step - loss: 30.5538 - mse: 1613.0886\n",
            "Epoch 53/500\n",
            "2/2 [==============================] - 0s 27ms/step - loss: 14.3541 - mse: 302.5293\n",
            "Epoch 54/500\n",
            "2/2 [==============================] - 0s 14ms/step - loss: 23.9713 - mse: 859.3983\n",
            "Epoch 55/500\n",
            "2/2 [==============================] - 0s 34ms/step - loss: 23.1938 - mse: 805.5452\n",
            "Epoch 56/500\n",
            "2/2 [==============================] - 0s 15ms/step - loss: 10.8837 - mse: 170.9834\n",
            "Epoch 57/500\n",
            "2/2 [==============================] - 0s 9ms/step - loss: 12.7445 - mse: 198.7015\n",
            "Epoch 58/500\n",
            "2/2 [==============================] - 0s 18ms/step - loss: 9.5995 - mse: 102.5890\n",
            "Epoch 59/500\n",
            "2/2 [==============================] - 0s 11ms/step - loss: 12.5172 - mse: 216.3367\n",
            "Epoch 60/500\n",
            "2/2 [==============================] - 0s 23ms/step - loss: 12.3200 - mse: 208.6371\n",
            "Epoch 61/500\n",
            "2/2 [==============================] - 0s 17ms/step - loss: 17.4604 - mse: 428.6393\n",
            "Epoch 62/500\n",
            "2/2 [==============================] - 0s 11ms/step - loss: 10.6052 - mse: 136.9777\n",
            "Epoch 63/500\n",
            "2/2 [==============================] - 0s 9ms/step - loss: 10.4893 - mse: 152.4555\n",
            "Epoch 64/500\n",
            "2/2 [==============================] - 0s 8ms/step - loss: 24.8450 - mse: 911.7511\n",
            "Epoch 65/500\n",
            "2/2 [==============================] - 0s 14ms/step - loss: 10.6761 - mse: 142.7374\n",
            "Epoch 66/500\n",
            "2/2 [==============================] - 0s 17ms/step - loss: 21.7809 - mse: 704.4492\n",
            "Epoch 67/500\n",
            "2/2 [==============================] - 0s 15ms/step - loss: 10.7136 - mse: 136.0194\n",
            "Epoch 68/500\n",
            "2/2 [==============================] - 0s 9ms/step - loss: 10.6397 - mse: 149.2300\n",
            "Epoch 69/500\n",
            "2/2 [==============================] - 0s 9ms/step - loss: 22.6914 - mse: 742.1761\n",
            "Epoch 70/500\n",
            "2/2 [==============================] - 0s 9ms/step - loss: 9.3316 - mse: 166.1628\n",
            "Epoch 71/500\n",
            "2/2 [==============================] - 0s 22ms/step - loss: 15.4355 - mse: 323.0843\n",
            "Epoch 72/500\n",
            "2/2 [==============================] - 0s 14ms/step - loss: 6.7437 - mse: 67.0210\n",
            "Epoch 73/500\n",
            "2/2 [==============================] - 0s 16ms/step - loss: 11.6891 - mse: 183.7296\n",
            "Epoch 74/500\n",
            "2/2 [==============================] - 0s 5ms/step - loss: 24.0400 - mse: 908.8992\n",
            "Epoch 75/500\n",
            "2/2 [==============================] - 0s 16ms/step - loss: 9.5896 - mse: 149.3948\n",
            "Epoch 76/500\n",
            "2/2 [==============================] - 0s 13ms/step - loss: 12.4371 - mse: 188.3310\n",
            "Epoch 77/500\n",
            "2/2 [==============================] - 0s 11ms/step - loss: 16.6489 - mse: 429.2708\n",
            "Epoch 78/500\n",
            "2/2 [==============================] - 0s 5ms/step - loss: 9.0614 - mse: 95.4870\n",
            "Epoch 79/500\n",
            "2/2 [==============================] - 0s 5ms/step - loss: 23.9675 - mse: 864.0864\n",
            "Epoch 80/500\n",
            "2/2 [==============================] - 0s 8ms/step - loss: 26.7463 - mse: 1104.4032\n",
            "Epoch 81/500\n",
            "2/2 [==============================] - 0s 5ms/step - loss: 11.6714 - mse: 170.7055\n",
            "Epoch 82/500\n",
            "2/2 [==============================] - 0s 5ms/step - loss: 12.0228 - mse: 211.9191\n",
            "Epoch 83/500\n",
            "2/2 [==============================] - 0s 7ms/step - loss: 17.4218 - mse: 395.5589\n",
            "Epoch 84/500\n",
            "2/2 [==============================] - 0s 13ms/step - loss: 7.2629 - mse: 73.0935\n",
            "Epoch 85/500\n",
            "2/2 [==============================] - 0s 7ms/step - loss: 14.9650 - mse: 312.8361\n",
            "Epoch 86/500\n",
            "2/2 [==============================] - 0s 7ms/step - loss: 15.2862 - mse: 315.3605\n",
            "Epoch 87/500\n",
            "2/2 [==============================] - 0s 6ms/step - loss: 19.1086 - mse: 521.2534\n",
            "Epoch 88/500\n",
            "2/2 [==============================] - 0s 4ms/step - loss: 29.8229 - mse: 1287.1907\n",
            "Epoch 89/500\n",
            "2/2 [==============================] - 0s 11ms/step - loss: 10.1742 - mse: 124.1342\n",
            "Epoch 90/500\n",
            "2/2 [==============================] - 0s 10ms/step - loss: 21.5240 - mse: 663.8611\n",
            "Epoch 91/500\n",
            "2/2 [==============================] - 0s 10ms/step - loss: 10.5716 - mse: 161.7467\n",
            "Epoch 92/500\n",
            "2/2 [==============================] - 0s 16ms/step - loss: 18.3977 - mse: 464.1326\n",
            "Epoch 93/500\n",
            "2/2 [==============================] - 0s 10ms/step - loss: 7.4138 - mse: 81.9820\n",
            "Epoch 94/500\n",
            "2/2 [==============================] - 0s 8ms/step - loss: 17.7380 - mse: 445.7379\n",
            "Epoch 95/500\n",
            "2/2 [==============================] - 0s 15ms/step - loss: 11.1144 - mse: 164.0820\n",
            "Epoch 96/500\n",
            "2/2 [==============================] - 0s 8ms/step - loss: 19.4346 - mse: 510.5842\n",
            "Epoch 97/500\n",
            "2/2 [==============================] - 0s 5ms/step - loss: 12.1593 - mse: 209.9755\n",
            "Epoch 98/500\n",
            "2/2 [==============================] - 0s 6ms/step - loss: 11.5653 - mse: 169.4052\n",
            "Epoch 99/500\n",
            "2/2 [==============================] - 0s 7ms/step - loss: 13.8827 - mse: 265.4630\n",
            "Epoch 100/500\n",
            "2/2 [==============================] - 0s 5ms/step - loss: 20.2277 - mse: 608.8218\n",
            "Epoch 101/500\n",
            "2/2 [==============================] - 0s 4ms/step - loss: 11.4479 - mse: 177.1446\n",
            "Epoch 102/500\n",
            "2/2 [==============================] - 0s 7ms/step - loss: 17.4842 - mse: 426.5329\n",
            "Epoch 103/500\n",
            "2/2 [==============================] - 0s 5ms/step - loss: 7.0217 - mse: 65.2649\n",
            "Epoch 104/500\n",
            "2/2 [==============================] - 0s 8ms/step - loss: 23.5789 - mse: 757.4911\n",
            "Epoch 105/500\n",
            "2/2 [==============================] - 0s 12ms/step - loss: 16.8932 - mse: 443.0951\n",
            "Epoch 106/500\n",
            "2/2 [==============================] - 0s 6ms/step - loss: 9.2954 - mse: 144.6570\n",
            "Epoch 107/500\n",
            "2/2 [==============================] - 0s 6ms/step - loss: 25.3749 - mse: 934.2098\n",
            "Epoch 108/500\n",
            "2/2 [==============================] - 0s 8ms/step - loss: 13.4621 - mse: 269.8598\n",
            "Epoch 109/500\n",
            "2/2 [==============================] - 0s 5ms/step - loss: 9.5238 - mse: 108.7908\n",
            "Epoch 110/500\n",
            "2/2 [==============================] - 0s 13ms/step - loss: 9.6722 - mse: 128.8767\n",
            "Epoch 111/500\n",
            "2/2 [==============================] - 0s 21ms/step - loss: 14.5987 - mse: 295.9862\n",
            "Epoch 112/500\n",
            "2/2 [==============================] - 0s 10ms/step - loss: 9.5670 - mse: 123.4113\n",
            "Epoch 113/500\n",
            "2/2 [==============================] - 0s 7ms/step - loss: 17.8092 - mse: 460.3867\n",
            "Epoch 114/500\n",
            "2/2 [==============================] - 0s 6ms/step - loss: 17.1782 - mse: 441.2208\n",
            "Epoch 115/500\n",
            "2/2 [==============================] - 0s 8ms/step - loss: 11.1182 - mse: 155.0961\n",
            "Epoch 116/500\n",
            "2/2 [==============================] - 0s 9ms/step - loss: 23.3071 - mse: 791.7657\n",
            "Epoch 117/500\n",
            "2/2 [==============================] - 0s 8ms/step - loss: 9.6144 - mse: 126.1895\n",
            "Epoch 118/500\n",
            "2/2 [==============================] - 0s 5ms/step - loss: 10.6899 - mse: 140.2945\n",
            "Epoch 119/500\n",
            "2/2 [==============================] - 0s 5ms/step - loss: 8.0355 - mse: 78.3508\n",
            "Epoch 120/500\n",
            "2/2 [==============================] - 0s 10ms/step - loss: 29.6859 - mse: 1315.8644\n",
            "Epoch 121/500\n",
            "2/2 [==============================] - 0s 7ms/step - loss: 8.0714 - mse: 70.6648\n",
            "Epoch 122/500\n",
            "2/2 [==============================] - 0s 5ms/step - loss: 28.3086 - mse: 1233.3849\n",
            "Epoch 123/500\n",
            "2/2 [==============================] - 0s 6ms/step - loss: 32.9014 - mse: 1591.9503\n",
            "Epoch 124/500\n",
            "2/2 [==============================] - 0s 14ms/step - loss: 19.6291 - mse: 571.6959\n",
            "Epoch 125/500\n",
            "2/2 [==============================] - 0s 7ms/step - loss: 7.0095 - mse: 72.1091\n",
            "Epoch 126/500\n",
            "2/2 [==============================] - 0s 8ms/step - loss: 21.8056 - mse: 666.4340\n",
            "Epoch 127/500\n",
            "2/2 [==============================] - 0s 4ms/step - loss: 7.9812 - mse: 69.5627\n",
            "Epoch 128/500\n",
            "2/2 [==============================] - 0s 4ms/step - loss: 21.0585 - mse: 653.6486\n",
            "Epoch 129/500\n",
            "2/2 [==============================] - 0s 4ms/step - loss: 9.0107 - mse: 120.8763\n",
            "Epoch 130/500\n",
            "2/2 [==============================] - 0s 5ms/step - loss: 24.0502 - mse: 815.7742\n",
            "Epoch 131/500\n",
            "2/2 [==============================] - 0s 4ms/step - loss: 9.7537 - mse: 133.0194\n",
            "Epoch 132/500\n",
            "2/2 [==============================] - 0s 4ms/step - loss: 18.3052 - mse: 500.9213\n",
            "Epoch 133/500\n",
            "2/2 [==============================] - 0s 3ms/step - loss: 7.5833 - mse: 80.1913\n",
            "Epoch 134/500\n",
            "2/2 [==============================] - 0s 4ms/step - loss: 18.5755 - mse: 506.3341\n",
            "Epoch 135/500\n",
            "2/2 [==============================] - 0s 4ms/step - loss: 10.5360 - mse: 148.5977\n",
            "Epoch 136/500\n",
            "2/2 [==============================] - 0s 4ms/step - loss: 18.2694 - mse: 472.4460\n",
            "Epoch 137/500\n",
            "2/2 [==============================] - 0s 3ms/step - loss: 23.1658 - mse: 724.0381\n",
            "Epoch 138/500\n",
            "2/2 [==============================] - 0s 4ms/step - loss: 9.1362 - mse: 139.5299\n",
            "Epoch 139/500\n",
            "2/2 [==============================] - 0s 6ms/step - loss: 8.9181 - mse: 144.6079\n",
            "Epoch 140/500\n",
            "2/2 [==============================] - 0s 4ms/step - loss: 16.4732 - mse: 389.2471\n",
            "Epoch 141/500\n",
            "2/2 [==============================] - 0s 7ms/step - loss: 8.4208 - mse: 91.7413\n",
            "Epoch 142/500\n",
            "2/2 [==============================] - 0s 4ms/step - loss: 36.9540 - mse: 2404.8647\n",
            "Epoch 143/500\n",
            "2/2 [==============================] - 0s 7ms/step - loss: 25.5820 - mse: 927.2342\n",
            "Epoch 144/500\n",
            "2/2 [==============================] - 0s 4ms/step - loss: 9.5392 - mse: 144.3266\n",
            "Epoch 145/500\n",
            "2/2 [==============================] - 0s 4ms/step - loss: 26.6058 - mse: 957.1338\n",
            "Epoch 146/500\n",
            "2/2 [==============================] - 0s 6ms/step - loss: 8.7248 - mse: 109.2954\n",
            "Epoch 147/500\n",
            "2/2 [==============================] - 0s 4ms/step - loss: 15.6172 - mse: 311.2310\n",
            "Epoch 148/500\n",
            "2/2 [==============================] - 0s 4ms/step - loss: 18.3065 - mse: 464.7855\n",
            "Epoch 149/500\n",
            "2/2 [==============================] - 0s 6ms/step - loss: 8.1994 - mse: 106.4583\n",
            "Epoch 150/500\n",
            "2/2 [==============================] - 0s 7ms/step - loss: 7.4964 - mse: 66.4456\n",
            "Epoch 151/500\n",
            "2/2 [==============================] - 0s 5ms/step - loss: 18.3374 - mse: 485.9982\n",
            "Epoch 152/500\n",
            "2/2 [==============================] - 0s 4ms/step - loss: 10.2895 - mse: 130.5616\n",
            "Epoch 153/500\n",
            "2/2 [==============================] - 0s 5ms/step - loss: 29.6425 - mse: 1268.4631\n",
            "Epoch 154/500\n",
            "2/2 [==============================] - 0s 6ms/step - loss: 10.5556 - mse: 201.2335\n",
            "Epoch 155/500\n",
            "2/2 [==============================] - 0s 4ms/step - loss: 15.4537 - mse: 347.2169\n",
            "Epoch 156/500\n",
            "2/2 [==============================] - 0s 7ms/step - loss: 17.0174 - mse: 438.8495\n",
            "Epoch 157/500\n",
            "2/2 [==============================] - 0s 4ms/step - loss: 32.8218 - mse: 1744.8142\n",
            "Epoch 158/500\n",
            "2/2 [==============================] - 0s 5ms/step - loss: 10.7038 - mse: 151.0813\n",
            "Epoch 159/500\n",
            "2/2 [==============================] - 0s 4ms/step - loss: 8.9054 - mse: 97.7705\n",
            "Epoch 160/500\n",
            "2/2 [==============================] - 0s 8ms/step - loss: 22.1321 - mse: 709.4396\n",
            "Epoch 161/500\n",
            "2/2 [==============================] - 0s 4ms/step - loss: 11.7113 - mse: 202.9613\n",
            "Epoch 162/500\n",
            "2/2 [==============================] - 0s 10ms/step - loss: 21.5734 - mse: 670.2861\n",
            "Epoch 163/500\n",
            "2/2 [==============================] - 0s 4ms/step - loss: 19.2485 - mse: 533.4074\n",
            "Epoch 164/500\n",
            "2/2 [==============================] - 0s 7ms/step - loss: 11.0156 - mse: 177.6826\n",
            "Epoch 165/500\n",
            "2/2 [==============================] - 0s 14ms/step - loss: 9.6187 - mse: 179.8633\n",
            "Epoch 166/500\n",
            "2/2 [==============================] - 0s 5ms/step - loss: 21.5908 - mse: 681.9667\n",
            "Epoch 167/500\n",
            "2/2 [==============================] - 0s 7ms/step - loss: 26.2851 - mse: 1048.8446\n",
            "Epoch 168/500\n",
            "2/2 [==============================] - 0s 7ms/step - loss: 9.8525 - mse: 118.2892\n",
            "Epoch 169/500\n",
            "2/2 [==============================] - 0s 5ms/step - loss: 22.5630 - mse: 787.0588\n",
            "Epoch 170/500\n",
            "2/2 [==============================] - 0s 4ms/step - loss: 10.1499 - mse: 195.9051\n",
            "Epoch 171/500\n",
            "2/2 [==============================] - 0s 4ms/step - loss: 18.0464 - mse: 503.4533\n",
            "Epoch 172/500\n",
            "2/2 [==============================] - 0s 5ms/step - loss: 28.8377 - mse: 1305.7986\n",
            "Epoch 173/500\n",
            "2/2 [==============================] - 0s 5ms/step - loss: 16.5279 - mse: 432.1444\n",
            "Epoch 174/500\n",
            "2/2 [==============================] - 0s 10ms/step - loss: 11.2115 - mse: 199.9691\n",
            "Epoch 175/500\n",
            "2/2 [==============================] - 0s 5ms/step - loss: 27.5839 - mse: 1097.8187\n",
            "Epoch 176/500\n",
            "2/2 [==============================] - 0s 4ms/step - loss: 8.2680 - mse: 77.5372\n",
            "Epoch 177/500\n",
            "2/2 [==============================] - 0s 5ms/step - loss: 9.2580 - mse: 108.9075\n",
            "Epoch 178/500\n",
            "2/2 [==============================] - 0s 10ms/step - loss: 18.1440 - mse: 466.0513\n",
            "Epoch 179/500\n",
            "2/2 [==============================] - 0s 4ms/step - loss: 10.5995 - mse: 147.8543\n",
            "Epoch 180/500\n",
            "2/2 [==============================] - 0s 6ms/step - loss: 7.8992 - mse: 100.6932\n",
            "Epoch 181/500\n",
            "2/2 [==============================] - 0s 7ms/step - loss: 17.4015 - mse: 438.6035\n",
            "Epoch 182/500\n",
            "2/2 [==============================] - 0s 5ms/step - loss: 11.0089 - mse: 157.1596\n",
            "Epoch 183/500\n",
            "2/2 [==============================] - 0s 17ms/step - loss: 11.7027 - mse: 203.9956\n",
            "Epoch 184/500\n",
            "2/2 [==============================] - 0s 5ms/step - loss: 30.4062 - mse: 1387.3850\n",
            "Epoch 185/500\n",
            "2/2 [==============================] - 0s 5ms/step - loss: 7.5557 - mse: 98.6847\n",
            "Epoch 186/500\n",
            "2/2 [==============================] - 0s 4ms/step - loss: 15.9905 - mse: 369.3699\n",
            "Epoch 187/500\n",
            "2/2 [==============================] - 0s 4ms/step - loss: 8.5579 - mse: 85.4846\n",
            "Epoch 188/500\n",
            "2/2 [==============================] - 0s 4ms/step - loss: 28.7339 - mse: 1175.7068\n",
            "Epoch 189/500\n",
            "2/2 [==============================] - 0s 5ms/step - loss: 13.1689 - mse: 271.3447\n",
            "Epoch 190/500\n",
            "2/2 [==============================] - 0s 4ms/step - loss: 18.3101 - mse: 512.5546\n",
            "Epoch 191/500\n",
            "2/2 [==============================] - 0s 5ms/step - loss: 13.7376 - mse: 264.9675\n",
            "Epoch 192/500\n",
            "2/2 [==============================] - 0s 4ms/step - loss: 13.7104 - mse: 261.0630\n",
            "Epoch 193/500\n",
            "2/2 [==============================] - 0s 4ms/step - loss: 28.5842 - mse: 1135.1304\n",
            "Epoch 194/500\n",
            "2/2 [==============================] - 0s 4ms/step - loss: 7.0707 - mse: 78.6824\n",
            "Epoch 195/500\n",
            "2/2 [==============================] - 0s 8ms/step - loss: 7.0550 - mse: 74.9454\n",
            "Epoch 196/500\n",
            "2/2 [==============================] - 0s 4ms/step - loss: 22.0067 - mse: 709.4537\n",
            "Epoch 197/500\n",
            "2/2 [==============================] - 0s 4ms/step - loss: 20.8443 - mse: 643.6125\n",
            "Epoch 198/500\n",
            "2/2 [==============================] - 0s 5ms/step - loss: 12.4713 - mse: 236.5511\n",
            "Epoch 199/500\n",
            "2/2 [==============================] - 0s 5ms/step - loss: 17.9099 - mse: 460.3531\n",
            "Epoch 200/500\n",
            "2/2 [==============================] - 0s 9ms/step - loss: 13.7494 - mse: 282.2669\n",
            "Epoch 201/500\n",
            "2/2 [==============================] - 0s 5ms/step - loss: 5.4687 - mse: 41.0882\n",
            "Epoch 202/500\n",
            "2/2 [==============================] - 0s 5ms/step - loss: 13.7006 - mse: 293.8446\n",
            "Epoch 203/500\n",
            "2/2 [==============================] - 0s 4ms/step - loss: 9.4142 - mse: 139.9066\n",
            "Epoch 204/500\n",
            "2/2 [==============================] - 0s 4ms/step - loss: 20.9796 - mse: 656.2629\n",
            "Epoch 205/500\n",
            "2/2 [==============================] - 0s 5ms/step - loss: 9.5470 - mse: 127.9146\n",
            "Epoch 206/500\n",
            "2/2 [==============================] - 0s 5ms/step - loss: 11.7256 - mse: 195.6241\n",
            "Epoch 207/500\n",
            "2/2 [==============================] - 0s 5ms/step - loss: 14.3772 - mse: 317.1679\n",
            "Epoch 208/500\n",
            "2/2 [==============================] - 0s 5ms/step - loss: 14.8579 - mse: 323.1455\n",
            "Epoch 209/500\n",
            "2/2 [==============================] - 0s 5ms/step - loss: 14.9706 - mse: 345.7380\n",
            "Epoch 210/500\n",
            "2/2 [==============================] - 0s 4ms/step - loss: 17.8998 - mse: 467.4648\n",
            "Epoch 211/500\n",
            "2/2 [==============================] - 0s 5ms/step - loss: 9.8327 - mse: 145.8636\n",
            "Epoch 212/500\n",
            "2/2 [==============================] - 0s 4ms/step - loss: 18.3352 - mse: 507.7770\n",
            "Epoch 213/500\n",
            "2/2 [==============================] - 0s 4ms/step - loss: 15.0383 - mse: 307.6406\n",
            "Epoch 214/500\n",
            "2/2 [==============================] - 0s 5ms/step - loss: 14.5874 - mse: 293.5642\n",
            "Epoch 215/500\n",
            "2/2 [==============================] - 0s 5ms/step - loss: 23.3015 - mse: 799.4147\n",
            "Epoch 216/500\n",
            "2/2 [==============================] - 0s 7ms/step - loss: 13.3613 - mse: 278.0950\n",
            "Epoch 217/500\n",
            "2/2 [==============================] - 0s 8ms/step - loss: 9.8517 - mse: 136.3093\n",
            "Epoch 218/500\n",
            "2/2 [==============================] - 0s 5ms/step - loss: 12.5451 - mse: 206.5809\n",
            "Epoch 219/500\n",
            "2/2 [==============================] - 0s 4ms/step - loss: 4.9472 - mse: 37.4063\n",
            "Epoch 220/500\n",
            "2/2 [==============================] - 0s 5ms/step - loss: 7.1130 - mse: 57.5579\n",
            "Epoch 221/500\n",
            "2/2 [==============================] - 0s 5ms/step - loss: 35.4567 - mse: 2108.1023\n",
            "Epoch 222/500\n",
            "2/2 [==============================] - 0s 5ms/step - loss: 34.8634 - mse: 1966.9613\n",
            "Epoch 223/500\n",
            "2/2 [==============================] - 0s 4ms/step - loss: 7.9846 - mse: 119.7548\n",
            "Epoch 224/500\n",
            "2/2 [==============================] - 0s 4ms/step - loss: 14.7004 - mse: 318.5025\n",
            "Epoch 225/500\n",
            "2/2 [==============================] - 0s 5ms/step - loss: 16.7196 - mse: 360.6416\n",
            "Epoch 226/500\n",
            "2/2 [==============================] - 0s 5ms/step - loss: 15.9329 - mse: 369.8890\n",
            "Epoch 227/500\n",
            "2/2 [==============================] - 0s 11ms/step - loss: 16.1644 - mse: 369.5817\n",
            "Epoch 228/500\n",
            "2/2 [==============================] - 0s 4ms/step - loss: 13.9324 - mse: 282.1421\n",
            "Epoch 229/500\n",
            "2/2 [==============================] - 0s 4ms/step - loss: 18.0504 - mse: 457.4227\n",
            "Epoch 230/500\n",
            "2/2 [==============================] - 0s 5ms/step - loss: 15.6120 - mse: 314.6217\n",
            "Epoch 231/500\n",
            "2/2 [==============================] - 0s 5ms/step - loss: 21.2041 - mse: 670.7587\n",
            "Epoch 232/500\n",
            "2/2 [==============================] - 0s 4ms/step - loss: 25.2732 - mse: 913.5804\n",
            "Epoch 233/500\n",
            "2/2 [==============================] - 0s 5ms/step - loss: 16.3176 - mse: 387.7160\n",
            "Epoch 234/500\n",
            "2/2 [==============================] - 0s 9ms/step - loss: 7.2729 - mse: 66.5098\n",
            "Epoch 235/500\n",
            "2/2 [==============================] - 0s 4ms/step - loss: 16.9688 - mse: 403.1298\n",
            "Epoch 236/500\n",
            "2/2 [==============================] - 0s 6ms/step - loss: 7.1225 - mse: 69.7516\n",
            "Epoch 237/500\n",
            "2/2 [==============================] - 0s 5ms/step - loss: 9.2058 - mse: 118.9100\n",
            "Epoch 238/500\n",
            "2/2 [==============================] - 0s 5ms/step - loss: 8.0961 - mse: 86.7115\n",
            "Epoch 239/500\n",
            "2/2 [==============================] - 0s 4ms/step - loss: 17.0538 - mse: 438.0269\n",
            "Epoch 240/500\n",
            "2/2 [==============================] - 0s 5ms/step - loss: 8.8627 - mse: 107.8192\n",
            "Epoch 241/500\n",
            "2/2 [==============================] - 0s 5ms/step - loss: 13.1711 - mse: 273.2422\n",
            "Epoch 242/500\n",
            "2/2 [==============================] - 0s 4ms/step - loss: 8.7886 - mse: 104.8366\n",
            "Epoch 243/500\n",
            "2/2 [==============================] - 0s 5ms/step - loss: 18.8161 - mse: 541.4716\n",
            "Epoch 244/500\n",
            "2/2 [==============================] - 0s 5ms/step - loss: 14.0531 - mse: 275.3817\n",
            "Epoch 245/500\n",
            "2/2 [==============================] - 0s 4ms/step - loss: 14.6831 - mse: 290.1828\n",
            "Epoch 246/500\n",
            "2/2 [==============================] - 0s 4ms/step - loss: 15.8045 - mse: 370.7154\n",
            "Epoch 247/500\n",
            "2/2 [==============================] - 0s 4ms/step - loss: 17.6810 - mse: 421.4945\n",
            "Epoch 248/500\n",
            "2/2 [==============================] - 0s 4ms/step - loss: 13.2367 - mse: 251.7197\n",
            "Epoch 249/500\n",
            "2/2 [==============================] - 0s 5ms/step - loss: 14.5070 - mse: 288.7692\n",
            "Epoch 250/500\n",
            "2/2 [==============================] - 0s 5ms/step - loss: 23.2322 - mse: 793.2501\n",
            "Epoch 251/500\n",
            "2/2 [==============================] - 0s 4ms/step - loss: 9.3009 - mse: 119.0357\n",
            "Epoch 252/500\n",
            "2/2 [==============================] - 0s 4ms/step - loss: 36.6569 - mse: 2195.6194\n",
            "Epoch 253/500\n",
            "2/2 [==============================] - 0s 4ms/step - loss: 21.8205 - mse: 667.9635\n",
            "Epoch 254/500\n",
            "2/2 [==============================] - 0s 4ms/step - loss: 7.2792 - mse: 77.8093\n",
            "Epoch 255/500\n",
            "2/2 [==============================] - 0s 4ms/step - loss: 24.7127 - mse: 882.9670\n",
            "Epoch 256/500\n",
            "2/2 [==============================] - 0s 4ms/step - loss: 12.4220 - mse: 220.3517\n",
            "Epoch 257/500\n",
            "2/2 [==============================] - 0s 4ms/step - loss: 10.5823 - mse: 164.0441\n",
            "Epoch 258/500\n",
            "2/2 [==============================] - 0s 4ms/step - loss: 14.4883 - mse: 322.3513\n",
            "Epoch 259/500\n",
            "2/2 [==============================] - 0s 4ms/step - loss: 8.6132 - mse: 98.6933\n",
            "Epoch 260/500\n",
            "2/2 [==============================] - 0s 5ms/step - loss: 43.0580 - mse: 2975.2341\n",
            "Epoch 261/500\n",
            "2/2 [==============================] - 0s 4ms/step - loss: 18.4611 - mse: 493.6667\n",
            "Epoch 262/500\n",
            "2/2 [==============================] - 0s 5ms/step - loss: 6.8820 - mse: 94.3408\n",
            "Epoch 263/500\n",
            "2/2 [==============================] - 0s 5ms/step - loss: 13.7211 - mse: 268.5678\n",
            "Epoch 264/500\n",
            "2/2 [==============================] - 0s 4ms/step - loss: 21.0154 - mse: 653.9614\n",
            "Epoch 265/500\n",
            "2/2 [==============================] - 0s 4ms/step - loss: 19.3731 - mse: 545.6253\n",
            "Epoch 266/500\n",
            "2/2 [==============================] - 0s 4ms/step - loss: 11.4735 - mse: 234.7203\n",
            "Epoch 267/500\n",
            "2/2 [==============================] - 0s 4ms/step - loss: 7.5302 - mse: 112.0908\n",
            "Epoch 268/500\n",
            "2/2 [==============================] - 0s 4ms/step - loss: 21.6453 - mse: 670.2252\n",
            "Epoch 269/500\n",
            "2/2 [==============================] - 0s 4ms/step - loss: 33.1785 - mse: 1653.7379\n",
            "Epoch 270/500\n",
            "2/2 [==============================] - 0s 4ms/step - loss: 10.0833 - mse: 148.7353\n",
            "Epoch 271/500\n",
            "2/2 [==============================] - 0s 4ms/step - loss: 12.1012 - mse: 303.1726\n",
            "Epoch 272/500\n",
            "2/2 [==============================] - 0s 4ms/step - loss: 26.1372 - mse: 944.6777\n",
            "Epoch 273/500\n",
            "2/2 [==============================] - 0s 4ms/step - loss: 12.1751 - mse: 228.8034\n",
            "Epoch 274/500\n",
            "2/2 [==============================] - 0s 4ms/step - loss: 13.3272 - mse: 282.3035\n",
            "Epoch 275/500\n",
            "2/2 [==============================] - 0s 4ms/step - loss: 29.3775 - mse: 1229.1163\n",
            "Epoch 276/500\n",
            "2/2 [==============================] - 0s 4ms/step - loss: 7.3329 - mse: 104.3417\n",
            "Epoch 277/500\n",
            "2/2 [==============================] - 0s 5ms/step - loss: 31.1362 - mse: 1360.7679\n",
            "Epoch 278/500\n",
            "2/2 [==============================] - 0s 4ms/step - loss: 12.3015 - mse: 234.6620\n",
            "Epoch 279/500\n",
            "2/2 [==============================] - 0s 4ms/step - loss: 16.4103 - mse: 416.9113\n",
            "Epoch 280/500\n",
            "2/2 [==============================] - 0s 4ms/step - loss: 21.9118 - mse: 716.7842\n",
            "Epoch 281/500\n",
            "2/2 [==============================] - 0s 5ms/step - loss: 22.1501 - mse: 745.2065\n",
            "Epoch 282/500\n",
            "2/2 [==============================] - 0s 5ms/step - loss: 7.7429 - mse: 90.5224\n",
            "Epoch 283/500\n",
            "2/2 [==============================] - 0s 11ms/step - loss: 8.1429 - mse: 87.9050\n",
            "Epoch 284/500\n",
            "2/2 [==============================] - 0s 4ms/step - loss: 24.9435 - mse: 936.1608\n",
            "Epoch 285/500\n",
            "2/2 [==============================] - 0s 4ms/step - loss: 13.6958 - mse: 299.3615\n",
            "Epoch 286/500\n",
            "2/2 [==============================] - 0s 5ms/step - loss: 6.8926 - mse: 81.2999\n",
            "Epoch 287/500\n",
            "2/2 [==============================] - 0s 4ms/step - loss: 24.5352 - mse: 862.2879\n",
            "Epoch 288/500\n",
            "2/2 [==============================] - 0s 5ms/step - loss: 20.1721 - mse: 605.2875\n",
            "Epoch 289/500\n",
            "2/2 [==============================] - 0s 4ms/step - loss: 11.9658 - mse: 244.8306\n",
            "Epoch 290/500\n",
            "2/2 [==============================] - 0s 5ms/step - loss: 16.5391 - mse: 366.5719\n",
            "Epoch 291/500\n",
            "2/2 [==============================] - 0s 8ms/step - loss: 16.8017 - mse: 414.8176\n",
            "Epoch 292/500\n",
            "2/2 [==============================] - 0s 5ms/step - loss: 9.4642 - mse: 213.4544\n",
            "Epoch 293/500\n",
            "2/2 [==============================] - 0s 4ms/step - loss: 15.2711 - mse: 318.1684\n",
            "Epoch 294/500\n",
            "2/2 [==============================] - 0s 9ms/step - loss: 22.7179 - mse: 780.8712\n",
            "Epoch 295/500\n",
            "2/2 [==============================] - 0s 7ms/step - loss: 17.9234 - mse: 458.5733\n",
            "Epoch 296/500\n",
            "2/2 [==============================] - 0s 6ms/step - loss: 6.1743 - mse: 59.0634\n",
            "Epoch 297/500\n",
            "2/2 [==============================] - 0s 4ms/step - loss: 10.9440 - mse: 254.2861\n",
            "Epoch 298/500\n",
            "2/2 [==============================] - 0s 4ms/step - loss: 23.1530 - mse: 785.9867\n",
            "Epoch 299/500\n",
            "2/2 [==============================] - 0s 5ms/step - loss: 17.7331 - mse: 469.9268\n",
            "Epoch 300/500\n",
            "2/2 [==============================] - 0s 4ms/step - loss: 6.9824 - mse: 65.0503\n",
            "Epoch 301/500\n",
            "2/2 [==============================] - 0s 4ms/step - loss: 25.1857 - mse: 898.2788\n",
            "Epoch 302/500\n",
            "2/2 [==============================] - 0s 4ms/step - loss: 8.9025 - mse: 116.0077\n",
            "Epoch 303/500\n",
            "2/2 [==============================] - 0s 4ms/step - loss: 17.7668 - mse: 461.9373\n",
            "Epoch 304/500\n",
            "2/2 [==============================] - 0s 4ms/step - loss: 11.0002 - mse: 173.9248\n",
            "Epoch 305/500\n",
            "2/2 [==============================] - 0s 5ms/step - loss: 12.9191 - mse: 271.8381\n",
            "Epoch 306/500\n",
            "2/2 [==============================] - 0s 4ms/step - loss: 8.4033 - mse: 94.4444\n",
            "Epoch 307/500\n",
            "2/2 [==============================] - 0s 4ms/step - loss: 13.6094 - mse: 279.1173\n",
            "Epoch 308/500\n",
            "2/2 [==============================] - 0s 4ms/step - loss: 7.4404 - mse: 78.3839\n",
            "Epoch 309/500\n",
            "2/2 [==============================] - 0s 5ms/step - loss: 9.4642 - mse: 138.8858\n",
            "Epoch 310/500\n",
            "2/2 [==============================] - 0s 7ms/step - loss: 10.7099 - mse: 198.2187\n",
            "Epoch 311/500\n",
            "2/2 [==============================] - 0s 4ms/step - loss: 13.2814 - mse: 254.2447\n",
            "Epoch 312/500\n",
            "2/2 [==============================] - 0s 4ms/step - loss: 29.9763 - mse: 1241.6272\n",
            "Epoch 313/500\n",
            "2/2 [==============================] - 0s 4ms/step - loss: 7.6304 - mse: 104.4100\n",
            "Epoch 314/500\n",
            "2/2 [==============================] - 0s 4ms/step - loss: 9.9106 - mse: 239.5556\n",
            "Epoch 315/500\n",
            "2/2 [==============================] - 0s 5ms/step - loss: 23.7669 - mse: 820.7438\n",
            "Epoch 316/500\n",
            "2/2 [==============================] - 0s 5ms/step - loss: 16.3937 - mse: 404.4796\n",
            "Epoch 317/500\n",
            "2/2 [==============================] - 0s 4ms/step - loss: 21.0758 - mse: 606.4604\n",
            "Epoch 318/500\n",
            "2/2 [==============================] - 0s 4ms/step - loss: 7.9367 - mse: 81.3765\n",
            "Epoch 319/500\n",
            "2/2 [==============================] - 0s 4ms/step - loss: 17.9731 - mse: 479.6092\n",
            "Epoch 320/500\n",
            "2/2 [==============================] - 0s 4ms/step - loss: 10.2375 - mse: 174.0454\n",
            "Epoch 321/500\n",
            "2/2 [==============================] - 0s 4ms/step - loss: 8.3338 - mse: 110.8493\n",
            "Epoch 322/500\n",
            "2/2 [==============================] - 0s 4ms/step - loss: 5.0621 - mse: 39.6195\n",
            "Epoch 323/500\n",
            "2/2 [==============================] - 0s 4ms/step - loss: 23.5109 - mse: 802.4891\n",
            "Epoch 324/500\n",
            "2/2 [==============================] - 0s 4ms/step - loss: 6.8309 - mse: 57.6746\n",
            "Epoch 325/500\n",
            "2/2 [==============================] - 0s 5ms/step - loss: 16.3863 - mse: 384.4404\n",
            "Epoch 326/500\n",
            "2/2 [==============================] - 0s 11ms/step - loss: 7.5019 - mse: 78.7650\n",
            "Epoch 327/500\n",
            "2/2 [==============================] - 0s 4ms/step - loss: 20.0573 - mse: 568.8239\n",
            "Epoch 328/500\n",
            "2/2 [==============================] - 0s 4ms/step - loss: 13.7661 - mse: 265.8646\n",
            "Epoch 329/500\n",
            "2/2 [==============================] - 0s 5ms/step - loss: 16.8282 - mse: 430.9922\n",
            "Epoch 330/500\n",
            "2/2 [==============================] - 0s 4ms/step - loss: 7.0514 - mse: 81.9922\n",
            "Epoch 331/500\n",
            "2/2 [==============================] - 0s 9ms/step - loss: 21.4846 - mse: 704.3917\n",
            "Epoch 332/500\n",
            "2/2 [==============================] - 0s 4ms/step - loss: 12.2880 - mse: 236.5700\n",
            "Epoch 333/500\n",
            "2/2 [==============================] - 0s 5ms/step - loss: 11.8117 - mse: 222.0919\n",
            "Epoch 334/500\n",
            "2/2 [==============================] - 0s 5ms/step - loss: 8.3600 - mse: 169.8893\n",
            "Epoch 335/500\n",
            "2/2 [==============================] - 0s 4ms/step - loss: 12.4833 - mse: 276.8587\n",
            "Epoch 336/500\n",
            "2/2 [==============================] - 0s 5ms/step - loss: 32.2171 - mse: 1416.1729\n",
            "Epoch 337/500\n",
            "2/2 [==============================] - 0s 4ms/step - loss: 10.4477 - mse: 180.3260\n",
            "Epoch 338/500\n",
            "2/2 [==============================] - 0s 4ms/step - loss: 19.6832 - mse: 573.4711\n",
            "Epoch 339/500\n",
            "2/2 [==============================] - 0s 4ms/step - loss: 35.0762 - mse: 1849.1539\n",
            "Epoch 340/500\n",
            "2/2 [==============================] - 0s 5ms/step - loss: 10.4192 - mse: 181.4144\n",
            "Epoch 341/500\n",
            "2/2 [==============================] - 0s 5ms/step - loss: 9.7625 - mse: 156.3229\n",
            "Epoch 342/500\n",
            "2/2 [==============================] - 0s 4ms/step - loss: 11.9500 - mse: 188.5579\n",
            "Epoch 343/500\n",
            "2/2 [==============================] - 0s 4ms/step - loss: 9.3943 - mse: 145.3949\n",
            "Epoch 344/500\n",
            "2/2 [==============================] - 0s 6ms/step - loss: 5.6071 - mse: 44.6760\n",
            "Epoch 345/500\n",
            "2/2 [==============================] - 0s 5ms/step - loss: 37.4876 - mse: 2291.7795\n",
            "Epoch 346/500\n",
            "2/2 [==============================] - 0s 5ms/step - loss: 16.8830 - mse: 411.1353\n",
            "Epoch 347/500\n",
            "2/2 [==============================] - 0s 4ms/step - loss: 12.8748 - mse: 281.5983\n",
            "Epoch 348/500\n",
            "2/2 [==============================] - 0s 5ms/step - loss: 8.1960 - mse: 162.6964\n",
            "Epoch 349/500\n",
            "2/2 [==============================] - 0s 5ms/step - loss: 13.5568 - mse: 261.1368\n",
            "Epoch 350/500\n",
            "2/2 [==============================] - 0s 5ms/step - loss: 15.4354 - mse: 333.2080\n",
            "Epoch 351/500\n",
            "2/2 [==============================] - 0s 5ms/step - loss: 32.9626 - mse: 1524.7932\n",
            "Epoch 352/500\n",
            "2/2 [==============================] - 0s 5ms/step - loss: 14.2040 - mse: 282.7506\n",
            "Epoch 353/500\n",
            "2/2 [==============================] - 0s 11ms/step - loss: 15.9196 - mse: 374.1915\n",
            "Epoch 354/500\n",
            "2/2 [==============================] - 0s 5ms/step - loss: 19.0878 - mse: 534.9771\n",
            "Epoch 355/500\n",
            "2/2 [==============================] - 0s 5ms/step - loss: 34.1178 - mse: 1782.7025\n",
            "Epoch 356/500\n",
            "2/2 [==============================] - 0s 5ms/step - loss: 7.6798 - mse: 90.9118\n",
            "Epoch 357/500\n",
            "2/2 [==============================] - 0s 5ms/step - loss: 25.2287 - mse: 974.0947\n",
            "Epoch 358/500\n",
            "2/2 [==============================] - 0s 5ms/step - loss: 22.6759 - mse: 742.0939\n",
            "Epoch 359/500\n",
            "2/2 [==============================] - 0s 4ms/step - loss: 8.8765 - mse: 198.2591\n",
            "Epoch 360/500\n",
            "2/2 [==============================] - 0s 9ms/step - loss: 21.4709 - mse: 687.3278\n",
            "Epoch 361/500\n",
            "2/2 [==============================] - 0s 6ms/step - loss: 20.6073 - mse: 616.7942\n",
            "Epoch 362/500\n",
            "2/2 [==============================] - 0s 5ms/step - loss: 7.0611 - mse: 69.3817\n",
            "Epoch 363/500\n",
            "2/2 [==============================] - 0s 5ms/step - loss: 25.8117 - mse: 994.8184\n",
            "Epoch 364/500\n",
            "2/2 [==============================] - 0s 6ms/step - loss: 32.2247 - mse: 1527.6050\n",
            "Epoch 365/500\n",
            "2/2 [==============================] - 0s 5ms/step - loss: 10.0204 - mse: 161.6848\n",
            "Epoch 366/500\n",
            "2/2 [==============================] - 0s 5ms/step - loss: 9.6722 - mse: 227.5722\n",
            "Epoch 367/500\n",
            "2/2 [==============================] - 0s 5ms/step - loss: 30.4171 - mse: 1294.6045\n",
            "Epoch 368/500\n",
            "2/2 [==============================] - 0s 5ms/step - loss: 10.5020 - mse: 236.3134\n",
            "Epoch 369/500\n",
            "2/2 [==============================] - 0s 5ms/step - loss: 14.9909 - mse: 330.8544\n",
            "Epoch 370/500\n",
            "2/2 [==============================] - 0s 5ms/step - loss: 14.6580 - mse: 308.0736\n",
            "Epoch 371/500\n",
            "2/2 [==============================] - 0s 4ms/step - loss: 23.3672 - mse: 789.0358\n",
            "Epoch 372/500\n",
            "2/2 [==============================] - 0s 4ms/step - loss: 13.1025 - mse: 290.2268\n",
            "Epoch 373/500\n",
            "2/2 [==============================] - 0s 4ms/step - loss: 9.2586 - mse: 140.7053\n",
            "Epoch 374/500\n",
            "2/2 [==============================] - 0s 7ms/step - loss: 9.6648 - mse: 194.1147\n",
            "Epoch 375/500\n",
            "2/2 [==============================] - 0s 5ms/step - loss: 13.0041 - mse: 237.9867\n",
            "Epoch 376/500\n",
            "2/2 [==============================] - 0s 4ms/step - loss: 14.8863 - mse: 324.7536\n",
            "Epoch 377/500\n",
            "2/2 [==============================] - 0s 5ms/step - loss: 14.7932 - mse: 297.2056\n",
            "Epoch 378/500\n",
            "2/2 [==============================] - 0s 4ms/step - loss: 16.2751 - mse: 418.5632\n",
            "Epoch 379/500\n",
            "2/2 [==============================] - 0s 5ms/step - loss: 20.8307 - mse: 596.8133\n",
            "Epoch 380/500\n",
            "2/2 [==============================] - 0s 180ms/step - loss: 33.5317 - mse: 1684.8943\n",
            "Epoch 381/500\n",
            "2/2 [==============================] - 0s 4ms/step - loss: 8.2166 - mse: 100.6385\n",
            "Epoch 382/500\n",
            "2/2 [==============================] - 0s 4ms/step - loss: 13.0960 - mse: 282.0384\n",
            "Epoch 383/500\n",
            "2/2 [==============================] - 0s 4ms/step - loss: 8.3999 - mse: 126.0928\n",
            "Epoch 384/500\n",
            "2/2 [==============================] - 0s 4ms/step - loss: 7.1283 - mse: 72.4399\n",
            "Epoch 385/500\n",
            "2/2 [==============================] - 0s 4ms/step - loss: 10.9390 - mse: 249.4376\n",
            "Epoch 386/500\n",
            "2/2 [==============================] - 0s 4ms/step - loss: 19.7654 - mse: 601.5795\n",
            "Epoch 387/500\n",
            "2/2 [==============================] - 0s 4ms/step - loss: 24.8625 - mse: 896.3691\n",
            "Epoch 388/500\n",
            "2/2 [==============================] - 0s 5ms/step - loss: 8.7422 - mse: 128.0917\n",
            "Epoch 389/500\n",
            "2/2 [==============================] - 0s 4ms/step - loss: 5.9488 - mse: 48.1568\n",
            "Epoch 390/500\n",
            "2/2 [==============================] - 0s 4ms/step - loss: 24.4400 - mse: 881.1036\n",
            "Epoch 391/500\n",
            "2/2 [==============================] - 0s 4ms/step - loss: 5.9771 - mse: 73.2800\n",
            "Epoch 392/500\n",
            "2/2 [==============================] - 0s 4ms/step - loss: 16.3250 - mse: 379.2592\n",
            "Epoch 393/500\n",
            "2/2 [==============================] - 0s 4ms/step - loss: 6.0917 - mse: 76.7833\n",
            "Epoch 394/500\n",
            "2/2 [==============================] - 0s 4ms/step - loss: 11.0963 - mse: 204.7650\n",
            "Epoch 395/500\n",
            "2/2 [==============================] - 0s 4ms/step - loss: 14.9601 - mse: 336.1563\n",
            "Epoch 396/500\n",
            "2/2 [==============================] - 0s 4ms/step - loss: 7.6462 - mse: 103.3247\n",
            "Epoch 397/500\n",
            "2/2 [==============================] - 0s 4ms/step - loss: 8.7654 - mse: 136.5433\n",
            "Epoch 398/500\n",
            "2/2 [==============================] - 0s 4ms/step - loss: 14.5991 - mse: 320.4537\n",
            "Epoch 399/500\n",
            "2/2 [==============================] - 0s 4ms/step - loss: 11.3166 - mse: 280.6889\n",
            "Epoch 400/500\n",
            "2/2 [==============================] - 0s 4ms/step - loss: 21.9080 - mse: 741.3461\n",
            "Epoch 401/500\n",
            "2/2 [==============================] - 0s 4ms/step - loss: 14.8653 - mse: 348.6721\n",
            "Epoch 402/500\n",
            "2/2 [==============================] - 0s 4ms/step - loss: 8.4970 - mse: 115.5853\n",
            "Epoch 403/500\n",
            "2/2 [==============================] - 0s 4ms/step - loss: 10.3957 - mse: 191.0402\n",
            "Epoch 404/500\n",
            "2/2 [==============================] - 0s 4ms/step - loss: 10.2556 - mse: 207.5718\n",
            "Epoch 405/500\n",
            "2/2 [==============================] - 0s 8ms/step - loss: 6.3392 - mse: 68.2857\n",
            "Epoch 406/500\n",
            "2/2 [==============================] - 0s 4ms/step - loss: 17.4602 - mse: 460.2048\n",
            "Epoch 407/500\n",
            "2/2 [==============================] - 0s 4ms/step - loss: 11.4627 - mse: 284.7277\n",
            "Epoch 408/500\n",
            "2/2 [==============================] - 0s 4ms/step - loss: 20.7294 - mse: 662.1500\n",
            "Epoch 409/500\n",
            "2/2 [==============================] - 0s 4ms/step - loss: 31.3338 - mse: 1522.7683\n",
            "Epoch 410/500\n",
            "2/2 [==============================] - 0s 4ms/step - loss: 9.2542 - mse: 221.9487\n",
            "Epoch 411/500\n",
            "2/2 [==============================] - 0s 5ms/step - loss: 14.8621 - mse: 285.8415\n",
            "Epoch 412/500\n",
            "2/2 [==============================] - 0s 4ms/step - loss: 21.7182 - mse: 721.0389\n",
            "Epoch 413/500\n",
            "2/2 [==============================] - 0s 4ms/step - loss: 12.6615 - mse: 248.9694\n",
            "Epoch 414/500\n",
            "2/2 [==============================] - 0s 4ms/step - loss: 6.0687 - mse: 88.3708\n",
            "Epoch 415/500\n",
            "2/2 [==============================] - 0s 4ms/step - loss: 13.2201 - mse: 239.8954\n",
            "Epoch 416/500\n",
            "2/2 [==============================] - 0s 4ms/step - loss: 27.4244 - mse: 1037.9579\n",
            "Epoch 417/500\n",
            "2/2 [==============================] - 0s 8ms/step - loss: 10.6407 - mse: 207.4821\n",
            "Epoch 418/500\n",
            "2/2 [==============================] - 0s 4ms/step - loss: 12.8230 - mse: 236.7907\n",
            "Epoch 419/500\n",
            "2/2 [==============================] - 0s 9ms/step - loss: 15.8836 - mse: 374.5482\n",
            "Epoch 420/500\n",
            "2/2 [==============================] - 0s 4ms/step - loss: 24.7510 - mse: 849.5329\n",
            "Epoch 421/500\n",
            "2/2 [==============================] - 0s 4ms/step - loss: 17.3753 - mse: 444.1830\n",
            "Epoch 422/500\n",
            "2/2 [==============================] - 0s 4ms/step - loss: 7.8241 - mse: 157.5328\n",
            "Epoch 423/500\n",
            "2/2 [==============================] - 0s 5ms/step - loss: 25.3789 - mse: 907.6139\n",
            "Epoch 424/500\n",
            "2/2 [==============================] - 0s 4ms/step - loss: 15.1031 - mse: 369.3289\n",
            "Epoch 425/500\n",
            "2/2 [==============================] - 0s 5ms/step - loss: 7.1643 - mse: 75.3718\n",
            "Epoch 426/500\n",
            "2/2 [==============================] - 0s 4ms/step - loss: 20.3318 - mse: 572.0355\n",
            "Epoch 427/500\n",
            "2/2 [==============================] - 0s 4ms/step - loss: 6.3283 - mse: 84.9745\n",
            "Epoch 428/500\n",
            "2/2 [==============================] - 0s 5ms/step - loss: 12.9961 - mse: 288.4218\n",
            "Epoch 429/500\n",
            "2/2 [==============================] - 0s 4ms/step - loss: 10.7869 - mse: 192.7742\n",
            "Epoch 430/500\n",
            "2/2 [==============================] - 0s 5ms/step - loss: 11.4007 - mse: 248.2724\n",
            "Epoch 431/500\n",
            "2/2 [==============================] - 0s 4ms/step - loss: 10.6152 - mse: 218.3398\n",
            "Epoch 432/500\n",
            "2/2 [==============================] - 0s 4ms/step - loss: 11.4582 - mse: 239.2198\n",
            "Epoch 433/500\n",
            "2/2 [==============================] - 0s 5ms/step - loss: 11.3851 - mse: 296.6783\n",
            "Epoch 434/500\n",
            "2/2 [==============================] - 0s 6ms/step - loss: 30.3986 - mse: 1296.5632\n",
            "Epoch 435/500\n",
            "2/2 [==============================] - 0s 4ms/step - loss: 10.5052 - mse: 283.6812\n",
            "Epoch 436/500\n",
            "2/2 [==============================] - 0s 4ms/step - loss: 28.8810 - mse: 1216.2336\n",
            "Epoch 437/500\n",
            "2/2 [==============================] - 0s 4ms/step - loss: 8.5916 - mse: 209.5433\n",
            "Epoch 438/500\n",
            "2/2 [==============================] - 0s 4ms/step - loss: 12.7378 - mse: 264.4510\n",
            "Epoch 439/500\n",
            "2/2 [==============================] - 0s 4ms/step - loss: 33.6754 - mse: 1570.2361\n",
            "Epoch 440/500\n",
            "2/2 [==============================] - 0s 4ms/step - loss: 15.0963 - mse: 294.7132\n",
            "Epoch 441/500\n",
            "2/2 [==============================] - 0s 4ms/step - loss: 17.4813 - mse: 487.0573\n",
            "Epoch 442/500\n",
            "2/2 [==============================] - 0s 4ms/step - loss: 22.3049 - mse: 750.9305\n",
            "Epoch 443/500\n",
            "2/2 [==============================] - 0s 4ms/step - loss: 23.5841 - mse: 784.1378\n",
            "Epoch 444/500\n",
            "2/2 [==============================] - 0s 4ms/step - loss: 11.0008 - mse: 203.7582\n",
            "Epoch 445/500\n",
            "2/2 [==============================] - 0s 4ms/step - loss: 14.9175 - mse: 316.4790\n",
            "Epoch 446/500\n",
            "2/2 [==============================] - 0s 4ms/step - loss: 17.9979 - mse: 515.1713\n",
            "Epoch 447/500\n",
            "2/2 [==============================] - 0s 4ms/step - loss: 5.4482 - mse: 51.4485\n",
            "Epoch 448/500\n",
            "2/2 [==============================] - 0s 4ms/step - loss: 10.0527 - mse: 253.4828\n",
            "Epoch 449/500\n",
            "2/2 [==============================] - 0s 4ms/step - loss: 14.0052 - mse: 277.3353\n",
            "Epoch 450/500\n",
            "2/2 [==============================] - 0s 7ms/step - loss: 16.7782 - mse: 424.4229\n",
            "Epoch 451/500\n",
            "2/2 [==============================] - 0s 4ms/step - loss: 14.2937 - mse: 303.4478\n",
            "Epoch 452/500\n",
            "2/2 [==============================] - 0s 4ms/step - loss: 30.6193 - mse: 1329.8268\n",
            "Epoch 453/500\n",
            "2/2 [==============================] - 0s 4ms/step - loss: 7.6541 - mse: 159.0376\n",
            "Epoch 454/500\n",
            "2/2 [==============================] - 0s 4ms/step - loss: 28.1428 - mse: 1104.4142\n",
            "Epoch 455/500\n",
            "2/2 [==============================] - 0s 5ms/step - loss: 8.0017 - mse: 119.3274\n",
            "Epoch 456/500\n",
            "2/2 [==============================] - 0s 4ms/step - loss: 10.3933 - mse: 289.6392\n",
            "Epoch 457/500\n",
            "2/2 [==============================] - 0s 4ms/step - loss: 15.0242 - mse: 318.3536\n",
            "Epoch 458/500\n",
            "2/2 [==============================] - 0s 4ms/step - loss: 16.5653 - mse: 439.8007\n",
            "Epoch 459/500\n",
            "2/2 [==============================] - 0s 9ms/step - loss: 26.8566 - mse: 1033.5485\n",
            "Epoch 460/500\n",
            "2/2 [==============================] - 0s 4ms/step - loss: 12.4852 - mse: 251.1162\n",
            "Epoch 461/500\n",
            "2/2 [==============================] - 0s 5ms/step - loss: 12.4784 - mse: 272.9071\n",
            "Epoch 462/500\n",
            "2/2 [==============================] - 0s 4ms/step - loss: 13.3186 - mse: 245.2335\n",
            "Epoch 463/500\n",
            "2/2 [==============================] - 0s 156ms/step - loss: 29.5524 - mse: 1219.8660\n",
            "Epoch 464/500\n",
            "2/2 [==============================] - 0s 4ms/step - loss: 3.4664 - mse: 22.0145\n",
            "Epoch 465/500\n",
            "2/2 [==============================] - 0s 4ms/step - loss: 15.2136 - mse: 352.9369\n",
            "Epoch 466/500\n",
            "2/2 [==============================] - 0s 4ms/step - loss: 20.8327 - mse: 651.1593\n",
            "Epoch 467/500\n",
            "2/2 [==============================] - 0s 5ms/step - loss: 30.5108 - mse: 1421.0010\n",
            "Epoch 468/500\n",
            "2/2 [==============================] - 0s 4ms/step - loss: 11.0597 - mse: 236.2266\n",
            "Epoch 469/500\n",
            "2/2 [==============================] - 0s 4ms/step - loss: 12.8372 - mse: 278.2045\n",
            "Epoch 470/500\n",
            "2/2 [==============================] - 0s 4ms/step - loss: 3.2398 - mse: 14.0655\n",
            "Epoch 471/500\n",
            "2/2 [==============================] - 0s 4ms/step - loss: 16.6964 - mse: 372.9566\n",
            "Epoch 472/500\n",
            "2/2 [==============================] - 0s 5ms/step - loss: 13.3883 - mse: 253.4232\n",
            "Epoch 473/500\n",
            "2/2 [==============================] - 0s 4ms/step - loss: 15.2771 - mse: 396.6107\n",
            "Epoch 474/500\n",
            "2/2 [==============================] - 0s 4ms/step - loss: 11.7448 - mse: 305.3250\n",
            "Epoch 475/500\n",
            "2/2 [==============================] - 0s 4ms/step - loss: 16.4113 - mse: 397.1613\n",
            "Epoch 476/500\n",
            "2/2 [==============================] - 0s 4ms/step - loss: 13.8785 - mse: 273.7976\n",
            "Epoch 477/500\n",
            "2/2 [==============================] - 0s 4ms/step - loss: 30.6702 - mse: 1309.4625\n",
            "Epoch 478/500\n",
            "2/2 [==============================] - 0s 4ms/step - loss: 8.5880 - mse: 188.9073\n",
            "Epoch 479/500\n",
            "2/2 [==============================] - 0s 4ms/step - loss: 10.7384 - mse: 261.5203\n",
            "Epoch 480/500\n",
            "2/2 [==============================] - 0s 4ms/step - loss: 17.9051 - mse: 484.4154\n",
            "Epoch 481/500\n",
            "2/2 [==============================] - 0s 4ms/step - loss: 15.8095 - mse: 368.1044\n",
            "Epoch 482/500\n",
            "2/2 [==============================] - 0s 4ms/step - loss: 21.3054 - mse: 698.1635\n",
            "Epoch 483/500\n",
            "2/2 [==============================] - 0s 4ms/step - loss: 25.3845 - mse: 955.1250\n",
            "Epoch 484/500\n",
            "2/2 [==============================] - 0s 4ms/step - loss: 23.9815 - mse: 811.2781\n",
            "Epoch 485/500\n",
            "2/2 [==============================] - 0s 4ms/step - loss: 5.7734 - mse: 53.7612\n",
            "Epoch 486/500\n",
            "2/2 [==============================] - 0s 4ms/step - loss: 20.0010 - mse: 565.2876\n",
            "Epoch 487/500\n",
            "2/2 [==============================] - 0s 4ms/step - loss: 14.0419 - mse: 286.2684\n",
            "Epoch 488/500\n",
            "2/2 [==============================] - 0s 4ms/step - loss: 30.6088 - mse: 1334.5730\n",
            "Epoch 489/500\n",
            "2/2 [==============================] - 0s 4ms/step - loss: 11.9409 - mse: 237.4729\n",
            "Epoch 490/500\n",
            "2/2 [==============================] - 0s 4ms/step - loss: 12.7352 - mse: 252.5674\n",
            "Epoch 491/500\n",
            "2/2 [==============================] - 0s 4ms/step - loss: 23.6139 - mse: 837.7737\n",
            "Epoch 492/500\n",
            "2/2 [==============================] - 0s 4ms/step - loss: 20.5365 - mse: 592.2181\n",
            "Epoch 493/500\n",
            "2/2 [==============================] - 0s 4ms/step - loss: 4.9942 - mse: 48.0282\n",
            "Epoch 494/500\n",
            "2/2 [==============================] - 0s 4ms/step - loss: 12.7986 - mse: 247.7645\n",
            "Epoch 495/500\n",
            "2/2 [==============================] - 0s 10ms/step - loss: 13.3772 - mse: 239.0901\n",
            "Epoch 496/500\n",
            "2/2 [==============================] - 0s 4ms/step - loss: 12.6727 - mse: 241.5636\n",
            "Epoch 497/500\n",
            "2/2 [==============================] - 0s 4ms/step - loss: 17.6192 - mse: 515.3860\n",
            "Epoch 498/500\n",
            "2/2 [==============================] - 0s 5ms/step - loss: 23.5629 - mse: 816.5500\n",
            "Epoch 499/500\n",
            "2/2 [==============================] - 0s 4ms/step - loss: 9.3755 - mse: 136.1007\n",
            "Epoch 500/500\n",
            "2/2 [==============================] - 0s 4ms/step - loss: 14.6316 - mse: 295.2644\n"
          ]
        },
        {
          "output_type": "execute_result",
          "data": {
            "text/plain": [
              "<keras.callbacks.History at 0x7f0dc914c1d0>"
            ]
          },
          "metadata": {},
          "execution_count": 100
        }
      ]
    },
    {
      "cell_type": "code",
      "source": [
        "#Visualizing Predictions\n",
        "y_pred_3=model_3.predict(X_test)\n",
        "plot_prediction(prediction=y_pred_3)"
      ],
      "metadata": {
        "colab": {
          "base_uri": "https://localhost:8080/",
          "height": 428
        },
        "id": "E8flrQyVslFi",
        "outputId": "58c54952-30cd-44c0-9f5c-da1bae71d46d"
      },
      "execution_count": null,
      "outputs": [
        {
          "output_type": "display_data",
          "data": {
            "text/plain": [
              "<Figure size 720x504 with 1 Axes>"
            ],
            "image/png": "[encoded data removed]"
          },
          "metadata": {
            "needs_background": "light"
          }
        }
      ]
    },
    {
      "cell_type": "code",
      "source": [
        "#evaluating models\n",
        "mse_3=MSE(y_test,y_pred_3)\n",
        "mae_3=MAE(y_test,y_pred_3)\n",
        "mse_3,mae_3"
      ],
      "metadata": {
        "colab": {
          "base_uri": "https://localhost:8080/"
        },
        "id": "V9oUQI_HwrSe",
        "outputId": "33bf57ea-c9ad-4749-f285-8bd5e017936d"
      },
      "execution_count": null,
      "outputs": [
        {
          "output_type": "execute_result",
          "data": {
            "text/plain": [
              "(<tf.Tensor: shape=(), dtype=float32, numpy=4808.0273>,\n",
              " <tf.Tensor: shape=(), dtype=float32, numpy=68.713615>)"
            ]
          },
          "metadata": {},
          "execution_count": 108
        }
      ]
    },
    {
      "cell_type": "markdown",
      "source": [
        "📓 **Note:** Always start with small experiments(models or data) and then increase the scale."
      ],
      "metadata": {
        "id": "K3EPp9XTyduC"
      }
    },
    {
      "cell_type": "markdown",
      "source": [
        "##Comparing the results"
      ],
      "metadata": {
        "id": "nnDvVtQSyvw7"
      }
    },
    {
      "cell_type": "code",
      "source": [
        "#Now comparing the models\n",
        "import pandas as pd\n",
        "model_results=[[\"model_1\",mae_1.numpy(),mse_1.numpy()],\n",
        "               [\"model_2\",mae_2.numpy(),mse_2.numpy()],\n",
        "               [\"model_3\",mae_3.numpy(),mse_3.numpy()]\n",
        "               ]\n",
        "total_result=pd.DataFrame(model_results,columns=[\"model\",\"mae\",\"mse\"])\n",
        "total_result"
      ],
      "metadata": {
        "colab": {
          "base_uri": "https://localhost:8080/",
          "height": 143
        },
        "id": "XlM0WyZTxvOl",
        "outputId": "96ed9bc7-dcb3-46d8-c16f-54ffd257d2ba"
      },
      "execution_count": null,
      "outputs": [
        {
          "output_type": "execute_result",
          "data": {
            "text/plain": [
              "     model        mae          mse\n",
              "0  model_1  18.745327   353.573364\n",
              "1  model_2   3.196941    13.070143\n",
              "2  model_3  68.713615  4808.027344"
            ],
            "text/html": [
              "\n",
              "  <div id=\"df-656e2fc5-9f6b-4710-99fa-013d97806132\">\n",
              "    <div class=\"colab-df-container\">\n",
              "      <div>\n",
              "<style scoped>\n",
              "    .dataframe tbody tr th:only-of-type {\n",
              "        vertical-align: middle;\n",
              "    }\n",
              "\n",
              "    .dataframe tbody tr th {\n",
              "        vertical-align: top;\n",
              "    }\n",
              "\n",
              "    .dataframe thead th {\n",
              "        text-align: right;\n",
              "    }\n",
              "</style>\n",
              "<table border=\"1\" class=\"dataframe\">\n",
              "  <thead>\n",
              "    <tr style=\"text-align: right;\">\n",
              "      <th></th>\n",
              "      <th>model</th>\n",
              "      <th>mae</th>\n",
              "      <th>mse</th>\n",
              "    </tr>\n",
              "  </thead>\n",
              "  <tbody>\n",
              "    <tr>\n",
              "      <th>0</th>\n",
              "      <td>model_1</td>\n",
              "      <td>18.745327</td>\n",
              "      <td>353.573364</td>\n",
              "    </tr>\n",
              "    <tr>\n",
              "      <th>1</th>\n",
              "      <td>model_2</td>\n",
              "      <td>3.196941</td>\n",
              "      <td>13.070143</td>\n",
              "    </tr>\n",
              "    <tr>\n",
              "      <th>2</th>\n",
              "      <td>model_3</td>\n",
              "      <td>68.713615</td>\n",
              "      <td>4808.027344</td>\n",
              "    </tr>\n",
              "  </tbody>\n",
              "</table>\n",
              "</div>\n",
              "      <button class=\"colab-df-convert\" onclick=\"convertToInteractive('df-656e2fc5-9f6b-4710-99fa-013d97806132')\"\n",
              "              title=\"Convert this dataframe to an interactive table.\"\n",
              "              style=\"display:none;\">\n",
              "        \n",
              "  <svg xmlns=\"http://www.w3.org/2000/svg\" height=\"24px\"viewBox=\"0 0 24 24\"\n",
              "       width=\"24px\">\n",
              "    <path d=\"M0 0h24v24H0V0z\" fill=\"none\"/>\n",
              "    <path d=\"M18.56 5.44l.94 2.06.94-2.06 2.06-.94-2.06-.94-.94-2.06-.94 2.06-2.06.94zm-11 1L8.5 8.5l.94-2.06 2.06-.94-2.06-.94L8.5 2.5l-.94 2.06-2.06.94zm10 10l.94 2.06.94-2.06 2.06-.94-2.06-.94-.94-2.06-.94 2.06-2.06.94z\"/><path d=\"M17.41 7.96l-1.37-1.37c-.4-.4-.92-.59-1.43-.59-.52 0-1.04.2-1.43.59L10.3 9.45l-7.72 7.72c-.78.78-.78 2.05 0 2.83L4 21.41c.39.39.9.59 1.41.59.51 0 1.02-.2 1.41-.59l7.78-7.78 2.81-2.81c.8-.78.8-2.07 0-2.86zM5.41 20L4 18.59l7.72-7.72 1.47 1.35L5.41 20z\"/>\n",
              "  </svg>\n",
              "      </button>\n",
              "      \n",
              "  <style>\n",
              "    .colab-df-container {\n",
              "      display:flex;\n",
              "      flex-wrap:wrap;\n",
              "      gap: 12px;\n",
              "    }\n",
              "\n",
              "    .colab-df-convert {\n",
              "      background-color: #E8F0FE;\n",
              "      border: none;\n",
              "      border-radius: 50%;\n",
              "      cursor: pointer;\n",
              "      display: none;\n",
              "      fill: #1967D2;\n",
              "      height: 32px;\n",
              "      padding: 0 0 0 0;\n",
              "      width: 32px;\n",
              "    }\n",
              "\n",
              "    .colab-df-convert:hover {\n",
              "      background-color: #E2EBFA;\n",
              "      box-shadow: 0px 1px 2px rgba(60, 64, 67, 0.3), 0px 1px 3px 1px rgba(60, 64, 67, 0.15);\n",
              "      fill: #174EA6;\n",
              "    }\n",
              "\n",
              "    [theme=dark] .colab-df-convert {\n",
              "      background-color: #3B4455;\n",
              "      fill: #D2E3FC;\n",
              "    }\n",
              "\n",
              "    [theme=dark] .colab-df-convert:hover {\n",
              "      background-color: #434B5C;\n",
              "      box-shadow: 0px 1px 3px 1px rgba(0, 0, 0, 0.15);\n",
              "      filter: drop-shadow(0px 1px 2px rgba(0, 0, 0, 0.3));\n",
              "      fill: #FFFFFF;\n",
              "    }\n",
              "  </style>\n",
              "\n",
              "      <script>\n",
              "        const buttonEl =\n",
              "          document.querySelector('#df-656e2fc5-9f6b-4710-99fa-013d97806132 button.colab-df-convert');\n",
              "        buttonEl.style.display =\n",
              "          google.colab.kernel.accessAllowed ? 'block' : 'none';\n",
              "\n",
              "        async function convertToInteractive(key) {\n",
              "          const element = document.querySelector('#df-656e2fc5-9f6b-4710-99fa-013d97806132');\n",
              "          const dataTable =\n",
              "            await google.colab.kernel.invokeFunction('convertToInteractive',\n",
              "                                                     [key], {});\n",
              "          if (!dataTable) return;\n",
              "\n",
              "          const docLinkHtml = 'Like what you see? Visit the ' +\n",
              "            '<a target=\"_blank\" href=https://colab.research.google.com/notebooks/data_table.ipynb>data table notebook</a>'\n",
              "            + ' to learn more about interactive tables.';\n",
              "          element.innerHTML = '';\n",
              "          dataTable['output_type'] = 'display_data';\n",
              "          await google.colab.output.renderOutput(dataTable, element);\n",
              "          const docLink = document.createElement('div');\n",
              "          docLink.innerHTML = docLinkHtml;\n",
              "          element.appendChild(docLink);\n",
              "        }\n",
              "      </script>\n",
              "    </div>\n",
              "  </div>\n",
              "  "
            ]
          },
          "metadata": {},
          "execution_count": 110
        }
      ]
    },
    {
      "cell_type": "code",
      "source": [
        "#Now model_2 showing some good results\n",
        "model_2.summary()"
      ],
      "metadata": {
        "colab": {
          "base_uri": "https://localhost:8080/"
        },
        "id": "9Fjz9nDWz4Ct",
        "outputId": "bd99758b-f12f-4ff4-ed88-69dac3c64913"
      },
      "execution_count": null,
      "outputs": [
        {
          "output_type": "stream",
          "name": "stdout",
          "text": [
            "Model: \"sequential_8\"\n",
            "_________________________________________________________________\n",
            " Layer (type)                Output Shape              Param #   \n",
            "=================================================================\n",
            " dense_33 (Dense)            (None, 10)                20        \n",
            "                                                                 \n",
            " dense_34 (Dense)            (None, 1)                 11        \n",
            "                                                                 \n",
            "=================================================================\n",
            "Total params: 31\n",
            "Trainable params: 31\n",
            "Non-trainable params: 0\n",
            "_________________________________________________________________\n"
          ]
        }
      ]
    },
    {
      "cell_type": "markdown",
      "source": [
        "📓 **Note:** One of the things is you have to reduce the time of the experiments. You will get more solutions as you run more experiments."
      ],
      "metadata": {
        "id": "ZsWb4OKN0eAz"
      }
    },
    {
      "cell_type": "markdown",
      "source": [
        "##Tracking your experiments\n",
        "this is very good habit to track the experiments for this purpose we have tools to get help\n",
        "\n",
        "* TensorBoard- a component of tensorflow library to get help in tracking experiments of models (Visualizing toolkit)\n",
        "\n",
        "* Weights and Biase an external tool for ML to get help in tracking"
      ],
      "metadata": {
        "id": "KUsM98fS2yZ8"
      }
    },
    {
      "cell_type": "markdown",
      "source": [
        "##Saving our Model\n",
        "\n",
        "saving our model help us to use the models outside from the colab like web applications etc\n",
        "\n",
        "There are two formats to save teh model\n",
        "\n",
        "* The SavedModel Format\n",
        "* The HDF5 Format"
      ],
      "metadata": {
        "id": "-9RpygyB3xFS"
      }
    },
    {
      "cell_type": "code",
      "source": [
        "#saving model using SavedModel Format\n",
        "#Mostly we use this format\n",
        "model_2.save(\"Best_Model_SavedModel_Format\")"
      ],
      "metadata": {
        "id": "uQ6SFxWy0O6T"
      },
      "execution_count": null,
      "outputs": []
    },
    {
      "cell_type": "code",
      "source": [
        "#saving model using HDF5 Format\n",
        "model_2.save(\"Best_Model_SavedModel_Format.h5\")"
      ],
      "metadata": {
        "id": "WgLB9qlT40aw"
      },
      "execution_count": null,
      "outputs": []
    },
    {
      "cell_type": "markdown",
      "source": [
        "##Loading the Model"
      ],
      "metadata": {
        "id": "tVU5h8-05571"
      }
    },
    {
      "cell_type": "code",
      "source": [
        "#Loading from Saved Model Format\n",
        "loaded_SavedModel_Format=tf.keras.models.load_model(\"Best_Model_SavedModel_Format\")\n",
        "loaded_SavedModel_Format.summary()"
      ],
      "metadata": {
        "colab": {
          "base_uri": "https://localhost:8080/"
        },
        "id": "k3neYCgF5eTb",
        "outputId": "39f37e84-53f2-4a64-e85c-3dfab4067a35"
      },
      "execution_count": null,
      "outputs": [
        {
          "output_type": "stream",
          "name": "stdout",
          "text": [
            "Model: \"sequential_8\"\n",
            "_________________________________________________________________\n",
            " Layer (type)                Output Shape              Param #   \n",
            "=================================================================\n",
            " dense_33 (Dense)            (None, 10)                20        \n",
            "                                                                 \n",
            " dense_34 (Dense)            (None, 1)                 11        \n",
            "                                                                 \n",
            "=================================================================\n",
            "Total params: 31\n",
            "Trainable params: 31\n",
            "Non-trainable params: 0\n",
            "_________________________________________________________________\n"
          ]
        }
      ]
    },
    {
      "cell_type": "code",
      "source": [
        "m2=loaded_SavedModel_Format\n",
        "m2"
      ],
      "metadata": {
        "colab": {
          "base_uri": "https://localhost:8080/"
        },
        "id": "WL-ExP4w8vXg",
        "outputId": "b0ca1c3b-68b7-4011-96f3-285b1722f78b"
      },
      "execution_count": null,
      "outputs": [
        {
          "output_type": "execute_result",
          "data": {
            "text/plain": [
              "<keras.engine.sequential.Sequential at 0x7f0dc61c9950>"
            ]
          },
          "metadata": {},
          "execution_count": 126
        }
      ]
    },
    {
      "cell_type": "code",
      "source": [
        "model_2.summary()"
      ],
      "metadata": {
        "colab": {
          "base_uri": "https://localhost:8080/"
        },
        "id": "v97A_b8H6qAn",
        "outputId": "b51075c7-9e90-4254-9955-9938b1268f60"
      },
      "execution_count": null,
      "outputs": [
        {
          "output_type": "stream",
          "name": "stdout",
          "text": [
            "Model: \"sequential_8\"\n",
            "_________________________________________________________________\n",
            " Layer (type)                Output Shape              Param #   \n",
            "=================================================================\n",
            " dense_33 (Dense)            (None, 10)                20        \n",
            "                                                                 \n",
            " dense_34 (Dense)            (None, 1)                 11        \n",
            "                                                                 \n",
            "=================================================================\n",
            "Total params: 31\n",
            "Trainable params: 31\n",
            "Non-trainable params: 0\n",
            "_________________________________________________________________\n"
          ]
        }
      ]
    },
    {
      "cell_type": "code",
      "source": [
        "#Comparing model 2 predictions with loaded Model\n",
        "model_2_preds=model_2.predict(X_test)\n",
        "m2_preds=m2.predict(X_test)\n",
        "model_2_preds==m2_preds"
      ],
      "metadata": {
        "colab": {
          "base_uri": "https://localhost:8080/"
        },
        "id": "uT9o_wbe7B3Y",
        "outputId": "9d863c1f-cc1f-4dbd-986d-28d54525fdbf"
      },
      "execution_count": null,
      "outputs": [
        {
          "output_type": "execute_result",
          "data": {
            "text/plain": [
              "array([[ True],\n",
              "       [ True],\n",
              "       [ True],\n",
              "       [ True],\n",
              "       [ True],\n",
              "       [ True],\n",
              "       [ True],\n",
              "       [ True],\n",
              "       [ True],\n",
              "       [ True]])"
            ]
          },
          "metadata": {},
          "execution_count": 119
        }
      ]
    },
    {
      "cell_type": "code",
      "source": [
        "#Now loading h5 format model\n",
        "loaded_h5_model=tf.keras.models.load_model(\"/content/Best_Model_SavedModel_Format.h5\")\n",
        "loaded_h5_model.summary()"
      ],
      "metadata": {
        "colab": {
          "base_uri": "https://localhost:8080/"
        },
        "id": "GXMy7D577_Fg",
        "outputId": "0c9d5d97-2dc3-4ff1-8c7e-79d68db08e6d"
      },
      "execution_count": null,
      "outputs": [
        {
          "output_type": "stream",
          "name": "stdout",
          "text": [
            "Model: \"sequential_8\"\n",
            "_________________________________________________________________\n",
            " Layer (type)                Output Shape              Param #   \n",
            "=================================================================\n",
            " dense_33 (Dense)            (None, 10)                20        \n",
            "                                                                 \n",
            " dense_34 (Dense)            (None, 1)                 11        \n",
            "                                                                 \n",
            "=================================================================\n",
            "Total params: 31\n",
            "Trainable params: 31\n",
            "Non-trainable params: 0\n",
            "_________________________________________________________________\n"
          ]
        }
      ]
    },
    {
      "cell_type": "code",
      "source": [
        "m2_h5=loaded_h5_model\n",
        "m2_h5"
      ],
      "metadata": {
        "colab": {
          "base_uri": "https://localhost:8080/"
        },
        "id": "s4XZhH9y8eMa",
        "outputId": "5eafdd07-7be1-4f25-8416-464fd5537c84"
      },
      "execution_count": null,
      "outputs": [
        {
          "output_type": "execute_result",
          "data": {
            "text/plain": [
              "<keras.engine.sequential.Sequential at 0x7f0dc61c30d0>"
            ]
          },
          "metadata": {},
          "execution_count": 128
        }
      ]
    },
    {
      "cell_type": "code",
      "source": [
        "#Now comparing predictions for it also\n",
        "model_2_h5_preds=model_2.predict(X_test)\n",
        "m2_h5_preds=m2_h5.predict(X_test)\n",
        "model_2_h5_preds==m2_h5_preds"
      ],
      "metadata": {
        "colab": {
          "base_uri": "https://localhost:8080/"
        },
        "id": "leB_NbVs81wM",
        "outputId": "64a8f7b2-8347-4de6-ffb6-331fcacf15b4"
      },
      "execution_count": null,
      "outputs": [
        {
          "output_type": "execute_result",
          "data": {
            "text/plain": [
              "array([[ True],\n",
              "       [ True],\n",
              "       [ True],\n",
              "       [ True],\n",
              "       [ True],\n",
              "       [ True],\n",
              "       [ True],\n",
              "       [ True],\n",
              "       [ True],\n",
              "       [ True]])"
            ]
          },
          "metadata": {},
          "execution_count": 129
        }
      ]
    },
    {
      "cell_type": "code",
      "source": [],
      "metadata": {
        "id": "_g-aBq_m9j_o"
      },
      "execution_count": null,
      "outputs": []
    }
  ]
}