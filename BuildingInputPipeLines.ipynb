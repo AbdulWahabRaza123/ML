{
  "nbformat": 4,
  "nbformat_minor": 0,
  "metadata": {
    "colab": {
      "provenance": [],
      "authorship_tag": "ABX9TyMSGXC6ijf/fCvQL4YmYdm+",
      "include_colab_link": true
    },
    "kernelspec": {
      "name": "python3",
      "display_name": "Python 3"
    },
    "language_info": {
      "name": "python"
    }
  },
  "cells": [
    {
      "cell_type": "markdown",
      "metadata": {
        "id": "view-in-github",
        "colab_type": "text"
      },
      "source": [
        "<a href=\"https://colab.research.google.com/github/AbdulWahabRaza123/ML/blob/main/BuildingInputPipeLines.ipynb\" target=\"_parent\"><img src=\"https://colab.research.google.com/assets/colab-badge.svg\" alt=\"Open In Colab\"/></a>"
      ]
    },
    {
      "cell_type": "code",
      "execution_count": 1,
      "metadata": {
        "id": "9oxAbAJA71_q"
      },
      "outputs": [],
      "source": [
        "import tensorflow as tf"
      ]
    },
    {
      "cell_type": "code",
      "source": [
        "daily_sales_numbers=[21,22,-100,31,-1,32,34,31]"
      ],
      "metadata": {
        "id": "KrPp7dJsAiRO"
      },
      "execution_count": 2,
      "outputs": []
    },
    {
      "cell_type": "code",
      "source": [
        "tf_dataset=tf.data.Dataset.from_tensor_slices(daily_sales_numbers)\n",
        "tf_dataset"
      ],
      "metadata": {
        "colab": {
          "base_uri": "https://localhost:8080/"
        },
        "id": "nhHDL09QAt3l",
        "outputId": "e6890caf-0e50-496a-f9d8-353fdf21b067"
      },
      "execution_count": 3,
      "outputs": [
        {
          "output_type": "execute_result",
          "data": {
            "text/plain": [
              "<TensorSliceDataset element_spec=TensorSpec(shape=(), dtype=tf.int32, name=None)>"
            ]
          },
          "metadata": {},
          "execution_count": 3
        }
      ]
    },
    {
      "cell_type": "code",
      "source": [
        "for sales in tf_dataset:\n",
        "  print(sales.numpy())"
      ],
      "metadata": {
        "colab": {
          "base_uri": "https://localhost:8080/"
        },
        "id": "5z7vkIo6BaAT",
        "outputId": "73e6afab-797f-4dd6-9e0d-c2fedeab3248"
      },
      "execution_count": 6,
      "outputs": [
        {
          "output_type": "stream",
          "name": "stdout",
          "text": [
            "21\n",
            "22\n",
            "-100\n",
            "31\n",
            "-1\n",
            "32\n",
            "34\n",
            "31\n"
          ]
        }
      ]
    },
    {
      "cell_type": "code",
      "source": [
        "#or\n",
        "for sales in tf_dataset.as_numpy_iterator():\n",
        "  print(sales)"
      ],
      "metadata": {
        "colab": {
          "base_uri": "https://localhost:8080/"
        },
        "id": "zDpldafVBifq",
        "outputId": "f4a55976-c4a6-4b92-af37-63d5fe669b00"
      },
      "execution_count": 10,
      "outputs": [
        {
          "output_type": "stream",
          "name": "stdout",
          "text": [
            "21\n",
            "22\n",
            "-100\n",
            "31\n",
            "-1\n",
            "32\n",
            "34\n",
            "31\n"
          ]
        }
      ]
    },
    {
      "cell_type": "code",
      "source": [
        "#to show first 3 numbers\n",
        "for sales in tf_dataset.take(3):\n",
        "  print(sales.numpy())"
      ],
      "metadata": {
        "colab": {
          "base_uri": "https://localhost:8080/"
        },
        "id": "uocRhCpGBsBM",
        "outputId": "4167c147-d3c2-4810-94d2-a36ae456c59e"
      },
      "execution_count": 12,
      "outputs": [
        {
          "output_type": "stream",
          "name": "stdout",
          "text": [
            "21\n",
            "22\n",
            "-100\n"
          ]
        }
      ]
    },
    {
      "cell_type": "code",
      "source": [
        "#lets remove negative numbers\n",
        "tf_dataset=tf_dataset.filter(lambda x:x>0)\n",
        "for sales in tf_dataset.as_numpy_iterator():\n",
        "  print(sales)"
      ],
      "metadata": {
        "colab": {
          "base_uri": "https://localhost:8080/"
        },
        "id": "V6elqThuCPlQ",
        "outputId": "43756154-1c45-4429-f4a6-1bea9e25ce00"
      },
      "execution_count": 13,
      "outputs": [
        {
          "output_type": "stream",
          "name": "stdout",
          "text": [
            "21\n",
            "22\n",
            "31\n",
            "32\n",
            "34\n",
            "31\n"
          ]
        }
      ]
    },
    {
      "cell_type": "code",
      "source": [
        "#lets convert these indian rupees into doller (1 doller=72)\n",
        "tf_dataset=tf_dataset.map(lambda x:x*72)\n",
        "for sales in tf_dataset.as_numpy_iterator():\n",
        "  print(sales)"
      ],
      "metadata": {
        "colab": {
          "base_uri": "https://localhost:8080/"
        },
        "id": "81Jk_icSCrA3",
        "outputId": "735b13f4-3610-4bd8-c330-af63d7a83168"
      },
      "execution_count": 14,
      "outputs": [
        {
          "output_type": "stream",
          "name": "stdout",
          "text": [
            "1512\n",
            "1584\n",
            "2232\n",
            "2304\n",
            "2448\n",
            "2232\n"
          ]
        }
      ]
    },
    {
      "cell_type": "code",
      "source": [
        "#let's shuffle the elemenets with window of 3\n",
        "tf_dataset=tf_dataset.shuffle(3)\n",
        "for sales in tf_dataset.as_numpy_iterator():\n",
        "  print(sales)"
      ],
      "metadata": {
        "colab": {
          "base_uri": "https://localhost:8080/"
        },
        "id": "B-e_OIWADFu3",
        "outputId": "371bb479-1476-45ae-a823-01b9af79aa80"
      },
      "execution_count": 18,
      "outputs": [
        {
          "output_type": "stream",
          "name": "stdout",
          "text": [
            "2304\n",
            "1512\n",
            "2232\n",
            "2232\n",
            "1584\n",
            "2448\n"
          ]
        }
      ]
    },
    {
      "cell_type": "code",
      "source": [
        "#lets make batch (Group) of data\n",
        "for sales_batch in tf_dataset.batch(2):\n",
        "  print(sales_batch.numpy()) "
      ],
      "metadata": {
        "colab": {
          "base_uri": "https://localhost:8080/"
        },
        "id": "TtUiMipgDV60",
        "outputId": "6cb52e5b-07f3-4ba0-c552-327559414890"
      },
      "execution_count": 20,
      "outputs": [
        {
          "output_type": "stream",
          "name": "stdout",
          "text": [
            "[2304 1512]\n",
            "[2232 1584]\n",
            "[2232 2448]\n"
          ]
        }
      ]
    },
    {
      "cell_type": "code",
      "source": [
        "#we can do everything in a single line (which we do above)\n",
        "tf_dataset=tf.data.Dataset.from_tensor_slices(daily_sales_numbers)\n",
        "tf_dataset=tf_dataset.filter(lambda x:x>0).map(lambda y:y*72).shuffle(3).batch(2)\n",
        "for sales in tf_dataset:\n",
        "  print(sales.numpy())"
      ],
      "metadata": {
        "colab": {
          "base_uri": "https://localhost:8080/"
        },
        "id": "st5GruXID7NT",
        "outputId": "e4bb3e8f-0ebd-4e96-9573-c84a5757868f"
      },
      "execution_count": 21,
      "outputs": [
        {
          "output_type": "stream",
          "name": "stdout",
          "text": [
            "[1584 2304]\n",
            "[2232 1512]\n",
            "[2232 2448]\n"
          ]
        }
      ]
    },
    {
      "cell_type": "code",
      "source": [
        "#reading images path\n",
        "images_ds=tf.data.Dataset.list_files('/content/images/*/*',shuffle=False)"
      ],
      "metadata": {
        "id": "HHbQUn9hKAFM"
      },
      "execution_count": 25,
      "outputs": []
    },
    {
      "cell_type": "code",
      "source": [
        "#showing images path\n",
        "for file in images_ds.take(5):\n",
        "  print(file.numpy())"
      ],
      "metadata": {
        "colab": {
          "base_uri": "https://localhost:8080/"
        },
        "id": "hQMI0niBQPHZ",
        "outputId": "07e46f39-017b-4191-9947-f33d3797bb15"
      },
      "execution_count": 27,
      "outputs": [
        {
          "output_type": "stream",
          "name": "stdout",
          "text": [
            "b'/content/images/cat/download (10).jpg'\n",
            "b'/content/images/cat/download (11).jpg'\n",
            "b'/content/images/cat/download (12).jpg'\n",
            "b'/content/images/cat/download (13).jpg'\n",
            "b'/content/images/cat/download (2).jpg'\n"
          ]
        }
      ]
    },
    {
      "cell_type": "code",
      "source": [
        "images_ds=images_ds.shuffle(200)\n",
        "for file in images_ds.take(3):\n",
        "  print(file.numpy())"
      ],
      "metadata": {
        "colab": {
          "base_uri": "https://localhost:8080/"
        },
        "id": "AlcrnhjcQnMY",
        "outputId": "e6409990-5e50-4d9b-d934-d2d3e47e26e2"
      },
      "execution_count": 28,
      "outputs": [
        {
          "output_type": "stream",
          "name": "stdout",
          "text": [
            "b'/content/images/cat/download (12).jpg'\n",
            "b'/content/images/cat/download (4).jpg'\n",
            "b'/content/images/cat/download.jpg'\n"
          ]
        }
      ]
    },
    {
      "cell_type": "code",
      "source": [
        "class_name=[\"cat\",\"dog\"]"
      ],
      "metadata": {
        "id": "aU8FBvA6RNQ5"
      },
      "execution_count": 30,
      "outputs": []
    },
    {
      "cell_type": "code",
      "source": [
        "image_count=len(images_ds)\n",
        "image_count"
      ],
      "metadata": {
        "colab": {
          "base_uri": "https://localhost:8080/"
        },
        "id": "Khq6vkpYR2Vf",
        "outputId": "f35738fe-d291-472a-b6fb-0c09b0aa2bb3"
      },
      "execution_count": 31,
      "outputs": [
        {
          "output_type": "execute_result",
          "data": {
            "text/plain": [
              "25"
            ]
          },
          "metadata": {},
          "execution_count": 31
        }
      ]
    },
    {
      "cell_type": "code",
      "source": [
        "#splitting train and test data\n",
        "train_size=int(image_count*0.8) #80% trainning data\n",
        "train_ds=images_ds.take(train_size) #train data\n",
        "test_ds=images_ds.skip(train_size) #test data"
      ],
      "metadata": {
        "id": "FZqeuLPtSogC"
      },
      "execution_count": 32,
      "outputs": []
    },
    {
      "cell_type": "code",
      "source": [
        "len(train_ds)"
      ],
      "metadata": {
        "colab": {
          "base_uri": "https://localhost:8080/"
        },
        "id": "zDXpAOUzUWgs",
        "outputId": "9ef51581-a56f-463a-f14f-f02f466f44da"
      },
      "execution_count": 33,
      "outputs": [
        {
          "output_type": "execute_result",
          "data": {
            "text/plain": [
              "20"
            ]
          },
          "metadata": {},
          "execution_count": 33
        }
      ]
    },
    {
      "cell_type": "code",
      "source": [
        "len(test_ds)"
      ],
      "metadata": {
        "colab": {
          "base_uri": "https://localhost:8080/"
        },
        "id": "x3mQYH4qUYO6",
        "outputId": "1346d599-61ed-418b-c82e-e0c45854cac5"
      },
      "execution_count": 34,
      "outputs": [
        {
          "output_type": "execute_result",
          "data": {
            "text/plain": [
              "5"
            ]
          },
          "metadata": {},
          "execution_count": 34
        }
      ]
    },
    {
      "cell_type": "code",
      "source": [
        "s=\"/content/images/cat/download (12).jpg\"\n",
        "s.split(\"/\")[-2]"
      ],
      "metadata": {
        "colab": {
          "base_uri": "https://localhost:8080/",
          "height": 36
        },
        "id": "eIa4LzfdUaLV",
        "outputId": "32335a4f-fbb1-43f2-bcc7-a159045bd349"
      },
      "execution_count": 39,
      "outputs": [
        {
          "output_type": "execute_result",
          "data": {
            "text/plain": [
              "'cat'"
            ],
            "application/vnd.google.colaboratory.intrinsic+json": {
              "type": "string"
            }
          },
          "metadata": {},
          "execution_count": 39
        }
      ]
    },
    {
      "cell_type": "code",
      "source": [
        "#getting label of images\n",
        "def get_label(file_path):\n",
        "  import os\n",
        "  return tf.strings.split(file_path,os.path.sep)[-2]"
      ],
      "metadata": {
        "id": "Nx33TXtoU28f"
      },
      "execution_count": 42,
      "outputs": []
    },
    {
      "cell_type": "code",
      "source": [
        "#readiing image from path\n",
        "def process_image(file_path):\n",
        "  label=get_label(file_path)\n",
        "  img=tf.io.read_file(file_path)\n",
        "  img=tf.image.decode_jpeg(img)\n",
        "  img=tf.image.resize(img,[128,128])\n",
        "  return img,label"
      ],
      "metadata": {
        "id": "M9_S1cctWXSo"
      },
      "execution_count": 45,
      "outputs": []
    },
    {
      "cell_type": "code",
      "source": [
        "#train_ds are file paths\n",
        "for t in train_ds.take(4):\n",
        "  print(t.numpy())"
      ],
      "metadata": {
        "colab": {
          "base_uri": "https://localhost:8080/"
        },
        "id": "ChQHdEgsVGei",
        "outputId": "ced231b4-cc5e-493e-abf1-07027a90e606"
      },
      "execution_count": 41,
      "outputs": [
        {
          "output_type": "stream",
          "name": "stdout",
          "text": [
            "b'/content/images/cat/download (6).jpg'\n",
            "b'/content/images/dog/download (5).jpg'\n",
            "b'/content/images/cat/download (11).jpg'\n",
            "b'/content/images/dog/download (9).jpg'\n"
          ]
        }
      ]
    },
    {
      "cell_type": "code",
      "source": [
        "for label in train_ds.map(get_label):\n",
        "  print(label.numpy())"
      ],
      "metadata": {
        "colab": {
          "base_uri": "https://localhost:8080/"
        },
        "id": "EcMmxI2ZVafP",
        "outputId": "a0f325ab-aa77-4b7d-e506-a472fcf9f42f"
      },
      "execution_count": 44,
      "outputs": [
        {
          "output_type": "stream",
          "name": "stdout",
          "text": [
            "b'dog'\n",
            "b'dog'\n",
            "b'dog'\n",
            "b'dog'\n",
            "b'cat'\n",
            "b'cat'\n",
            "b'cat'\n",
            "b'dog'\n",
            "b'dog'\n",
            "b'cat'\n",
            "b'cat'\n",
            "b'dog'\n",
            "b'cat'\n",
            "b'cat'\n",
            "b'cat'\n",
            "b'dog'\n",
            "b'cat'\n",
            "b'cat'\n",
            "b'dog'\n",
            "b'cat'\n"
          ]
        }
      ]
    },
    {
      "cell_type": "code",
      "source": [
        "train_ds=train_ds.map(process_image)\n",
        "for img,label in train_ds.take(3):\n",
        "  print(\"Image \",img)\n",
        "  print(\"Label \",label)"
      ],
      "metadata": {
        "colab": {
          "base_uri": "https://localhost:8080/"
        },
        "id": "Bfnb_kQUWCJJ",
        "outputId": "b49a29d5-3581-416a-c12f-af4046659132"
      },
      "execution_count": 48,
      "outputs": [
        {
          "output_type": "stream",
          "name": "stdout",
          "text": [
            "Image  tf.Tensor(\n",
            "[[[6.7000000e+01 2.7000000e+01 0.0000000e+00]\n",
            "  [7.5718750e+01 3.6203125e+01 2.4218750e+00]\n",
            "  [8.7812500e+01 4.8531250e+01 7.1093750e+00]\n",
            "  ...\n",
            "  [2.1614062e+02 2.3114062e+02 2.5214062e+02]\n",
            "  [2.1548438e+02 2.3048438e+02 2.5148438e+02]\n",
            "  [2.1500000e+02 2.3000000e+02 2.5100000e+02]]\n",
            "\n",
            " [[7.2859375e+01 3.4812500e+01 0.0000000e+00]\n",
            "  [8.1105103e+01 4.3069580e+01 1.4758301e+00]\n",
            "  [9.2283325e+01 5.4390625e+01 5.0189209e+00]\n",
            "  ...\n",
            "  [2.1711719e+02 2.3211719e+02 2.5311719e+02]\n",
            "  [2.1646094e+02 2.3146094e+02 2.5246094e+02]\n",
            "  [2.1597656e+02 2.3097656e+02 2.5197656e+02]]\n",
            "\n",
            " [[8.0687500e+01 4.6531250e+01 0.0000000e+00]\n",
            "  [8.8456421e+01 5.4765625e+01 5.6762695e-02]\n",
            "  [9.8846924e+01 6.5657104e+01 1.2751465e+00]\n",
            "  ...\n",
            "  [2.1714062e+02 2.3406250e+02 2.5410156e+02]\n",
            "  [2.1648438e+02 2.3340625e+02 2.5344531e+02]\n",
            "  [2.1600000e+02 2.3292188e+02 2.5296094e+02]]\n",
            "\n",
            " ...\n",
            "\n",
            " [[2.3296094e+02 2.4196094e+02 2.5500000e+02]\n",
            "  [2.3247656e+02 2.4147656e+02 2.5500000e+02]\n",
            "  [2.3195544e+02 2.4095544e+02 2.5500000e+02]\n",
            "  ...\n",
            "  [2.4300610e+02 2.5300610e+02 2.5497253e+02]\n",
            "  [2.3938940e+02 2.4938940e+02 2.5137048e+02]\n",
            "  [2.3596094e+02 2.4596094e+02 2.4796094e+02]]\n",
            "\n",
            " [[2.3197656e+02 2.4097656e+02 2.5500000e+02]\n",
            "  [2.3149219e+02 2.4049219e+02 2.5500000e+02]\n",
            "  [2.3083594e+02 2.3983594e+02 2.5500000e+02]\n",
            "  ...\n",
            "  [2.4316650e+02 2.5316650e+02 2.5428699e+02]\n",
            "  [2.3935864e+02 2.4935864e+02 2.5086292e+02]\n",
            "  [2.3497656e+02 2.4497656e+02 2.4697656e+02]]\n",
            "\n",
            " [[2.3100000e+02 2.4000000e+02 2.5500000e+02]\n",
            "  [2.3051562e+02 2.3951562e+02 2.5500000e+02]\n",
            "  [2.2985938e+02 2.3885938e+02 2.5500000e+02]\n",
            "  ...\n",
            "  [2.4359375e+02 2.5359375e+02 2.5387500e+02]\n",
            "  [2.3932812e+02 2.4932812e+02 2.5035938e+02]\n",
            "  [2.3400000e+02 2.4400000e+02 2.4600000e+02]]], shape=(128, 128, 3), dtype=float32)\n",
            "Label  tf.Tensor(b'cat', shape=(), dtype=string)\n",
            "Image  tf.Tensor(\n",
            "[[[196.      187.      180.     ]\n",
            "  [195.07031 186.07031 179.07031]\n",
            "  [194.11719 185.11719 178.11719]\n",
            "  ...\n",
            "  [195.88281 190.88281 184.88281]\n",
            "  [195.      190.      184.     ]\n",
            "  [195.      190.      184.     ]]\n",
            "\n",
            " [[195.08203 186.08203 179.08203]\n",
            "  [194.15234 185.15234 178.15234]\n",
            "  [193.19922 184.19922 177.19922]\n",
            "  ...\n",
            "  [196.80078 191.80078 185.80078]\n",
            "  [195.91797 190.91797 184.91797]\n",
            "  [195.91797 190.91797 184.91797]]\n",
            "\n",
            " [[193.27344 184.27344 177.27344]\n",
            "  [193.14633 184.14633 177.14633]\n",
            "  [192.2539  183.2539  176.2539 ]\n",
            "  ...\n",
            "  [196.98398 191.98398 185.98398]\n",
            "  [196.86328 191.86328 185.86328]\n",
            "  [196.86328 191.86328 185.86328]]\n",
            "\n",
            " ...\n",
            "\n",
            " [[191.      173.      159.     ]\n",
            "  [193.78906 175.78906 161.78906]\n",
            "  [196.52774 178.52774 164.52774]\n",
            "  ...\n",
            "  [194.10468 178.10468 163.10468]\n",
            "  [193.86328 177.86328 162.86328]\n",
            "  [193.86328 177.86328 162.86328]]\n",
            "\n",
            " [[190.7539  172.7539  158.7539 ]\n",
            "  [193.31418 175.31418 161.31418]\n",
            "  [195.05618 177.05618 163.05618]\n",
            "  ...\n",
            "  [194.74127 178.57721 163.65924]\n",
            "  [193.41016 177.2461  162.32812]\n",
            "  [193.41016 177.2461  162.32812]]\n",
            "\n",
            " [[188.      170.      156.     ]\n",
            "  [188.      170.      156.     ]\n",
            "  [187.11719 169.11719 155.11719]\n",
            "  ...\n",
            "  [194.46875 176.46875 162.46875]\n",
            "  [198.      180.      166.     ]\n",
            "  [198.      180.      166.     ]]], shape=(128, 128, 3), dtype=float32)\n",
            "Label  tf.Tensor(b'cat', shape=(), dtype=string)\n",
            "Image  tf.Tensor(\n",
            "[[[234.      235.      240.     ]\n",
            "  [233.34375 235.65625 240.65625]\n",
            "  [233.09375 236.09375 241.09375]\n",
            "  ...\n",
            "  [231.      238.      246.     ]\n",
            "  [231.      238.      246.     ]\n",
            "  [231.      238.      246.     ]]\n",
            "\n",
            " [[234.      235.      240.     ]\n",
            "  [233.34375 235.65625 240.65625]\n",
            "  [233.09375 236.09375 241.09375]\n",
            "  ...\n",
            "  [231.      238.      246.     ]\n",
            "  [231.      238.      246.     ]\n",
            "  [231.      238.      246.     ]]\n",
            "\n",
            " [[234.88281 235.88281 240.88281]\n",
            "  [233.64722 235.95972 240.95972]\n",
            "  [233.09375 236.09375 241.09375]\n",
            "  ...\n",
            "  [231.      238.      246.     ]\n",
            "  [231.      238.      246.     ]\n",
            "  [231.      238.      246.     ]]\n",
            "\n",
            " ...\n",
            "\n",
            " [[245.      248.      255.     ]\n",
            "  [245.      248.      253.6875 ]\n",
            "  [245.      248.      253.     ]\n",
            "  ...\n",
            "  [246.      250.      253.     ]\n",
            "  [246.      250.      253.     ]\n",
            "  [246.      250.      253.     ]]\n",
            "\n",
            " [[245.      248.      255.     ]\n",
            "  [245.      248.      253.6875 ]\n",
            "  [245.      248.      253.     ]\n",
            "  ...\n",
            "  [246.      250.      253.     ]\n",
            "  [246.      250.      253.     ]\n",
            "  [246.      250.      253.     ]]\n",
            "\n",
            " [[245.      248.      255.     ]\n",
            "  [245.      248.      253.6875 ]\n",
            "  [245.      248.      253.     ]\n",
            "  ...\n",
            "  [246.      250.      253.     ]\n",
            "  [246.      250.      253.     ]\n",
            "  [246.      250.      253.     ]]], shape=(128, 128, 3), dtype=float32)\n",
            "Label  tf.Tensor(b'cat', shape=(), dtype=string)\n"
          ]
        }
      ]
    },
    {
      "cell_type": "code",
      "source": [
        "def scale(image,label):\n",
        "  return image/255,label"
      ],
      "metadata": {
        "id": "XF3W639fXFKz"
      },
      "execution_count": 49,
      "outputs": []
    },
    {
      "cell_type": "code",
      "source": [
        "train_ds=train_ds.map(scale)\n",
        "for image,label in train_ds.take(5):\n",
        "  print(\"Image is \",image[0][0])\n",
        "  print(\"Label is \",label.numpy())"
      ],
      "metadata": {
        "colab": {
          "base_uri": "https://localhost:8080/"
        },
        "id": "wFo_zj6hXteP",
        "outputId": "6a2bb424-9d5a-4def-893a-19f19d51c302"
      },
      "execution_count": 50,
      "outputs": [
        {
          "output_type": "stream",
          "name": "stdout",
          "text": [
            "Image is  tf.Tensor([0.08627451 0.03137255 0.        ], shape=(3,), dtype=float32)\n",
            "Label is  b'cat'\n",
            "Image is  tf.Tensor([0.8276597  0.82373816 0.843346  ], shape=(3,), dtype=float32)\n",
            "Label is  b'dog'\n",
            "Image is  tf.Tensor([0.31029412 0.38088235 0.2240196 ], shape=(3,), dtype=float32)\n",
            "Label is  b'dog'\n",
            "Image is  tf.Tensor([0.9529412  0.8509804  0.03921569], shape=(3,), dtype=float32)\n",
            "Label is  b'dog'\n",
            "Image is  tf.Tensor([0.1064951 0.1182598 0.2944853], shape=(3,), dtype=float32)\n",
            "Label is  b'dog'\n"
          ]
        }
      ]
    },
    {
      "cell_type": "code",
      "source": [],
      "metadata": {
        "id": "tWNFARlHX_mh"
      },
      "execution_count": null,
      "outputs": []
    }
  ]
}