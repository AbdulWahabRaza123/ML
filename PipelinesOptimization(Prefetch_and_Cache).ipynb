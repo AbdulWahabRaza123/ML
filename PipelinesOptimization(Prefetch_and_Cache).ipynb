{
  "nbformat": 4,
  "nbformat_minor": 0,
  "metadata": {
    "colab": {
      "provenance": [],
      "authorship_tag": "ABX9TyN9t1cj5NjnKjA9EVCm1O40",
      "include_colab_link": true
    },
    "kernelspec": {
      "name": "python3",
      "display_name": "Python 3"
    },
    "language_info": {
      "name": "python"
    }
  },
  "cells": [
    {
      "cell_type": "markdown",
      "metadata": {
        "id": "view-in-github",
        "colab_type": "text"
      },
      "source": [
        "<a href=\"https://colab.research.google.com/github/AbdulWahabRaza123/ML/blob/main/PipelinesOptimization(Prefetch_and_Cache).ipynb\" target=\"_parent\"><img src=\"https://colab.research.google.com/assets/colab-badge.svg\" alt=\"Open In Colab\"/></a>"
      ]
    },
    {
      "cell_type": "code",
      "execution_count": 1,
      "metadata": {
        "id": "Q4UKQMneo-ap"
      },
      "outputs": [],
      "source": [
        "import tensorflow as tf\n",
        "import time"
      ]
    },
    {
      "cell_type": "code",
      "source": [
        "tf.__version__"
      ],
      "metadata": {
        "colab": {
          "base_uri": "https://localhost:8080/",
          "height": 36
        },
        "id": "_LW4EHqUUGCs",
        "outputId": "b0845d04-5892-4613-c9d8-f3e0267f1385"
      },
      "execution_count": 2,
      "outputs": [
        {
          "output_type": "execute_result",
          "data": {
            "text/plain": [
              "'2.9.2'"
            ],
            "application/vnd.google.colaboratory.intrinsic+json": {
              "type": "string"
            }
          },
          "metadata": {},
          "execution_count": 2
        }
      ]
    },
    {
      "cell_type": "code",
      "source": [
        "class FileDataset(tf.data.Dataset):\n",
        "  def read_files_in_batches(num_samples):\n",
        "    #open file (assuming everything here)\n",
        "    time.sleep(0.03)\n",
        "    for sample_idx in range(num_samples):\n",
        "      time.sleep(0.015)\n",
        "      yield (sample_idx,)\n",
        "  def __new__(cls,num_samples=3):\n",
        "    print(\"New Methos is Called...\")\n",
        "    #Here cls is class object as parameter\n",
        "    return tf.data.Dataset.from_generator(\n",
        "        cls.read_files_in_batches,\n",
        "        output_signature=tf.TensorSpec(shape=(1,),dtype=tf.int64),\n",
        "        args=(num_samples,)\n",
        "    )"
      ],
      "metadata": {
        "id": "l3tSlT4_UICw"
      },
      "execution_count": 23,
      "outputs": []
    },
    {
      "cell_type": "code",
      "source": [
        "def benchmark(dataset,num_epochs=2):\n",
        "  for epochs_num in range(num_epochs):\n",
        "    for sample in dataset:\n",
        "      time.sleep(0.01)"
      ],
      "metadata": {
        "id": "l048DmAkVajl"
      },
      "execution_count": 24,
      "outputs": []
    },
    {
      "cell_type": "code",
      "source": [
        "%%timeit\n",
        "benchmark(FileDataset())"
      ],
      "metadata": {
        "colab": {
          "base_uri": "https://localhost:8080/"
        },
        "id": "aIDFv4IvVmB0",
        "outputId": "63ea6020-29c8-4087-e829-5b1aab4cb1b3"
      },
      "execution_count": 29,
      "outputs": [
        {
          "output_type": "stream",
          "name": "stdout",
          "text": [
            "New Methos is Called...\n",
            "New Methos is Called...\n",
            "New Methos is Called...\n",
            "New Methos is Called...\n",
            "New Methos is Called...\n",
            "New Methos is Called...\n",
            "New Methos is Called...\n",
            "New Methos is Called...\n",
            "297 ms ± 16.6 ms per loop (mean ± std. dev. of 7 runs, 1 loop each)\n"
          ]
        }
      ]
    },
    {
      "cell_type": "code",
      "source": [
        "#by using prefetech API we will get that time is reduced\n",
        "%%timeit\n",
        "benchmark(FileDataset().prefetch(1))"
      ],
      "metadata": {
        "colab": {
          "base_uri": "https://localhost:8080/"
        },
        "id": "QtRcyNtyafqE",
        "outputId": "825d711b-ca7b-4c67-d840-a500bc84ae75"
      },
      "execution_count": 30,
      "outputs": [
        {
          "output_type": "stream",
          "name": "stdout",
          "text": [
            "New Methos is Called...\n",
            "New Methos is Called...\n",
            "New Methos is Called...\n",
            "New Methos is Called...\n",
            "New Methos is Called...\n",
            "New Methos is Called...\n",
            "New Methos is Called...\n",
            "New Methos is Called...\n",
            "238 ms ± 1.77 ms per loop (mean ± std. dev. of 7 runs, 1 loop each)\n"
          ]
        }
      ]
    },
    {
      "cell_type": "code",
      "source": [
        "#by using prefetech API we will get that time is more reduced using autotune parameter (More Preferable)\n",
        "%%timeit\n",
        "benchmark(FileDataset().prefetch(tf.data.AUTOTUNE))"
      ],
      "metadata": {
        "colab": {
          "base_uri": "https://localhost:8080/"
        },
        "id": "06xvrUcdfDGQ",
        "outputId": "137976fc-7232-4d06-b3ab-b3be32aee719"
      },
      "execution_count": 32,
      "outputs": [
        {
          "output_type": "stream",
          "name": "stdout",
          "text": [
            "New Methos is Called...\n",
            "New Methos is Called...\n",
            "New Methos is Called...\n",
            "New Methos is Called...\n",
            "New Methos is Called...\n",
            "New Methos is Called...\n",
            "New Methos is Called...\n",
            "New Methos is Called...\n",
            "276 ms ± 41.6 ms per loop (mean ± std. dev. of 7 runs, 1 loop each)\n"
          ]
        }
      ]
    },
    {
      "cell_type": "markdown",
      "source": [
        "###Cache API"
      ],
      "metadata": {
        "id": "Jjny1HTBf1jD"
      }
    },
    {
      "cell_type": "code",
      "source": [
        "dataset=tf.data.Dataset.range(5)\n",
        "for d in dataset:\n",
        "  print(d.numpy())"
      ],
      "metadata": {
        "colab": {
          "base_uri": "https://localhost:8080/"
        },
        "id": "dJLWrKp-fdS0",
        "outputId": "e05273cc-120d-408b-937e-0c278aa9c36d"
      },
      "execution_count": 34,
      "outputs": [
        {
          "output_type": "stream",
          "name": "stdout",
          "text": [
            "0\n",
            "1\n",
            "2\n",
            "3\n",
            "4\n"
          ]
        }
      ]
    },
    {
      "cell_type": "code",
      "source": [
        "#creating square of these numbers\n",
        "dataset=dataset.map(lambda x:x**2)\n",
        "for d in dataset:\n",
        "  print(d.numpy())"
      ],
      "metadata": {
        "colab": {
          "base_uri": "https://localhost:8080/"
        },
        "id": "v7S6-mJ_gDyS",
        "outputId": "e9c31934-fcc9-4731-8c07-d6c3385f4a0c"
      },
      "execution_count": 35,
      "outputs": [
        {
          "output_type": "stream",
          "name": "stdout",
          "text": [
            "0\n",
            "1\n",
            "4\n",
            "9\n",
            "16\n"
          ]
        }
      ]
    },
    {
      "cell_type": "code",
      "source": [
        "dataset=dataset.cache()\n",
        "list(dataset.as_numpy_iterator())"
      ],
      "metadata": {
        "colab": {
          "base_uri": "https://localhost:8080/"
        },
        "id": "aI4tBhYrgc2_",
        "outputId": "70a872d0-6758-4cb9-8c0f-de336df040d0"
      },
      "execution_count": 50,
      "outputs": [
        {
          "output_type": "execute_result",
          "data": {
            "text/plain": [
              "[0, 1, 4, 9, 16]"
            ]
          },
          "metadata": {},
          "execution_count": 50
        }
      ]
    },
    {
      "cell_type": "code",
      "source": [
        "def mapped_function(s):\n",
        "  tf.py_function(lambda: time.sleep(0.03),[],())\n",
        "  return s"
      ],
      "metadata": {
        "id": "ZoBJhT-rh3ys"
      },
      "execution_count": 51,
      "outputs": []
    },
    {
      "cell_type": "code",
      "source": [
        "%%timeit -n1 -r1\n",
        "benchmark(FileDataset().map(mapped_function),5)"
      ],
      "metadata": {
        "colab": {
          "base_uri": "https://localhost:8080/"
        },
        "id": "GIkKyOQ7iwwz",
        "outputId": "9360646d-5fba-4888-97d8-f14bb8a2bf48"
      },
      "execution_count": 52,
      "outputs": [
        {
          "output_type": "stream",
          "name": "stdout",
          "text": [
            "New Methos is Called...\n",
            "1.51 s ± 0 ns per loop (mean ± std. dev. of 1 run, 1 loop each)\n"
          ]
        }
      ]
    },
    {
      "cell_type": "code",
      "source": [
        "#let's use chache\n",
        "%%timeit -n1 -r1\n",
        "benchmark(FileDataset().map(mapped_function).cache(),5)"
      ],
      "metadata": {
        "colab": {
          "base_uri": "https://localhost:8080/"
        },
        "id": "U1rCwj4fi5Db",
        "outputId": "0a96cce0-c372-48b8-b3cb-43970ff72706"
      },
      "execution_count": 53,
      "outputs": [
        {
          "output_type": "stream",
          "name": "stdout",
          "text": [
            "New Methos is Called...\n",
            "416 ms ± 0 ns per loop (mean ± std. dev. of 1 run, 1 loop each)\n"
          ]
        }
      ]
    },
    {
      "cell_type": "code",
      "source": [],
      "metadata": {
        "id": "Cf3kJgt5j5dc"
      },
      "execution_count": null,
      "outputs": []
    }
  ]
}