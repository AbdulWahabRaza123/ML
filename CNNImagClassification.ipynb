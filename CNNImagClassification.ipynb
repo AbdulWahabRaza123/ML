{
  "nbformat": 4,
  "nbformat_minor": 0,
  "metadata": {
    "colab": {
      "provenance": [],
      "collapsed_sections": [],
      "authorship_tag": "ABX9TyMSeolL+8h2mISeWsOphauj",
      "include_colab_link": true
    },
    "kernelspec": {
      "name": "python3",
      "display_name": "Python 3"
    },
    "language_info": {
      "name": "python"
    },
    "accelerator": "GPU",
    "gpuClass": "standard"
  },
  "cells": [
    {
      "cell_type": "markdown",
      "metadata": {
        "id": "view-in-github",
        "colab_type": "text"
      },
      "source": [
        "<a href=\"https://colab.research.google.com/github/AbdulWahabRaza123/ML/blob/main/CNNImagClassification.ipynb\" target=\"_parent\"><img src=\"https://colab.research.google.com/assets/colab-badge.svg\" alt=\"Open In Colab\"/></a>"
      ]
    },
    {
      "cell_type": "code",
      "execution_count": 1,
      "metadata": {
        "id": "b4VEmNZXYQUW"
      },
      "outputs": [],
      "source": [
        "import tensorflow as tf\n",
        "from tensorflow.keras import datasets,layers,models\n",
        "import matplotlib.pyplot as plt\n",
        "import numpy as np"
      ]
    },
    {
      "cell_type": "code",
      "source": [
        "(X_train,y_train),(X_test,y_test)=datasets.cifar10.load_data()\n",
        "X_train.shape"
      ],
      "metadata": {
        "colab": {
          "base_uri": "https://localhost:8080/"
        },
        "id": "G2JaRM9KojfT",
        "outputId": "bdd3b84d-e390-4757-8d20-13f32240b34c"
      },
      "execution_count": 2,
      "outputs": [
        {
          "output_type": "stream",
          "name": "stdout",
          "text": [
            "Downloading data from https://www.cs.toronto.edu/~kriz/cifar-10-python.tar.gz\n",
            "170498071/170498071 [==============================] - 2s 0us/step\n"
          ]
        },
        {
          "output_type": "execute_result",
          "data": {
            "text/plain": [
              "(50000, 32, 32, 3)"
            ]
          },
          "metadata": {},
          "execution_count": 2
        }
      ]
    },
    {
      "cell_type": "code",
      "source": [
        "X_test.shape"
      ],
      "metadata": {
        "colab": {
          "base_uri": "https://localhost:8080/"
        },
        "id": "95_Pk7-QpIyq",
        "outputId": "251b67c8-a707-4ae2-9800-33c0c6e37667"
      },
      "execution_count": 3,
      "outputs": [
        {
          "output_type": "execute_result",
          "data": {
            "text/plain": [
              "(10000, 32, 32, 3)"
            ]
          },
          "metadata": {},
          "execution_count": 3
        }
      ]
    },
    {
      "cell_type": "code",
      "source": [
        "#this is 2 dimensional array\n",
        "y_train[:5]"
      ],
      "metadata": {
        "colab": {
          "base_uri": "https://localhost:8080/"
        },
        "id": "fNkv8gfmqiGN",
        "outputId": "ffa50a96-fac2-48a2-91e5-afca3618c404"
      },
      "execution_count": 4,
      "outputs": [
        {
          "output_type": "execute_result",
          "data": {
            "text/plain": [
              "array([[6],\n",
              "       [9],\n",
              "       [9],\n",
              "       [4],\n",
              "       [1]], dtype=uint8)"
            ]
          },
          "metadata": {},
          "execution_count": 4
        }
      ]
    },
    {
      "cell_type": "code",
      "source": [
        "#converting this array into 1d\n",
        "y_train=y_train.reshape(-1,)\n",
        "y_train[:5]"
      ],
      "metadata": {
        "colab": {
          "base_uri": "https://localhost:8080/"
        },
        "id": "NsNeIKxOqnmG",
        "outputId": "8614631f-2912-4ede-a947-7db61f99e6a1"
      },
      "execution_count": 5,
      "outputs": [
        {
          "output_type": "execute_result",
          "data": {
            "text/plain": [
              "array([6, 9, 9, 4, 1], dtype=uint8)"
            ]
          },
          "metadata": {},
          "execution_count": 5
        }
      ]
    },
    {
      "cell_type": "code",
      "source": [
        "classes=[\"airplan\",\"automobile\",\"bird\",\"cat\",\"deer\",\"dog\",\"frog\",\"horse\",\"ship\",\"truck\"]"
      ],
      "metadata": {
        "id": "8R4Juyb7qFfO"
      },
      "execution_count": 6,
      "outputs": []
    },
    {
      "cell_type": "code",
      "source": [
        "classes[1]"
      ],
      "metadata": {
        "colab": {
          "base_uri": "https://localhost:8080/",
          "height": 36
        },
        "id": "hSeJ4Eutq_YW",
        "outputId": "2491c5e4-1e49-4c02-e337-69f6ac08584c"
      },
      "execution_count": 7,
      "outputs": [
        {
          "output_type": "execute_result",
          "data": {
            "text/plain": [
              "'automobile'"
            ],
            "application/vnd.google.colaboratory.intrinsic+json": {
              "type": "string"
            }
          },
          "metadata": {},
          "execution_count": 7
        }
      ]
    },
    {
      "cell_type": "code",
      "source": [
        "# let's check the image at 0 index\n",
        "def plot_sample(X,y,index):\n",
        "  #to control the size of the image\n",
        "  plt.figure(figsize=(15,2))\n",
        "  #to show the image\n",
        "  plt.imshow(X_train[index])\n",
        "  plt.xlabel(classes[y[index]])"
      ],
      "metadata": {
        "id": "FX5SycwZpQTd"
      },
      "execution_count": 8,
      "outputs": []
    },
    {
      "cell_type": "code",
      "source": [
        "plot_sample(X_train,y_train,0)"
      ],
      "metadata": {
        "colab": {
          "base_uri": "https://localhost:8080/",
          "height": 173
        },
        "id": "NQIDlF2VpeFN",
        "outputId": "49db1561-bb27-4750-8a7d-52f602d469bc"
      },
      "execution_count": 9,
      "outputs": [
        {
          "output_type": "display_data",
          "data": {
            "text/plain": [
              "<Figure size 1080x144 with 1 Axes>"
            ],
            "image/png": "[encoded data removed]"
          },
          "metadata": {
            "needs_background": "light"
          }
        }
      ]
    },
    {
      "cell_type": "code",
      "source": [
        "plot_sample(X_train,y_train,1)"
      ],
      "metadata": {
        "colab": {
          "base_uri": "https://localhost:8080/",
          "height": 173
        },
        "id": "af5GbfR9rI4j",
        "outputId": "4b569ae9-2798-4124-a285-6b33d6eb581d"
      },
      "execution_count": 10,
      "outputs": [
        {
          "output_type": "display_data",
          "data": {
            "text/plain": [
              "<Figure size 1080x144 with 1 Axes>"
            ],
            "image/png": "[encoded data removed]"
          },
          "metadata": {
            "needs_background": "light"
          }
        }
      ]
    },
    {
      "cell_type": "code",
      "source": [
        "#Now normalizing the data\n",
        "X_train=X_train/255\n",
        "X_test=X_test/255"
      ],
      "metadata": {
        "id": "S6Dv9ORarN9a"
      },
      "execution_count": 11,
      "outputs": []
    },
    {
      "cell_type": "code",
      "source": [
        "#Now going to make the model\n",
        "ann=models.Sequential(\n",
        "    [\n",
        "        layers.Flatten(input_shape=(32,32,3)),\n",
        "     layers.Dense(3000,activation=\"relu\"),\n",
        "     layers.Dense(1000,activation=\"relu\"),\n",
        "     layers.Dense(10,activation=\"sigmoid\")\n",
        "    ]\n",
        ")\n",
        "ann.compile(\n",
        "    loss=\"sparse_categorical_crossentropy\",\n",
        "    metrics=[\"accuracy\"]\n",
        ")\n",
        "ann.fit(X_train,y_train,epochs=5)"
      ],
      "metadata": {
        "colab": {
          "base_uri": "https://localhost:8080/"
        },
        "id": "H_kZUZ_KSRrT",
        "outputId": "4d91af85-13f1-4212-a4bb-add173b66632"
      },
      "execution_count": 12,
      "outputs": [
        {
          "output_type": "stream",
          "name": "stdout",
          "text": [
            "Epoch 1/5\n",
            "1563/1563 [==============================] - 19s 10ms/step - loss: 2.0664 - accuracy: 0.3096\n",
            "Epoch 2/5\n",
            "1563/1563 [==============================] - 12s 7ms/step - loss: 1.7202 - accuracy: 0.3864\n",
            "Epoch 3/5\n",
            "1563/1563 [==============================] - 11s 7ms/step - loss: 1.6570 - accuracy: 0.4132\n",
            "Epoch 4/5\n",
            "1563/1563 [==============================] - 15s 10ms/step - loss: 1.6210 - accuracy: 0.4266\n",
            "Epoch 5/5\n",
            "1563/1563 [==============================] - 13s 8ms/step - loss: 1.5979 - accuracy: 0.4329\n"
          ]
        },
        {
          "output_type": "execute_result",
          "data": {
            "text/plain": [
              "<keras.callbacks.History at 0x7f649029ee50>"
            ]
          },
          "metadata": {},
          "execution_count": 12
        }
      ]
    },
    {
      "cell_type": "code",
      "source": [
        "ann.evaluate(X_test,y_test)"
      ],
      "metadata": {
        "colab": {
          "base_uri": "https://localhost:8080/"
        },
        "id": "Lz7HUtn-TjH2",
        "outputId": "054e0026-c11b-4135-add9-45e1b693bb8c"
      },
      "execution_count": 13,
      "outputs": [
        {
          "output_type": "stream",
          "name": "stdout",
          "text": [
            "313/313 [==============================] - 1s 3ms/step - loss: 1.6991 - accuracy: 0.4009\n"
          ]
        },
        {
          "output_type": "execute_result",
          "data": {
            "text/plain": [
              "[1.6991097927093506, 0.4009000062942505]"
            ]
          },
          "metadata": {},
          "execution_count": 13
        }
      ]
    },
    {
      "cell_type": "code",
      "source": [
        "from sklearn.metrics import confusion_matrix,classification_report\n",
        "import numpy as np\n",
        "y_pred=ann.predict(X_test)\n",
        "y_pred_classes=[np.argmax(element) for element in y_pred]\n",
        "# y_pred_classes=np.argmax(y_pred, axis=1)\n",
        "# y_test_classes=[np.argmax(element) for element in y_test]\n",
        "print(\"Classification Report is \\n \",classification_report(y_test,y_pred_classes))"
      ],
      "metadata": {
        "colab": {
          "base_uri": "https://localhost:8080/"
        },
        "id": "PV6zT5O8U763",
        "outputId": "461c804a-03cb-483e-bfa4-b39e0d7a29b3"
      },
      "execution_count": 14,
      "outputs": [
        {
          "output_type": "stream",
          "name": "stdout",
          "text": [
            "313/313 [==============================] - 1s 2ms/step\n",
            "Classification Report is \n",
            "                precision    recall  f1-score   support\n",
            "\n",
            "           0       0.63      0.28      0.39      1000\n",
            "           1       0.53      0.51      0.52      1000\n",
            "           2       0.41      0.12      0.18      1000\n",
            "           3       0.29      0.40      0.33      1000\n",
            "           4       0.44      0.30      0.35      1000\n",
            "           5       0.47      0.21      0.29      1000\n",
            "           6       0.36      0.60      0.45      1000\n",
            "           7       0.67      0.31      0.42      1000\n",
            "           8       0.49      0.54      0.51      1000\n",
            "           9       0.30      0.77      0.43      1000\n",
            "\n",
            "    accuracy                           0.40     10000\n",
            "   macro avg       0.46      0.40      0.39     10000\n",
            "weighted avg       0.46      0.40      0.39     10000\n",
            "\n"
          ]
        }
      ]
    },
    {
      "cell_type": "code",
      "source": [
        "cnn=models.Sequential(\n",
        "    [\n",
        "      #cnn\n",
        "      layers.Conv2D(filters=32,kernel_size=(3,3),activation=\"relu\",input_shape=(32,32,3)),\n",
        "      layers.MaxPooling2D((2,2)),#this is max pooling of 2 by 2\n",
        "     layers.Conv2D(filters=32,kernel_size=(3,3),activation=\"relu\"),\n",
        "      layers.MaxPooling2D((2,2)),#this is max pooling of 2 by 2\n",
        "      #dense\n",
        "     layers.Flatten(),\n",
        "     layers.Dense(64,activation=\"relu\"),\n",
        "     layers.Dense(10,activation=\"softmax\")\n",
        "    ]\n",
        ")"
      ],
      "metadata": {
        "id": "6smn654zd3jv"
      },
      "execution_count": 17,
      "outputs": []
    },
    {
      "cell_type": "code",
      "source": [
        "cnn.compile(\n",
        "    optimizer='adam',\n",
        "    loss=\"sparse_categorical_crossentropy\",\n",
        "    metrics=[\"accuracy\"]\n",
        ")"
      ],
      "metadata": {
        "id": "MVHwuheBeVuL"
      },
      "execution_count": 18,
      "outputs": []
    },
    {
      "cell_type": "code",
      "source": [
        "cnn.fit(X_train,y_train,epochs=10)"
      ],
      "metadata": {
        "colab": {
          "base_uri": "https://localhost:8080/"
        },
        "id": "b-zNXrWYvDT8",
        "outputId": "7621bace-c279-4c8e-a98e-996abfc8eb00"
      },
      "execution_count": 19,
      "outputs": [
        {
          "output_type": "stream",
          "name": "stdout",
          "text": [
            "Epoch 1/10\n",
            "1563/1563 [==============================] - 12s 4ms/step - loss: 1.5194 - accuracy: 0.4521\n",
            "Epoch 2/10\n",
            "1563/1563 [==============================] - 6s 4ms/step - loss: 1.1869 - accuracy: 0.5824\n",
            "Epoch 3/10\n",
            "1563/1563 [==============================] - 6s 4ms/step - loss: 1.0619 - accuracy: 0.6273\n",
            "Epoch 4/10\n",
            "1563/1563 [==============================] - 6s 4ms/step - loss: 0.9798 - accuracy: 0.6580\n",
            "Epoch 5/10\n",
            "1563/1563 [==============================] - 6s 4ms/step - loss: 0.9228 - accuracy: 0.6776\n",
            "Epoch 6/10\n",
            "1563/1563 [==============================] - 6s 4ms/step - loss: 0.8752 - accuracy: 0.6951\n",
            "Epoch 7/10\n",
            "1563/1563 [==============================] - 6s 4ms/step - loss: 0.8318 - accuracy: 0.7086\n",
            "Epoch 8/10\n",
            "1563/1563 [==============================] - 6s 4ms/step - loss: 0.7981 - accuracy: 0.7231\n",
            "Epoch 9/10\n",
            "1563/1563 [==============================] - 7s 4ms/step - loss: 0.7632 - accuracy: 0.7325\n",
            "Epoch 10/10\n",
            "1563/1563 [==============================] - 5s 4ms/step - loss: 0.7325 - accuracy: 0.7413\n"
          ]
        },
        {
          "output_type": "execute_result",
          "data": {
            "text/plain": [
              "<keras.callbacks.History at 0x7f63d47b7c10>"
            ]
          },
          "metadata": {},
          "execution_count": 19
        }
      ]
    },
    {
      "cell_type": "code",
      "source": [
        "cnn.evaluate(X_test,y_test)"
      ],
      "metadata": {
        "colab": {
          "base_uri": "https://localhost:8080/"
        },
        "id": "kT9vYaEevJkw",
        "outputId": "4c6de1be-df0f-43bd-d935-80014a866b00"
      },
      "execution_count": 20,
      "outputs": [
        {
          "output_type": "stream",
          "name": "stdout",
          "text": [
            "313/313 [==============================] - 1s 4ms/step - loss: 0.9295 - accuracy: 0.6815\n"
          ]
        },
        {
          "output_type": "execute_result",
          "data": {
            "text/plain": [
              "[0.929543137550354, 0.6815000176429749]"
            ]
          },
          "metadata": {},
          "execution_count": 20
        }
      ]
    },
    {
      "cell_type": "code",
      "source": [
        "y_test[:5] #this is two dimesional array so convert it into 1d"
      ],
      "metadata": {
        "colab": {
          "base_uri": "https://localhost:8080/"
        },
        "id": "4lBgCNEhvjbH",
        "outputId": "af06b7e9-e016-4f15-ae21-e78c0a39d9fd"
      },
      "execution_count": 21,
      "outputs": [
        {
          "output_type": "execute_result",
          "data": {
            "text/plain": [
              "array([[3],\n",
              "       [8],\n",
              "       [8],\n",
              "       [0],\n",
              "       [6]], dtype=uint8)"
            ]
          },
          "metadata": {},
          "execution_count": 21
        }
      ]
    },
    {
      "cell_type": "code",
      "source": [
        "y_test=y_test.reshape(-1,)\n",
        "y_test[:5]"
      ],
      "metadata": {
        "colab": {
          "base_uri": "https://localhost:8080/"
        },
        "id": "eWWAiByNvlGK",
        "outputId": "3a98c2e5-aa01-4943-ceec-8e16a6a38faa"
      },
      "execution_count": 22,
      "outputs": [
        {
          "output_type": "execute_result",
          "data": {
            "text/plain": [
              "array([3, 8, 8, 0, 6], dtype=uint8)"
            ]
          },
          "metadata": {},
          "execution_count": 22
        }
      ]
    },
    {
      "cell_type": "code",
      "source": [
        "plot_sample(X_test,y_test,1)"
      ],
      "metadata": {
        "colab": {
          "base_uri": "https://localhost:8080/",
          "height": 173
        },
        "id": "tu8N3r9SvzIa",
        "outputId": "c51ecc85-7d9f-4c14-e95f-4aff2742ed91"
      },
      "execution_count": 23,
      "outputs": [
        {
          "output_type": "display_data",
          "data": {
            "text/plain": [
              "<Figure size 1080x144 with 1 Axes>"
            ],
            "image/png": "[encoded data removed]"
          },
          "metadata": {
            "needs_background": "light"
          }
        }
      ]
    },
    {
      "cell_type": "code",
      "source": [
        "y_pred=cnn.predict(X_test)\n",
        "y_pred[:5]"
      ],
      "metadata": {
        "colab": {
          "base_uri": "https://localhost:8080/"
        },
        "id": "lgHBPhC8v9Wl",
        "outputId": "2dbc9953-d1fa-4f70-dc11-2aca4b882e17"
      },
      "execution_count": 24,
      "outputs": [
        {
          "output_type": "stream",
          "name": "stdout",
          "text": [
            "313/313 [==============================] - 1s 3ms/step\n"
          ]
        },
        {
          "output_type": "execute_result",
          "data": {
            "text/plain": [
              "array([[4.6948681e-04, 1.3064235e-03, 6.0553644e-03, 8.1228000e-01,\n",
              "        9.1760932e-04, 1.6255298e-01, 2.6145093e-03, 3.1859796e-05,\n",
              "        1.0026230e-02, 3.7455887e-03],\n",
              "       [2.5807456e-03, 5.4822145e-03, 5.4214947e-06, 5.9244849e-06,\n",
              "        2.2035656e-09, 6.2030480e-08, 2.4430834e-08, 1.2440146e-08,\n",
              "        9.9191731e-01, 8.2878050e-06],\n",
              "       [7.2614299e-03, 3.6540350e-01, 5.0678855e-04, 2.2978445e-03,\n",
              "        2.9527733e-05, 7.9022044e-05, 5.8345578e-04, 3.5765686e-05,\n",
              "        6.1721534e-01, 6.5873349e-03],\n",
              "       [9.3603343e-01, 1.8710379e-03, 2.5138576e-03, 6.8785698e-04,\n",
              "        1.4744702e-04, 2.7727838e-05, 8.3851090e-05, 2.2090154e-04,\n",
              "        5.7025142e-02, 1.3887753e-03],\n",
              "       [2.5376295e-07, 9.1313123e-06, 3.5764635e-02, 4.3995492e-02,\n",
              "        5.5526084e-01, 1.1078983e-02, 3.5386840e-01, 1.9633571e-05,\n",
              "        2.1986134e-06, 4.5249874e-07]], dtype=float32)"
            ]
          },
          "metadata": {},
          "execution_count": 24
        }
      ]
    },
    {
      "cell_type": "code",
      "source": [
        "#to get the maximum value index we will use aurgmax\n",
        "y_pred_classes=[np.argmax(element) for element in y_pred]"
      ],
      "metadata": {
        "id": "FkT7zFrfwI1M"
      },
      "execution_count": 25,
      "outputs": []
    },
    {
      "cell_type": "code",
      "source": [
        "y_pred_classes[:5]#predicted values"
      ],
      "metadata": {
        "colab": {
          "base_uri": "https://localhost:8080/"
        },
        "id": "eUVpG50kwb6r",
        "outputId": "62a2290b-3653-42f8-c15d-c313cadc8293"
      },
      "execution_count": 27,
      "outputs": [
        {
          "output_type": "execute_result",
          "data": {
            "text/plain": [
              "[3, 8, 8, 0, 4]"
            ]
          },
          "metadata": {},
          "execution_count": 27
        }
      ]
    },
    {
      "cell_type": "code",
      "source": [
        "#actual values\n",
        "y_test[:5]"
      ],
      "metadata": {
        "colab": {
          "base_uri": "https://localhost:8080/"
        },
        "id": "GPA3vefXweLW",
        "outputId": "09bebc43-050c-4a15-b161-4ab7113aacb7"
      },
      "execution_count": 28,
      "outputs": [
        {
          "output_type": "execute_result",
          "data": {
            "text/plain": [
              "array([3, 8, 8, 0, 6], dtype=uint8)"
            ]
          },
          "metadata": {},
          "execution_count": 28
        }
      ]
    },
    {
      "cell_type": "code",
      "source": [
        "print(\"Classification Report is \\n \",classification_report(y_test,y_pred_classes))"
      ],
      "metadata": {
        "colab": {
          "base_uri": "https://localhost:8080/"
        },
        "id": "RJogwzf4woBY",
        "outputId": "f6364781-e37d-4151-961b-e91893a5fe31"
      },
      "execution_count": 29,
      "outputs": [
        {
          "output_type": "stream",
          "name": "stdout",
          "text": [
            "Classification Report is \n",
            "                precision    recall  f1-score   support\n",
            "\n",
            "           0       0.77      0.61      0.68      1000\n",
            "           1       0.77      0.84      0.81      1000\n",
            "           2       0.59      0.58      0.59      1000\n",
            "           3       0.51      0.49      0.50      1000\n",
            "           4       0.67      0.57      0.61      1000\n",
            "           5       0.60      0.58      0.59      1000\n",
            "           6       0.74      0.77      0.75      1000\n",
            "           7       0.72      0.75      0.74      1000\n",
            "           8       0.69      0.85      0.76      1000\n",
            "           9       0.75      0.76      0.75      1000\n",
            "\n",
            "    accuracy                           0.68     10000\n",
            "   macro avg       0.68      0.68      0.68     10000\n",
            "weighted avg       0.68      0.68      0.68     10000\n",
            "\n"
          ]
        }
      ]
    },
    {
      "cell_type": "code",
      "source": [],
      "metadata": {
        "id": "9nM_2oKWw-4M"
      },
      "execution_count": null,
      "outputs": []
    }
  ]
}